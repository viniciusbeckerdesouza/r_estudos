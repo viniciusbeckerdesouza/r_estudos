{
 "cells": [
  {
   "cell_type": "markdown",
   "metadata": {},
   "source": [
    "#### Tibbles"
   ]
  },
  {
   "cell_type": "code",
   "execution_count": 1,
   "metadata": {},
   "outputs": [
    {
     "name": "stderr",
     "output_type": "stream",
     "text": [
      "Warning message:\n",
      "\"package 'tidyverse' was built under R version 3.6.3\"-- Attaching packages --------------------------------------- tidyverse 1.3.0 --\n",
      "v ggplot2 3.3.2     v purrr   0.3.4\n",
      "v tibble  3.0.4     v dplyr   1.0.2\n",
      "v tidyr   1.1.2     v stringr 1.4.0\n",
      "v readr   1.3.1     v forcats 0.4.0\n",
      "Warning message:\n",
      "\"package 'ggplot2' was built under R version 3.6.3\"Warning message:\n",
      "\"package 'tibble' was built under R version 3.6.3\"Warning message:\n",
      "\"package 'tidyr' was built under R version 3.6.3\"Warning message:\n",
      "\"package 'purrr' was built under R version 3.6.3\"Warning message:\n",
      "\"package 'dplyr' was built under R version 3.6.3\"-- Conflicts ------------------------------------------ tidyverse_conflicts() --\n",
      "x dplyr::filter() masks stats::filter()\n",
      "x dplyr::lag()    masks stats::lag()\n"
     ]
    }
   ],
   "source": [
    "library(tidyverse)"
   ]
  },
  {
   "cell_type": "code",
   "execution_count": 2,
   "metadata": {},
   "outputs": [
    {
     "data": {
      "text/html": [
       "<table>\n",
       "<thead><tr><th scope=col>Sepal.Length</th><th scope=col>Sepal.Width</th><th scope=col>Petal.Length</th><th scope=col>Petal.Width</th><th scope=col>Species</th></tr></thead>\n",
       "<tbody>\n",
       "\t<tr><td>5.1   </td><td>3.5   </td><td>1.4   </td><td>0.2   </td><td>setosa</td></tr>\n",
       "\t<tr><td>4.9   </td><td>3.0   </td><td>1.4   </td><td>0.2   </td><td>setosa</td></tr>\n",
       "\t<tr><td>4.7   </td><td>3.2   </td><td>1.3   </td><td>0.2   </td><td>setosa</td></tr>\n",
       "\t<tr><td>4.6   </td><td>3.1   </td><td>1.5   </td><td>0.2   </td><td>setosa</td></tr>\n",
       "\t<tr><td>5.0   </td><td>3.6   </td><td>1.4   </td><td>0.2   </td><td>setosa</td></tr>\n",
       "\t<tr><td>5.4   </td><td>3.9   </td><td>1.7   </td><td>0.4   </td><td>setosa</td></tr>\n",
       "\t<tr><td>4.6   </td><td>3.4   </td><td>1.4   </td><td>0.3   </td><td>setosa</td></tr>\n",
       "\t<tr><td>5.0   </td><td>3.4   </td><td>1.5   </td><td>0.2   </td><td>setosa</td></tr>\n",
       "\t<tr><td>4.4   </td><td>2.9   </td><td>1.4   </td><td>0.2   </td><td>setosa</td></tr>\n",
       "\t<tr><td>4.9   </td><td>3.1   </td><td>1.5   </td><td>0.1   </td><td>setosa</td></tr>\n",
       "\t<tr><td>5.4   </td><td>3.7   </td><td>1.5   </td><td>0.2   </td><td>setosa</td></tr>\n",
       "\t<tr><td>4.8   </td><td>3.4   </td><td>1.6   </td><td>0.2   </td><td>setosa</td></tr>\n",
       "\t<tr><td>4.8   </td><td>3.0   </td><td>1.4   </td><td>0.1   </td><td>setosa</td></tr>\n",
       "\t<tr><td>4.3   </td><td>3.0   </td><td>1.1   </td><td>0.1   </td><td>setosa</td></tr>\n",
       "\t<tr><td>5.8   </td><td>4.0   </td><td>1.2   </td><td>0.2   </td><td>setosa</td></tr>\n",
       "\t<tr><td>5.7   </td><td>4.4   </td><td>1.5   </td><td>0.4   </td><td>setosa</td></tr>\n",
       "\t<tr><td>5.4   </td><td>3.9   </td><td>1.3   </td><td>0.4   </td><td>setosa</td></tr>\n",
       "\t<tr><td>5.1   </td><td>3.5   </td><td>1.4   </td><td>0.3   </td><td>setosa</td></tr>\n",
       "\t<tr><td>5.7   </td><td>3.8   </td><td>1.7   </td><td>0.3   </td><td>setosa</td></tr>\n",
       "\t<tr><td>5.1   </td><td>3.8   </td><td>1.5   </td><td>0.3   </td><td>setosa</td></tr>\n",
       "\t<tr><td>5.4   </td><td>3.4   </td><td>1.7   </td><td>0.2   </td><td>setosa</td></tr>\n",
       "\t<tr><td>5.1   </td><td>3.7   </td><td>1.5   </td><td>0.4   </td><td>setosa</td></tr>\n",
       "\t<tr><td>4.6   </td><td>3.6   </td><td>1.0   </td><td>0.2   </td><td>setosa</td></tr>\n",
       "\t<tr><td>5.1   </td><td>3.3   </td><td>1.7   </td><td>0.5   </td><td>setosa</td></tr>\n",
       "\t<tr><td>4.8   </td><td>3.4   </td><td>1.9   </td><td>0.2   </td><td>setosa</td></tr>\n",
       "\t<tr><td>5.0   </td><td>3.0   </td><td>1.6   </td><td>0.2   </td><td>setosa</td></tr>\n",
       "\t<tr><td>5.0   </td><td>3.4   </td><td>1.6   </td><td>0.4   </td><td>setosa</td></tr>\n",
       "\t<tr><td>5.2   </td><td>3.5   </td><td>1.5   </td><td>0.2   </td><td>setosa</td></tr>\n",
       "\t<tr><td>5.2   </td><td>3.4   </td><td>1.4   </td><td>0.2   </td><td>setosa</td></tr>\n",
       "\t<tr><td>4.7   </td><td>3.2   </td><td>1.6   </td><td>0.2   </td><td>setosa</td></tr>\n",
       "\t<tr><td>...</td><td>...</td><td>...</td><td>...</td><td>...</td></tr>\n",
       "\t<tr><td>6.9      </td><td>3.2      </td><td>5.7      </td><td>2.3      </td><td>virginica</td></tr>\n",
       "\t<tr><td>5.6      </td><td>2.8      </td><td>4.9      </td><td>2.0      </td><td>virginica</td></tr>\n",
       "\t<tr><td>7.7      </td><td>2.8      </td><td>6.7      </td><td>2.0      </td><td>virginica</td></tr>\n",
       "\t<tr><td>6.3      </td><td>2.7      </td><td>4.9      </td><td>1.8      </td><td>virginica</td></tr>\n",
       "\t<tr><td>6.7      </td><td>3.3      </td><td>5.7      </td><td>2.1      </td><td>virginica</td></tr>\n",
       "\t<tr><td>7.2      </td><td>3.2      </td><td>6.0      </td><td>1.8      </td><td>virginica</td></tr>\n",
       "\t<tr><td>6.2      </td><td>2.8      </td><td>4.8      </td><td>1.8      </td><td>virginica</td></tr>\n",
       "\t<tr><td>6.1      </td><td>3.0      </td><td>4.9      </td><td>1.8      </td><td>virginica</td></tr>\n",
       "\t<tr><td>6.4      </td><td>2.8      </td><td>5.6      </td><td>2.1      </td><td>virginica</td></tr>\n",
       "\t<tr><td>7.2      </td><td>3.0      </td><td>5.8      </td><td>1.6      </td><td>virginica</td></tr>\n",
       "\t<tr><td>7.4      </td><td>2.8      </td><td>6.1      </td><td>1.9      </td><td>virginica</td></tr>\n",
       "\t<tr><td>7.9      </td><td>3.8      </td><td>6.4      </td><td>2.0      </td><td>virginica</td></tr>\n",
       "\t<tr><td>6.4      </td><td>2.8      </td><td>5.6      </td><td>2.2      </td><td>virginica</td></tr>\n",
       "\t<tr><td>6.3      </td><td>2.8      </td><td>5.1      </td><td>1.5      </td><td>virginica</td></tr>\n",
       "\t<tr><td>6.1      </td><td>2.6      </td><td>5.6      </td><td>1.4      </td><td>virginica</td></tr>\n",
       "\t<tr><td>7.7      </td><td>3.0      </td><td>6.1      </td><td>2.3      </td><td>virginica</td></tr>\n",
       "\t<tr><td>6.3      </td><td>3.4      </td><td>5.6      </td><td>2.4      </td><td>virginica</td></tr>\n",
       "\t<tr><td>6.4      </td><td>3.1      </td><td>5.5      </td><td>1.8      </td><td>virginica</td></tr>\n",
       "\t<tr><td>6.0      </td><td>3.0      </td><td>4.8      </td><td>1.8      </td><td>virginica</td></tr>\n",
       "\t<tr><td>6.9      </td><td>3.1      </td><td>5.4      </td><td>2.1      </td><td>virginica</td></tr>\n",
       "\t<tr><td>6.7      </td><td>3.1      </td><td>5.6      </td><td>2.4      </td><td>virginica</td></tr>\n",
       "\t<tr><td>6.9      </td><td>3.1      </td><td>5.1      </td><td>2.3      </td><td>virginica</td></tr>\n",
       "\t<tr><td>5.8      </td><td>2.7      </td><td>5.1      </td><td>1.9      </td><td>virginica</td></tr>\n",
       "\t<tr><td>6.8      </td><td>3.2      </td><td>5.9      </td><td>2.3      </td><td>virginica</td></tr>\n",
       "\t<tr><td>6.7      </td><td>3.3      </td><td>5.7      </td><td>2.5      </td><td>virginica</td></tr>\n",
       "\t<tr><td>6.7      </td><td>3.0      </td><td>5.2      </td><td>2.3      </td><td>virginica</td></tr>\n",
       "\t<tr><td>6.3      </td><td>2.5      </td><td>5.0      </td><td>1.9      </td><td>virginica</td></tr>\n",
       "\t<tr><td>6.5      </td><td>3.0      </td><td>5.2      </td><td>2.0      </td><td>virginica</td></tr>\n",
       "\t<tr><td>6.2      </td><td>3.4      </td><td>5.4      </td><td>2.3      </td><td>virginica</td></tr>\n",
       "\t<tr><td>5.9      </td><td>3.0      </td><td>5.1      </td><td>1.8      </td><td>virginica</td></tr>\n",
       "</tbody>\n",
       "</table>\n"
      ],
      "text/latex": [
       "\\begin{tabular}{r|lllll}\n",
       " Sepal.Length & Sepal.Width & Petal.Length & Petal.Width & Species\\\\\n",
       "\\hline\n",
       "\t 5.1    & 3.5    & 1.4    & 0.2    & setosa\\\\\n",
       "\t 4.9    & 3.0    & 1.4    & 0.2    & setosa\\\\\n",
       "\t 4.7    & 3.2    & 1.3    & 0.2    & setosa\\\\\n",
       "\t 4.6    & 3.1    & 1.5    & 0.2    & setosa\\\\\n",
       "\t 5.0    & 3.6    & 1.4    & 0.2    & setosa\\\\\n",
       "\t 5.4    & 3.9    & 1.7    & 0.4    & setosa\\\\\n",
       "\t 4.6    & 3.4    & 1.4    & 0.3    & setosa\\\\\n",
       "\t 5.0    & 3.4    & 1.5    & 0.2    & setosa\\\\\n",
       "\t 4.4    & 2.9    & 1.4    & 0.2    & setosa\\\\\n",
       "\t 4.9    & 3.1    & 1.5    & 0.1    & setosa\\\\\n",
       "\t 5.4    & 3.7    & 1.5    & 0.2    & setosa\\\\\n",
       "\t 4.8    & 3.4    & 1.6    & 0.2    & setosa\\\\\n",
       "\t 4.8    & 3.0    & 1.4    & 0.1    & setosa\\\\\n",
       "\t 4.3    & 3.0    & 1.1    & 0.1    & setosa\\\\\n",
       "\t 5.8    & 4.0    & 1.2    & 0.2    & setosa\\\\\n",
       "\t 5.7    & 4.4    & 1.5    & 0.4    & setosa\\\\\n",
       "\t 5.4    & 3.9    & 1.3    & 0.4    & setosa\\\\\n",
       "\t 5.1    & 3.5    & 1.4    & 0.3    & setosa\\\\\n",
       "\t 5.7    & 3.8    & 1.7    & 0.3    & setosa\\\\\n",
       "\t 5.1    & 3.8    & 1.5    & 0.3    & setosa\\\\\n",
       "\t 5.4    & 3.4    & 1.7    & 0.2    & setosa\\\\\n",
       "\t 5.1    & 3.7    & 1.5    & 0.4    & setosa\\\\\n",
       "\t 4.6    & 3.6    & 1.0    & 0.2    & setosa\\\\\n",
       "\t 5.1    & 3.3    & 1.7    & 0.5    & setosa\\\\\n",
       "\t 4.8    & 3.4    & 1.9    & 0.2    & setosa\\\\\n",
       "\t 5.0    & 3.0    & 1.6    & 0.2    & setosa\\\\\n",
       "\t 5.0    & 3.4    & 1.6    & 0.4    & setosa\\\\\n",
       "\t 5.2    & 3.5    & 1.5    & 0.2    & setosa\\\\\n",
       "\t 5.2    & 3.4    & 1.4    & 0.2    & setosa\\\\\n",
       "\t 4.7    & 3.2    & 1.6    & 0.2    & setosa\\\\\n",
       "\t ... & ... & ... & ... & ...\\\\\n",
       "\t 6.9       & 3.2       & 5.7       & 2.3       & virginica\\\\\n",
       "\t 5.6       & 2.8       & 4.9       & 2.0       & virginica\\\\\n",
       "\t 7.7       & 2.8       & 6.7       & 2.0       & virginica\\\\\n",
       "\t 6.3       & 2.7       & 4.9       & 1.8       & virginica\\\\\n",
       "\t 6.7       & 3.3       & 5.7       & 2.1       & virginica\\\\\n",
       "\t 7.2       & 3.2       & 6.0       & 1.8       & virginica\\\\\n",
       "\t 6.2       & 2.8       & 4.8       & 1.8       & virginica\\\\\n",
       "\t 6.1       & 3.0       & 4.9       & 1.8       & virginica\\\\\n",
       "\t 6.4       & 2.8       & 5.6       & 2.1       & virginica\\\\\n",
       "\t 7.2       & 3.0       & 5.8       & 1.6       & virginica\\\\\n",
       "\t 7.4       & 2.8       & 6.1       & 1.9       & virginica\\\\\n",
       "\t 7.9       & 3.8       & 6.4       & 2.0       & virginica\\\\\n",
       "\t 6.4       & 2.8       & 5.6       & 2.2       & virginica\\\\\n",
       "\t 6.3       & 2.8       & 5.1       & 1.5       & virginica\\\\\n",
       "\t 6.1       & 2.6       & 5.6       & 1.4       & virginica\\\\\n",
       "\t 7.7       & 3.0       & 6.1       & 2.3       & virginica\\\\\n",
       "\t 6.3       & 3.4       & 5.6       & 2.4       & virginica\\\\\n",
       "\t 6.4       & 3.1       & 5.5       & 1.8       & virginica\\\\\n",
       "\t 6.0       & 3.0       & 4.8       & 1.8       & virginica\\\\\n",
       "\t 6.9       & 3.1       & 5.4       & 2.1       & virginica\\\\\n",
       "\t 6.7       & 3.1       & 5.6       & 2.4       & virginica\\\\\n",
       "\t 6.9       & 3.1       & 5.1       & 2.3       & virginica\\\\\n",
       "\t 5.8       & 2.7       & 5.1       & 1.9       & virginica\\\\\n",
       "\t 6.8       & 3.2       & 5.9       & 2.3       & virginica\\\\\n",
       "\t 6.7       & 3.3       & 5.7       & 2.5       & virginica\\\\\n",
       "\t 6.7       & 3.0       & 5.2       & 2.3       & virginica\\\\\n",
       "\t 6.3       & 2.5       & 5.0       & 1.9       & virginica\\\\\n",
       "\t 6.5       & 3.0       & 5.2       & 2.0       & virginica\\\\\n",
       "\t 6.2       & 3.4       & 5.4       & 2.3       & virginica\\\\\n",
       "\t 5.9       & 3.0       & 5.1       & 1.8       & virginica\\\\\n",
       "\\end{tabular}\n"
      ],
      "text/markdown": [
       "\n",
       "| Sepal.Length | Sepal.Width | Petal.Length | Petal.Width | Species |\n",
       "|---|---|---|---|---|\n",
       "| 5.1    | 3.5    | 1.4    | 0.2    | setosa |\n",
       "| 4.9    | 3.0    | 1.4    | 0.2    | setosa |\n",
       "| 4.7    | 3.2    | 1.3    | 0.2    | setosa |\n",
       "| 4.6    | 3.1    | 1.5    | 0.2    | setosa |\n",
       "| 5.0    | 3.6    | 1.4    | 0.2    | setosa |\n",
       "| 5.4    | 3.9    | 1.7    | 0.4    | setosa |\n",
       "| 4.6    | 3.4    | 1.4    | 0.3    | setosa |\n",
       "| 5.0    | 3.4    | 1.5    | 0.2    | setosa |\n",
       "| 4.4    | 2.9    | 1.4    | 0.2    | setosa |\n",
       "| 4.9    | 3.1    | 1.5    | 0.1    | setosa |\n",
       "| 5.4    | 3.7    | 1.5    | 0.2    | setosa |\n",
       "| 4.8    | 3.4    | 1.6    | 0.2    | setosa |\n",
       "| 4.8    | 3.0    | 1.4    | 0.1    | setosa |\n",
       "| 4.3    | 3.0    | 1.1    | 0.1    | setosa |\n",
       "| 5.8    | 4.0    | 1.2    | 0.2    | setosa |\n",
       "| 5.7    | 4.4    | 1.5    | 0.4    | setosa |\n",
       "| 5.4    | 3.9    | 1.3    | 0.4    | setosa |\n",
       "| 5.1    | 3.5    | 1.4    | 0.3    | setosa |\n",
       "| 5.7    | 3.8    | 1.7    | 0.3    | setosa |\n",
       "| 5.1    | 3.8    | 1.5    | 0.3    | setosa |\n",
       "| 5.4    | 3.4    | 1.7    | 0.2    | setosa |\n",
       "| 5.1    | 3.7    | 1.5    | 0.4    | setosa |\n",
       "| 4.6    | 3.6    | 1.0    | 0.2    | setosa |\n",
       "| 5.1    | 3.3    | 1.7    | 0.5    | setosa |\n",
       "| 4.8    | 3.4    | 1.9    | 0.2    | setosa |\n",
       "| 5.0    | 3.0    | 1.6    | 0.2    | setosa |\n",
       "| 5.0    | 3.4    | 1.6    | 0.4    | setosa |\n",
       "| 5.2    | 3.5    | 1.5    | 0.2    | setosa |\n",
       "| 5.2    | 3.4    | 1.4    | 0.2    | setosa |\n",
       "| 4.7    | 3.2    | 1.6    | 0.2    | setosa |\n",
       "| ... | ... | ... | ... | ... |\n",
       "| 6.9       | 3.2       | 5.7       | 2.3       | virginica |\n",
       "| 5.6       | 2.8       | 4.9       | 2.0       | virginica |\n",
       "| 7.7       | 2.8       | 6.7       | 2.0       | virginica |\n",
       "| 6.3       | 2.7       | 4.9       | 1.8       | virginica |\n",
       "| 6.7       | 3.3       | 5.7       | 2.1       | virginica |\n",
       "| 7.2       | 3.2       | 6.0       | 1.8       | virginica |\n",
       "| 6.2       | 2.8       | 4.8       | 1.8       | virginica |\n",
       "| 6.1       | 3.0       | 4.9       | 1.8       | virginica |\n",
       "| 6.4       | 2.8       | 5.6       | 2.1       | virginica |\n",
       "| 7.2       | 3.0       | 5.8       | 1.6       | virginica |\n",
       "| 7.4       | 2.8       | 6.1       | 1.9       | virginica |\n",
       "| 7.9       | 3.8       | 6.4       | 2.0       | virginica |\n",
       "| 6.4       | 2.8       | 5.6       | 2.2       | virginica |\n",
       "| 6.3       | 2.8       | 5.1       | 1.5       | virginica |\n",
       "| 6.1       | 2.6       | 5.6       | 1.4       | virginica |\n",
       "| 7.7       | 3.0       | 6.1       | 2.3       | virginica |\n",
       "| 6.3       | 3.4       | 5.6       | 2.4       | virginica |\n",
       "| 6.4       | 3.1       | 5.5       | 1.8       | virginica |\n",
       "| 6.0       | 3.0       | 4.8       | 1.8       | virginica |\n",
       "| 6.9       | 3.1       | 5.4       | 2.1       | virginica |\n",
       "| 6.7       | 3.1       | 5.6       | 2.4       | virginica |\n",
       "| 6.9       | 3.1       | 5.1       | 2.3       | virginica |\n",
       "| 5.8       | 2.7       | 5.1       | 1.9       | virginica |\n",
       "| 6.8       | 3.2       | 5.9       | 2.3       | virginica |\n",
       "| 6.7       | 3.3       | 5.7       | 2.5       | virginica |\n",
       "| 6.7       | 3.0       | 5.2       | 2.3       | virginica |\n",
       "| 6.3       | 2.5       | 5.0       | 1.9       | virginica |\n",
       "| 6.5       | 3.0       | 5.2       | 2.0       | virginica |\n",
       "| 6.2       | 3.4       | 5.4       | 2.3       | virginica |\n",
       "| 5.9       | 3.0       | 5.1       | 1.8       | virginica |\n",
       "\n"
      ],
      "text/plain": [
       "    Sepal.Length Sepal.Width Petal.Length Petal.Width Species  \n",
       "1   5.1          3.5         1.4          0.2         setosa   \n",
       "2   4.9          3.0         1.4          0.2         setosa   \n",
       "3   4.7          3.2         1.3          0.2         setosa   \n",
       "4   4.6          3.1         1.5          0.2         setosa   \n",
       "5   5.0          3.6         1.4          0.2         setosa   \n",
       "6   5.4          3.9         1.7          0.4         setosa   \n",
       "7   4.6          3.4         1.4          0.3         setosa   \n",
       "8   5.0          3.4         1.5          0.2         setosa   \n",
       "9   4.4          2.9         1.4          0.2         setosa   \n",
       "10  4.9          3.1         1.5          0.1         setosa   \n",
       "11  5.4          3.7         1.5          0.2         setosa   \n",
       "12  4.8          3.4         1.6          0.2         setosa   \n",
       "13  4.8          3.0         1.4          0.1         setosa   \n",
       "14  4.3          3.0         1.1          0.1         setosa   \n",
       "15  5.8          4.0         1.2          0.2         setosa   \n",
       "16  5.7          4.4         1.5          0.4         setosa   \n",
       "17  5.4          3.9         1.3          0.4         setosa   \n",
       "18  5.1          3.5         1.4          0.3         setosa   \n",
       "19  5.7          3.8         1.7          0.3         setosa   \n",
       "20  5.1          3.8         1.5          0.3         setosa   \n",
       "21  5.4          3.4         1.7          0.2         setosa   \n",
       "22  5.1          3.7         1.5          0.4         setosa   \n",
       "23  4.6          3.6         1.0          0.2         setosa   \n",
       "24  5.1          3.3         1.7          0.5         setosa   \n",
       "25  4.8          3.4         1.9          0.2         setosa   \n",
       "26  5.0          3.0         1.6          0.2         setosa   \n",
       "27  5.0          3.4         1.6          0.4         setosa   \n",
       "28  5.2          3.5         1.5          0.2         setosa   \n",
       "29  5.2          3.4         1.4          0.2         setosa   \n",
       "30  4.7          3.2         1.6          0.2         setosa   \n",
       "... ...          ...         ...          ...         ...      \n",
       "121 6.9          3.2         5.7          2.3         virginica\n",
       "122 5.6          2.8         4.9          2.0         virginica\n",
       "123 7.7          2.8         6.7          2.0         virginica\n",
       "124 6.3          2.7         4.9          1.8         virginica\n",
       "125 6.7          3.3         5.7          2.1         virginica\n",
       "126 7.2          3.2         6.0          1.8         virginica\n",
       "127 6.2          2.8         4.8          1.8         virginica\n",
       "128 6.1          3.0         4.9          1.8         virginica\n",
       "129 6.4          2.8         5.6          2.1         virginica\n",
       "130 7.2          3.0         5.8          1.6         virginica\n",
       "131 7.4          2.8         6.1          1.9         virginica\n",
       "132 7.9          3.8         6.4          2.0         virginica\n",
       "133 6.4          2.8         5.6          2.2         virginica\n",
       "134 6.3          2.8         5.1          1.5         virginica\n",
       "135 6.1          2.6         5.6          1.4         virginica\n",
       "136 7.7          3.0         6.1          2.3         virginica\n",
       "137 6.3          3.4         5.6          2.4         virginica\n",
       "138 6.4          3.1         5.5          1.8         virginica\n",
       "139 6.0          3.0         4.8          1.8         virginica\n",
       "140 6.9          3.1         5.4          2.1         virginica\n",
       "141 6.7          3.1         5.6          2.4         virginica\n",
       "142 6.9          3.1         5.1          2.3         virginica\n",
       "143 5.8          2.7         5.1          1.9         virginica\n",
       "144 6.8          3.2         5.9          2.3         virginica\n",
       "145 6.7          3.3         5.7          2.5         virginica\n",
       "146 6.7          3.0         5.2          2.3         virginica\n",
       "147 6.3          2.5         5.0          1.9         virginica\n",
       "148 6.5          3.0         5.2          2.0         virginica\n",
       "149 6.2          3.4         5.4          2.3         virginica\n",
       "150 5.9          3.0         5.1          1.8         virginica"
      ]
     },
     "metadata": {},
     "output_type": "display_data"
    }
   ],
   "source": [
    "# Abrindo dataframes como tibbles\n",
    "\n",
    "as_tibble(iris)"
   ]
  },
  {
   "cell_type": "code",
   "execution_count": 4,
   "metadata": {},
   "outputs": [
    {
     "data": {
      "text/html": [
       "<table>\n",
       "<thead><tr><th scope=col>x</th><th scope=col>y</th><th scope=col>z</th></tr></thead>\n",
       "<tbody>\n",
       "\t<tr><td>1 </td><td>1 </td><td> 2</td></tr>\n",
       "\t<tr><td>2 </td><td>1 </td><td> 5</td></tr>\n",
       "\t<tr><td>3 </td><td>1 </td><td>10</td></tr>\n",
       "\t<tr><td>4 </td><td>1 </td><td>17</td></tr>\n",
       "\t<tr><td>5 </td><td>1 </td><td>26</td></tr>\n",
       "</tbody>\n",
       "</table>\n"
      ],
      "text/latex": [
       "\\begin{tabular}{r|lll}\n",
       " x & y & z\\\\\n",
       "\\hline\n",
       "\t 1  & 1  &  2\\\\\n",
       "\t 2  & 1  &  5\\\\\n",
       "\t 3  & 1  & 10\\\\\n",
       "\t 4  & 1  & 17\\\\\n",
       "\t 5  & 1  & 26\\\\\n",
       "\\end{tabular}\n"
      ],
      "text/markdown": [
       "\n",
       "| x | y | z |\n",
       "|---|---|---|\n",
       "| 1  | 1  |  2 |\n",
       "| 2  | 1  |  5 |\n",
       "| 3  | 1  | 10 |\n",
       "| 4  | 1  | 17 |\n",
       "| 5  | 1  | 26 |\n",
       "\n"
      ],
      "text/plain": [
       "  x y z \n",
       "1 1 1  2\n",
       "2 2 1  5\n",
       "3 3 1 10\n",
       "4 4 1 17\n",
       "5 5 1 26"
      ]
     },
     "metadata": {},
     "output_type": "display_data"
    }
   ],
   "source": [
    "# criando um tibble\n",
    "\n",
    "tibble(\n",
    "  x = 1:5,\n",
    "  y = 1,\n",
    "  z = x^2+y\n",
    ")"
   ]
  },
  {
   "cell_type": "code",
   "execution_count": 5,
   "metadata": {},
   "outputs": [],
   "source": [
    "tb <- tibble(\n",
    "  `:)` = \"smile\", \n",
    "  ` ` = \"space\",\n",
    "  `2000` = \"number\"\n",
    ")"
   ]
  },
  {
   "cell_type": "code",
   "execution_count": 6,
   "metadata": {},
   "outputs": [
    {
     "data": {
      "text/html": [
       "<table>\n",
       "<thead><tr><th scope=col>:)</th><th scope=col> </th><th scope=col>2000</th></tr></thead>\n",
       "<tbody>\n",
       "\t<tr><td>smile </td><td>space </td><td>number</td></tr>\n",
       "</tbody>\n",
       "</table>\n"
      ],
      "text/latex": [
       "\\begin{tabular}{r|lll}\n",
       " :) &   & 2000\\\\\n",
       "\\hline\n",
       "\t smile  & space  & number\\\\\n",
       "\\end{tabular}\n"
      ],
      "text/markdown": [
       "\n",
       "| :) |   | 2000 |\n",
       "|---|---|---|\n",
       "| smile  | space  | number |\n",
       "\n"
      ],
      "text/plain": [
       "  :)          2000  \n",
       "1 smile space number"
      ]
     },
     "metadata": {},
     "output_type": "display_data"
    }
   ],
   "source": [
    "tb"
   ]
  },
  {
   "cell_type": "code",
   "execution_count": 7,
   "metadata": {},
   "outputs": [],
   "source": [
    "tb <- tibble(\n",
    "  `:)` = \"happy\", \n",
    "  `:(` = \"sad\",\n",
    "  `:*` = \"kiss\"\n",
    ")"
   ]
  },
  {
   "cell_type": "code",
   "execution_count": 8,
   "metadata": {},
   "outputs": [
    {
     "data": {
      "text/html": [
       "<table>\n",
       "<thead><tr><th scope=col>:)</th><th scope=col>:(</th><th scope=col>:*</th></tr></thead>\n",
       "<tbody>\n",
       "\t<tr><td>happy</td><td>sad  </td><td>kiss </td></tr>\n",
       "</tbody>\n",
       "</table>\n"
      ],
      "text/latex": [
       "\\begin{tabular}{r|lll}\n",
       " :) & :( & :*\\\\\n",
       "\\hline\n",
       "\t happy & sad   & kiss \\\\\n",
       "\\end{tabular}\n"
      ],
      "text/markdown": [
       "\n",
       "| :) | :( | :* |\n",
       "|---|---|---|\n",
       "| happy | sad   | kiss  |\n",
       "\n"
      ],
      "text/plain": [
       "  :)    :(  :*  \n",
       "1 happy sad kiss"
      ]
     },
     "metadata": {},
     "output_type": "display_data"
    }
   ],
   "source": [
    "tb"
   ]
  },
  {
   "cell_type": "code",
   "execution_count": 9,
   "metadata": {},
   "outputs": [
    {
     "data": {
      "text/html": [
       "<table>\n",
       "<thead><tr><th scope=col>x</th><th scope=col>y</th><th scope=col>z</th></tr></thead>\n",
       "<tbody>\n",
       "\t<tr><td>a  </td><td>2  </td><td>3.6</td></tr>\n",
       "\t<tr><td>b  </td><td>1  </td><td>8.5</td></tr>\n",
       "</tbody>\n",
       "</table>\n"
      ],
      "text/latex": [
       "\\begin{tabular}{r|lll}\n",
       " x & y & z\\\\\n",
       "\\hline\n",
       "\t a   & 2   & 3.6\\\\\n",
       "\t b   & 1   & 8.5\\\\\n",
       "\\end{tabular}\n"
      ],
      "text/markdown": [
       "\n",
       "| x | y | z |\n",
       "|---|---|---|\n",
       "| a   | 2   | 3.6 |\n",
       "| b   | 1   | 8.5 |\n",
       "\n"
      ],
      "text/plain": [
       "  x y z  \n",
       "1 a 2 3.6\n",
       "2 b 1 8.5"
      ]
     },
     "metadata": {},
     "output_type": "display_data"
    }
   ],
   "source": [
    "# transposição de tibble\n",
    "\n",
    "tribble(\n",
    "  ~x, ~y, ~z,\n",
    "  #--|--|----\n",
    "  \"a\", 2, 3.6,\n",
    "  \"b\", 1, 8.5\n",
    ")"
   ]
  },
  {
   "cell_type": "code",
   "execution_count": 10,
   "metadata": {},
   "outputs": [
    {
     "data": {
      "text/html": [
       "<table>\n",
       "<thead><tr><th scope=col>agua</th><th scope=col>cafe</th><th scope=col>cha</th></tr></thead>\n",
       "<tbody>\n",
       "\t<tr><td>80.0</td><td>2   </td><td>3.6 </td></tr>\n",
       "\t<tr><td>70.7</td><td>1   </td><td>8.5 </td></tr>\n",
       "</tbody>\n",
       "</table>\n"
      ],
      "text/latex": [
       "\\begin{tabular}{r|lll}\n",
       " agua & cafe & cha\\\\\n",
       "\\hline\n",
       "\t 80.0 & 2    & 3.6 \\\\\n",
       "\t 70.7 & 1    & 8.5 \\\\\n",
       "\\end{tabular}\n"
      ],
      "text/markdown": [
       "\n",
       "| agua | cafe | cha |\n",
       "|---|---|---|\n",
       "| 80.0 | 2    | 3.6  |\n",
       "| 70.7 | 1    | 8.5  |\n",
       "\n"
      ],
      "text/plain": [
       "  agua cafe cha\n",
       "1 80.0 2    3.6\n",
       "2 70.7 1    8.5"
      ]
     },
     "metadata": {},
     "output_type": "display_data"
    }
   ],
   "source": [
    "tribble(\n",
    "  ~agua, ~cafe, ~cha,\n",
    "  #--|--|----\n",
    "  80, 2, 3.6,\n",
    "  70.7, 1, 8.5\n",
    ")"
   ]
  },
  {
   "cell_type": "markdown",
   "metadata": {},
   "source": [
    "Print"
   ]
  },
  {
   "cell_type": "code",
   "execution_count": 15,
   "metadata": {},
   "outputs": [
    {
     "data": {
      "text/html": [
       "<table>\n",
       "<thead><tr><th scope=col>a</th><th scope=col>b</th><th scope=col>c</th><th scope=col>d</th><th scope=col>e</th></tr></thead>\n",
       "<tbody>\n",
       "\t<tr><td>2021-02-13 02:41:26</td><td>2021-02-13         </td><td> 1                 </td><td>0.93483443         </td><td>k                  </td></tr>\n",
       "\t<tr><td>2021-02-13 05:03:53</td><td>2021-02-23         </td><td> 2                 </td><td>0.07492084         </td><td>o                  </td></tr>\n",
       "\t<tr><td>2021-02-12 16:56:01</td><td>2021-02-27         </td><td> 3                 </td><td>0.02389218         </td><td>p                  </td></tr>\n",
       "\t<tr><td>2021-02-12 22:20:20</td><td>2021-03-07         </td><td> 4                 </td><td>0.74280757         </td><td>o                  </td></tr>\n",
       "\t<tr><td>2021-02-13 08:08:28</td><td>2021-03-06         </td><td> 5                 </td><td>0.53963037         </td><td>m                  </td></tr>\n",
       "\t<tr><td>2021-02-13 03:28:24</td><td>2021-03-05         </td><td> 6                 </td><td>0.54892935         </td><td>q                  </td></tr>\n",
       "\t<tr><td>2021-02-12 19:47:46</td><td>2021-03-01         </td><td> 7                 </td><td>0.38343873         </td><td>w                  </td></tr>\n",
       "\t<tr><td>2021-02-13 07:25:52</td><td>2021-03-04         </td><td> 8                 </td><td>0.13561752         </td><td>d                  </td></tr>\n",
       "\t<tr><td>2021-02-13 00:36:17</td><td>2021-02-17         </td><td> 9                 </td><td>0.29839373         </td><td>h                  </td></tr>\n",
       "\t<tr><td>2021-02-12 16:59:58</td><td>2021-02-22         </td><td>10                 </td><td>0.30527420         </td><td>n                  </td></tr>\n",
       "\t<tr><td>2021-02-13 01:26:09</td><td>2021-02-19         </td><td>11                 </td><td>0.86092810         </td><td>z                  </td></tr>\n",
       "\t<tr><td>2021-02-12 16:45:19</td><td>2021-02-24         </td><td>12                 </td><td>0.68884440         </td><td>o                  </td></tr>\n",
       "\t<tr><td>2021-02-12 22:02:12</td><td>2021-02-17         </td><td>13                 </td><td>0.95066157         </td><td>r                  </td></tr>\n",
       "\t<tr><td>2021-02-12 14:57:21</td><td>2021-03-05         </td><td>14                 </td><td>0.54292252         </td><td>t                  </td></tr>\n",
       "\t<tr><td>2021-02-12 16:39:37</td><td>2021-02-21         </td><td>15                 </td><td>0.85939596         </td><td>k                  </td></tr>\n",
       "\t<tr><td>2021-02-12 20:19:20</td><td>2021-02-26         </td><td>16                 </td><td>0.64466598         </td><td>y                  </td></tr>\n",
       "\t<tr><td>2021-02-13 04:29:47</td><td>2021-03-10         </td><td>17                 </td><td>0.56844401         </td><td>c                  </td></tr>\n",
       "\t<tr><td>2021-02-13 09:12:58</td><td>2021-02-15         </td><td>18                 </td><td>0.36180612         </td><td>o                  </td></tr>\n",
       "\t<tr><td>2021-02-12 11:19:30</td><td>2021-02-26         </td><td>19                 </td><td>0.13798087         </td><td>b                  </td></tr>\n",
       "\t<tr><td>2021-02-12 14:24:44</td><td>2021-02-19         </td><td>20                 </td><td>0.63024728         </td><td>e                  </td></tr>\n",
       "\t<tr><td>2021-02-12 22:59:13</td><td>2021-02-24         </td><td>21                 </td><td>0.34175305         </td><td>o                  </td></tr>\n",
       "\t<tr><td>2021-02-12 13:34:30</td><td>2021-03-01         </td><td>22                 </td><td>0.30906584         </td><td>l                  </td></tr>\n",
       "\t<tr><td>2021-02-13 01:51:32</td><td>2021-02-27         </td><td>23                 </td><td>0.89593654         </td><td>f                  </td></tr>\n",
       "\t<tr><td>2021-02-13 04:04:02</td><td>2021-02-28         </td><td>24                 </td><td>0.87392822         </td><td>z                  </td></tr>\n",
       "\t<tr><td>2021-02-12 12:29:39</td><td>2021-03-01         </td><td>25                 </td><td>0.18402246         </td><td>k                  </td></tr>\n",
       "\t<tr><td>2021-02-13 09:19:05</td><td>2021-02-23         </td><td>26                 </td><td>0.56623126         </td><td>v                  </td></tr>\n",
       "\t<tr><td>2021-02-12 22:33:07</td><td>2021-02-26         </td><td>27                 </td><td>0.55060163         </td><td>f                  </td></tr>\n",
       "\t<tr><td>2021-02-12 12:10:08</td><td>2021-02-24         </td><td>28                 </td><td>0.16885532         </td><td>q                  </td></tr>\n",
       "\t<tr><td>2021-02-13 03:34:22</td><td>2021-02-26         </td><td>29                 </td><td>0.57005563         </td><td>x                  </td></tr>\n",
       "\t<tr><td>2021-02-12 13:38:08</td><td>2021-03-11         </td><td>30                 </td><td>0.30458051         </td><td>n                  </td></tr>\n",
       "\t<tr><td>...</td><td>...</td><td>...</td><td>...</td><td>...</td></tr>\n",
       "\t<tr><td>2021-02-13 09:08:58</td><td>2021-03-07         </td><td> 971               </td><td>0.73641562         </td><td>g                  </td></tr>\n",
       "\t<tr><td>2021-02-12 18:31:31</td><td>2021-02-24         </td><td> 972               </td><td>0.23992400         </td><td>m                  </td></tr>\n",
       "\t<tr><td>2021-02-13 00:21:48</td><td>2021-02-21         </td><td> 973               </td><td>0.45429962         </td><td>n                  </td></tr>\n",
       "\t<tr><td>2021-02-13 03:58:47</td><td>2021-02-22         </td><td> 974               </td><td>0.44169389         </td><td>g                  </td></tr>\n",
       "\t<tr><td>2021-02-13 02:00:18</td><td>2021-03-02         </td><td> 975               </td><td>0.55277261         </td><td>r                  </td></tr>\n",
       "\t<tr><td>2021-02-13 03:49:05</td><td>2021-02-21         </td><td> 976               </td><td>0.19984809         </td><td>u                  </td></tr>\n",
       "\t<tr><td>2021-02-13 08:49:50</td><td>2021-03-01         </td><td> 977               </td><td>0.27297471         </td><td>o                  </td></tr>\n",
       "\t<tr><td>2021-02-13 00:40:21</td><td>2021-03-12         </td><td> 978               </td><td>0.85818659         </td><td>n                  </td></tr>\n",
       "\t<tr><td>2021-02-13 05:21:09</td><td>2021-02-14         </td><td> 979               </td><td>0.89519550         </td><td>e                  </td></tr>\n",
       "\t<tr><td>2021-02-12 17:04:19</td><td>2021-02-12         </td><td> 980               </td><td>0.91765165         </td><td>w                  </td></tr>\n",
       "\t<tr><td>2021-02-13 08:01:47</td><td>2021-02-17         </td><td> 981               </td><td>0.14949485         </td><td>q                  </td></tr>\n",
       "\t<tr><td>2021-02-12 19:01:24</td><td>2021-03-06         </td><td> 982               </td><td>0.80752022         </td><td>m                  </td></tr>\n",
       "\t<tr><td>2021-02-12 19:32:30</td><td>2021-02-12         </td><td> 983               </td><td>0.54447850         </td><td>o                  </td></tr>\n",
       "\t<tr><td>2021-02-12 16:08:04</td><td>2021-03-08         </td><td> 984               </td><td>0.01725158         </td><td>r                  </td></tr>\n",
       "\t<tr><td>2021-02-13 05:51:52</td><td>2021-02-14         </td><td> 985               </td><td>0.69352038         </td><td>n                  </td></tr>\n",
       "\t<tr><td>2021-02-12 20:28:11</td><td>2021-02-20         </td><td> 986               </td><td>0.07439148         </td><td>j                  </td></tr>\n",
       "\t<tr><td>2021-02-12 20:23:40</td><td>2021-02-15         </td><td> 987               </td><td>0.36239252         </td><td>w                  </td></tr>\n",
       "\t<tr><td>2021-02-13 02:01:18</td><td>2021-02-16         </td><td> 988               </td><td>0.50931370         </td><td>r                  </td></tr>\n",
       "\t<tr><td>2021-02-13 09:56:37</td><td>2021-03-10         </td><td> 989               </td><td>0.64524359         </td><td>o                  </td></tr>\n",
       "\t<tr><td>2021-02-13 09:34:28</td><td>2021-03-05         </td><td> 990               </td><td>0.34615458         </td><td>l                  </td></tr>\n",
       "\t<tr><td>2021-02-13 00:49:48</td><td>2021-03-13         </td><td> 991               </td><td>0.63020594         </td><td>g                  </td></tr>\n",
       "\t<tr><td>2021-02-13 10:01:14</td><td>2021-03-13         </td><td> 992               </td><td>0.93973467         </td><td>m                  </td></tr>\n",
       "\t<tr><td>2021-02-13 08:44:30</td><td>2021-03-12         </td><td> 993               </td><td>0.88409112         </td><td>s                  </td></tr>\n",
       "\t<tr><td>2021-02-12 15:35:15</td><td>2021-03-11         </td><td> 994               </td><td>0.05251587         </td><td>g                  </td></tr>\n",
       "\t<tr><td>2021-02-12 20:16:17</td><td>2021-03-08         </td><td> 995               </td><td>0.20488242         </td><td>p                  </td></tr>\n",
       "\t<tr><td>2021-02-12 11:42:53</td><td>2021-02-17         </td><td> 996               </td><td>0.41013834         </td><td>y                  </td></tr>\n",
       "\t<tr><td>2021-02-13 00:54:26</td><td>2021-03-02         </td><td> 997               </td><td>0.04801033         </td><td>l                  </td></tr>\n",
       "\t<tr><td>2021-02-12 23:49:53</td><td>2021-03-06         </td><td> 998               </td><td>0.94941599         </td><td>c                  </td></tr>\n",
       "\t<tr><td>2021-02-12 19:29:07</td><td>2021-02-25         </td><td> 999               </td><td>0.77332051         </td><td>f                  </td></tr>\n",
       "\t<tr><td>2021-02-13 03:05:23</td><td>2021-03-08         </td><td>1000               </td><td>0.13553673         </td><td>v                  </td></tr>\n",
       "</tbody>\n",
       "</table>\n"
      ],
      "text/latex": [
       "\\begin{tabular}{r|lllll}\n",
       " a & b & c & d & e\\\\\n",
       "\\hline\n",
       "\t 2021-02-13 02:41:26 & 2021-02-13          &  1                  & 0.93483443          & k                  \\\\\n",
       "\t 2021-02-13 05:03:53 & 2021-02-23          &  2                  & 0.07492084          & o                  \\\\\n",
       "\t 2021-02-12 16:56:01 & 2021-02-27          &  3                  & 0.02389218          & p                  \\\\\n",
       "\t 2021-02-12 22:20:20 & 2021-03-07          &  4                  & 0.74280757          & o                  \\\\\n",
       "\t 2021-02-13 08:08:28 & 2021-03-06          &  5                  & 0.53963037          & m                  \\\\\n",
       "\t 2021-02-13 03:28:24 & 2021-03-05          &  6                  & 0.54892935          & q                  \\\\\n",
       "\t 2021-02-12 19:47:46 & 2021-03-01          &  7                  & 0.38343873          & w                  \\\\\n",
       "\t 2021-02-13 07:25:52 & 2021-03-04          &  8                  & 0.13561752          & d                  \\\\\n",
       "\t 2021-02-13 00:36:17 & 2021-02-17          &  9                  & 0.29839373          & h                  \\\\\n",
       "\t 2021-02-12 16:59:58 & 2021-02-22          & 10                  & 0.30527420          & n                  \\\\\n",
       "\t 2021-02-13 01:26:09 & 2021-02-19          & 11                  & 0.86092810          & z                  \\\\\n",
       "\t 2021-02-12 16:45:19 & 2021-02-24          & 12                  & 0.68884440          & o                  \\\\\n",
       "\t 2021-02-12 22:02:12 & 2021-02-17          & 13                  & 0.95066157          & r                  \\\\\n",
       "\t 2021-02-12 14:57:21 & 2021-03-05          & 14                  & 0.54292252          & t                  \\\\\n",
       "\t 2021-02-12 16:39:37 & 2021-02-21          & 15                  & 0.85939596          & k                  \\\\\n",
       "\t 2021-02-12 20:19:20 & 2021-02-26          & 16                  & 0.64466598          & y                  \\\\\n",
       "\t 2021-02-13 04:29:47 & 2021-03-10          & 17                  & 0.56844401          & c                  \\\\\n",
       "\t 2021-02-13 09:12:58 & 2021-02-15          & 18                  & 0.36180612          & o                  \\\\\n",
       "\t 2021-02-12 11:19:30 & 2021-02-26          & 19                  & 0.13798087          & b                  \\\\\n",
       "\t 2021-02-12 14:24:44 & 2021-02-19          & 20                  & 0.63024728          & e                  \\\\\n",
       "\t 2021-02-12 22:59:13 & 2021-02-24          & 21                  & 0.34175305          & o                  \\\\\n",
       "\t 2021-02-12 13:34:30 & 2021-03-01          & 22                  & 0.30906584          & l                  \\\\\n",
       "\t 2021-02-13 01:51:32 & 2021-02-27          & 23                  & 0.89593654          & f                  \\\\\n",
       "\t 2021-02-13 04:04:02 & 2021-02-28          & 24                  & 0.87392822          & z                  \\\\\n",
       "\t 2021-02-12 12:29:39 & 2021-03-01          & 25                  & 0.18402246          & k                  \\\\\n",
       "\t 2021-02-13 09:19:05 & 2021-02-23          & 26                  & 0.56623126          & v                  \\\\\n",
       "\t 2021-02-12 22:33:07 & 2021-02-26          & 27                  & 0.55060163          & f                  \\\\\n",
       "\t 2021-02-12 12:10:08 & 2021-02-24          & 28                  & 0.16885532          & q                  \\\\\n",
       "\t 2021-02-13 03:34:22 & 2021-02-26          & 29                  & 0.57005563          & x                  \\\\\n",
       "\t 2021-02-12 13:38:08 & 2021-03-11          & 30                  & 0.30458051          & n                  \\\\\n",
       "\t ... & ... & ... & ... & ...\\\\\n",
       "\t 2021-02-13 09:08:58 & 2021-03-07          &  971                & 0.73641562          & g                  \\\\\n",
       "\t 2021-02-12 18:31:31 & 2021-02-24          &  972                & 0.23992400          & m                  \\\\\n",
       "\t 2021-02-13 00:21:48 & 2021-02-21          &  973                & 0.45429962          & n                  \\\\\n",
       "\t 2021-02-13 03:58:47 & 2021-02-22          &  974                & 0.44169389          & g                  \\\\\n",
       "\t 2021-02-13 02:00:18 & 2021-03-02          &  975                & 0.55277261          & r                  \\\\\n",
       "\t 2021-02-13 03:49:05 & 2021-02-21          &  976                & 0.19984809          & u                  \\\\\n",
       "\t 2021-02-13 08:49:50 & 2021-03-01          &  977                & 0.27297471          & o                  \\\\\n",
       "\t 2021-02-13 00:40:21 & 2021-03-12          &  978                & 0.85818659          & n                  \\\\\n",
       "\t 2021-02-13 05:21:09 & 2021-02-14          &  979                & 0.89519550          & e                  \\\\\n",
       "\t 2021-02-12 17:04:19 & 2021-02-12          &  980                & 0.91765165          & w                  \\\\\n",
       "\t 2021-02-13 08:01:47 & 2021-02-17          &  981                & 0.14949485          & q                  \\\\\n",
       "\t 2021-02-12 19:01:24 & 2021-03-06          &  982                & 0.80752022          & m                  \\\\\n",
       "\t 2021-02-12 19:32:30 & 2021-02-12          &  983                & 0.54447850          & o                  \\\\\n",
       "\t 2021-02-12 16:08:04 & 2021-03-08          &  984                & 0.01725158          & r                  \\\\\n",
       "\t 2021-02-13 05:51:52 & 2021-02-14          &  985                & 0.69352038          & n                  \\\\\n",
       "\t 2021-02-12 20:28:11 & 2021-02-20          &  986                & 0.07439148          & j                  \\\\\n",
       "\t 2021-02-12 20:23:40 & 2021-02-15          &  987                & 0.36239252          & w                  \\\\\n",
       "\t 2021-02-13 02:01:18 & 2021-02-16          &  988                & 0.50931370          & r                  \\\\\n",
       "\t 2021-02-13 09:56:37 & 2021-03-10          &  989                & 0.64524359          & o                  \\\\\n",
       "\t 2021-02-13 09:34:28 & 2021-03-05          &  990                & 0.34615458          & l                  \\\\\n",
       "\t 2021-02-13 00:49:48 & 2021-03-13          &  991                & 0.63020594          & g                  \\\\\n",
       "\t 2021-02-13 10:01:14 & 2021-03-13          &  992                & 0.93973467          & m                  \\\\\n",
       "\t 2021-02-13 08:44:30 & 2021-03-12          &  993                & 0.88409112          & s                  \\\\\n",
       "\t 2021-02-12 15:35:15 & 2021-03-11          &  994                & 0.05251587          & g                  \\\\\n",
       "\t 2021-02-12 20:16:17 & 2021-03-08          &  995                & 0.20488242          & p                  \\\\\n",
       "\t 2021-02-12 11:42:53 & 2021-02-17          &  996                & 0.41013834          & y                  \\\\\n",
       "\t 2021-02-13 00:54:26 & 2021-03-02          &  997                & 0.04801033          & l                  \\\\\n",
       "\t 2021-02-12 23:49:53 & 2021-03-06          &  998                & 0.94941599          & c                  \\\\\n",
       "\t 2021-02-12 19:29:07 & 2021-02-25          &  999                & 0.77332051          & f                  \\\\\n",
       "\t 2021-02-13 03:05:23 & 2021-03-08          & 1000                & 0.13553673          & v                  \\\\\n",
       "\\end{tabular}\n"
      ],
      "text/markdown": [
       "\n",
       "| a | b | c | d | e |\n",
       "|---|---|---|---|---|\n",
       "| 2021-02-13 02:41:26 | 2021-02-13          |  1                  | 0.93483443          | k                   |\n",
       "| 2021-02-13 05:03:53 | 2021-02-23          |  2                  | 0.07492084          | o                   |\n",
       "| 2021-02-12 16:56:01 | 2021-02-27          |  3                  | 0.02389218          | p                   |\n",
       "| 2021-02-12 22:20:20 | 2021-03-07          |  4                  | 0.74280757          | o                   |\n",
       "| 2021-02-13 08:08:28 | 2021-03-06          |  5                  | 0.53963037          | m                   |\n",
       "| 2021-02-13 03:28:24 | 2021-03-05          |  6                  | 0.54892935          | q                   |\n",
       "| 2021-02-12 19:47:46 | 2021-03-01          |  7                  | 0.38343873          | w                   |\n",
       "| 2021-02-13 07:25:52 | 2021-03-04          |  8                  | 0.13561752          | d                   |\n",
       "| 2021-02-13 00:36:17 | 2021-02-17          |  9                  | 0.29839373          | h                   |\n",
       "| 2021-02-12 16:59:58 | 2021-02-22          | 10                  | 0.30527420          | n                   |\n",
       "| 2021-02-13 01:26:09 | 2021-02-19          | 11                  | 0.86092810          | z                   |\n",
       "| 2021-02-12 16:45:19 | 2021-02-24          | 12                  | 0.68884440          | o                   |\n",
       "| 2021-02-12 22:02:12 | 2021-02-17          | 13                  | 0.95066157          | r                   |\n",
       "| 2021-02-12 14:57:21 | 2021-03-05          | 14                  | 0.54292252          | t                   |\n",
       "| 2021-02-12 16:39:37 | 2021-02-21          | 15                  | 0.85939596          | k                   |\n",
       "| 2021-02-12 20:19:20 | 2021-02-26          | 16                  | 0.64466598          | y                   |\n",
       "| 2021-02-13 04:29:47 | 2021-03-10          | 17                  | 0.56844401          | c                   |\n",
       "| 2021-02-13 09:12:58 | 2021-02-15          | 18                  | 0.36180612          | o                   |\n",
       "| 2021-02-12 11:19:30 | 2021-02-26          | 19                  | 0.13798087          | b                   |\n",
       "| 2021-02-12 14:24:44 | 2021-02-19          | 20                  | 0.63024728          | e                   |\n",
       "| 2021-02-12 22:59:13 | 2021-02-24          | 21                  | 0.34175305          | o                   |\n",
       "| 2021-02-12 13:34:30 | 2021-03-01          | 22                  | 0.30906584          | l                   |\n",
       "| 2021-02-13 01:51:32 | 2021-02-27          | 23                  | 0.89593654          | f                   |\n",
       "| 2021-02-13 04:04:02 | 2021-02-28          | 24                  | 0.87392822          | z                   |\n",
       "| 2021-02-12 12:29:39 | 2021-03-01          | 25                  | 0.18402246          | k                   |\n",
       "| 2021-02-13 09:19:05 | 2021-02-23          | 26                  | 0.56623126          | v                   |\n",
       "| 2021-02-12 22:33:07 | 2021-02-26          | 27                  | 0.55060163          | f                   |\n",
       "| 2021-02-12 12:10:08 | 2021-02-24          | 28                  | 0.16885532          | q                   |\n",
       "| 2021-02-13 03:34:22 | 2021-02-26          | 29                  | 0.57005563          | x                   |\n",
       "| 2021-02-12 13:38:08 | 2021-03-11          | 30                  | 0.30458051          | n                   |\n",
       "| ... | ... | ... | ... | ... |\n",
       "| 2021-02-13 09:08:58 | 2021-03-07          |  971                | 0.73641562          | g                   |\n",
       "| 2021-02-12 18:31:31 | 2021-02-24          |  972                | 0.23992400          | m                   |\n",
       "| 2021-02-13 00:21:48 | 2021-02-21          |  973                | 0.45429962          | n                   |\n",
       "| 2021-02-13 03:58:47 | 2021-02-22          |  974                | 0.44169389          | g                   |\n",
       "| 2021-02-13 02:00:18 | 2021-03-02          |  975                | 0.55277261          | r                   |\n",
       "| 2021-02-13 03:49:05 | 2021-02-21          |  976                | 0.19984809          | u                   |\n",
       "| 2021-02-13 08:49:50 | 2021-03-01          |  977                | 0.27297471          | o                   |\n",
       "| 2021-02-13 00:40:21 | 2021-03-12          |  978                | 0.85818659          | n                   |\n",
       "| 2021-02-13 05:21:09 | 2021-02-14          |  979                | 0.89519550          | e                   |\n",
       "| 2021-02-12 17:04:19 | 2021-02-12          |  980                | 0.91765165          | w                   |\n",
       "| 2021-02-13 08:01:47 | 2021-02-17          |  981                | 0.14949485          | q                   |\n",
       "| 2021-02-12 19:01:24 | 2021-03-06          |  982                | 0.80752022          | m                   |\n",
       "| 2021-02-12 19:32:30 | 2021-02-12          |  983                | 0.54447850          | o                   |\n",
       "| 2021-02-12 16:08:04 | 2021-03-08          |  984                | 0.01725158          | r                   |\n",
       "| 2021-02-13 05:51:52 | 2021-02-14          |  985                | 0.69352038          | n                   |\n",
       "| 2021-02-12 20:28:11 | 2021-02-20          |  986                | 0.07439148          | j                   |\n",
       "| 2021-02-12 20:23:40 | 2021-02-15          |  987                | 0.36239252          | w                   |\n",
       "| 2021-02-13 02:01:18 | 2021-02-16          |  988                | 0.50931370          | r                   |\n",
       "| 2021-02-13 09:56:37 | 2021-03-10          |  989                | 0.64524359          | o                   |\n",
       "| 2021-02-13 09:34:28 | 2021-03-05          |  990                | 0.34615458          | l                   |\n",
       "| 2021-02-13 00:49:48 | 2021-03-13          |  991                | 0.63020594          | g                   |\n",
       "| 2021-02-13 10:01:14 | 2021-03-13          |  992                | 0.93973467          | m                   |\n",
       "| 2021-02-13 08:44:30 | 2021-03-12          |  993                | 0.88409112          | s                   |\n",
       "| 2021-02-12 15:35:15 | 2021-03-11          |  994                | 0.05251587          | g                   |\n",
       "| 2021-02-12 20:16:17 | 2021-03-08          |  995                | 0.20488242          | p                   |\n",
       "| 2021-02-12 11:42:53 | 2021-02-17          |  996                | 0.41013834          | y                   |\n",
       "| 2021-02-13 00:54:26 | 2021-03-02          |  997                | 0.04801033          | l                   |\n",
       "| 2021-02-12 23:49:53 | 2021-03-06          |  998                | 0.94941599          | c                   |\n",
       "| 2021-02-12 19:29:07 | 2021-02-25          |  999                | 0.77332051          | f                   |\n",
       "| 2021-02-13 03:05:23 | 2021-03-08          | 1000                | 0.13553673          | v                   |\n",
       "\n"
      ],
      "text/plain": [
       "     a                   b          c    d          e  \n",
       "1    2021-02-13 02:41:26 2021-02-13  1   0.93483443 k  \n",
       "2    2021-02-13 05:03:53 2021-02-23  2   0.07492084 o  \n",
       "3    2021-02-12 16:56:01 2021-02-27  3   0.02389218 p  \n",
       "4    2021-02-12 22:20:20 2021-03-07  4   0.74280757 o  \n",
       "5    2021-02-13 08:08:28 2021-03-06  5   0.53963037 m  \n",
       "6    2021-02-13 03:28:24 2021-03-05  6   0.54892935 q  \n",
       "7    2021-02-12 19:47:46 2021-03-01  7   0.38343873 w  \n",
       "8    2021-02-13 07:25:52 2021-03-04  8   0.13561752 d  \n",
       "9    2021-02-13 00:36:17 2021-02-17  9   0.29839373 h  \n",
       "10   2021-02-12 16:59:58 2021-02-22 10   0.30527420 n  \n",
       "11   2021-02-13 01:26:09 2021-02-19 11   0.86092810 z  \n",
       "12   2021-02-12 16:45:19 2021-02-24 12   0.68884440 o  \n",
       "13   2021-02-12 22:02:12 2021-02-17 13   0.95066157 r  \n",
       "14   2021-02-12 14:57:21 2021-03-05 14   0.54292252 t  \n",
       "15   2021-02-12 16:39:37 2021-02-21 15   0.85939596 k  \n",
       "16   2021-02-12 20:19:20 2021-02-26 16   0.64466598 y  \n",
       "17   2021-02-13 04:29:47 2021-03-10 17   0.56844401 c  \n",
       "18   2021-02-13 09:12:58 2021-02-15 18   0.36180612 o  \n",
       "19   2021-02-12 11:19:30 2021-02-26 19   0.13798087 b  \n",
       "20   2021-02-12 14:24:44 2021-02-19 20   0.63024728 e  \n",
       "21   2021-02-12 22:59:13 2021-02-24 21   0.34175305 o  \n",
       "22   2021-02-12 13:34:30 2021-03-01 22   0.30906584 l  \n",
       "23   2021-02-13 01:51:32 2021-02-27 23   0.89593654 f  \n",
       "24   2021-02-13 04:04:02 2021-02-28 24   0.87392822 z  \n",
       "25   2021-02-12 12:29:39 2021-03-01 25   0.18402246 k  \n",
       "26   2021-02-13 09:19:05 2021-02-23 26   0.56623126 v  \n",
       "27   2021-02-12 22:33:07 2021-02-26 27   0.55060163 f  \n",
       "28   2021-02-12 12:10:08 2021-02-24 28   0.16885532 q  \n",
       "29   2021-02-13 03:34:22 2021-02-26 29   0.57005563 x  \n",
       "30   2021-02-12 13:38:08 2021-03-11 30   0.30458051 n  \n",
       "...  ...                 ...        ...  ...        ...\n",
       "971  2021-02-13 09:08:58 2021-03-07  971 0.73641562 g  \n",
       "972  2021-02-12 18:31:31 2021-02-24  972 0.23992400 m  \n",
       "973  2021-02-13 00:21:48 2021-02-21  973 0.45429962 n  \n",
       "974  2021-02-13 03:58:47 2021-02-22  974 0.44169389 g  \n",
       "975  2021-02-13 02:00:18 2021-03-02  975 0.55277261 r  \n",
       "976  2021-02-13 03:49:05 2021-02-21  976 0.19984809 u  \n",
       "977  2021-02-13 08:49:50 2021-03-01  977 0.27297471 o  \n",
       "978  2021-02-13 00:40:21 2021-03-12  978 0.85818659 n  \n",
       "979  2021-02-13 05:21:09 2021-02-14  979 0.89519550 e  \n",
       "980  2021-02-12 17:04:19 2021-02-12  980 0.91765165 w  \n",
       "981  2021-02-13 08:01:47 2021-02-17  981 0.14949485 q  \n",
       "982  2021-02-12 19:01:24 2021-03-06  982 0.80752022 m  \n",
       "983  2021-02-12 19:32:30 2021-02-12  983 0.54447850 o  \n",
       "984  2021-02-12 16:08:04 2021-03-08  984 0.01725158 r  \n",
       "985  2021-02-13 05:51:52 2021-02-14  985 0.69352038 n  \n",
       "986  2021-02-12 20:28:11 2021-02-20  986 0.07439148 j  \n",
       "987  2021-02-12 20:23:40 2021-02-15  987 0.36239252 w  \n",
       "988  2021-02-13 02:01:18 2021-02-16  988 0.50931370 r  \n",
       "989  2021-02-13 09:56:37 2021-03-10  989 0.64524359 o  \n",
       "990  2021-02-13 09:34:28 2021-03-05  990 0.34615458 l  \n",
       "991  2021-02-13 00:49:48 2021-03-13  991 0.63020594 g  \n",
       "992  2021-02-13 10:01:14 2021-03-13  992 0.93973467 m  \n",
       "993  2021-02-13 08:44:30 2021-03-12  993 0.88409112 s  \n",
       "994  2021-02-12 15:35:15 2021-03-11  994 0.05251587 g  \n",
       "995  2021-02-12 20:16:17 2021-03-08  995 0.20488242 p  \n",
       "996  2021-02-12 11:42:53 2021-02-17  996 0.41013834 y  \n",
       "997  2021-02-13 00:54:26 2021-03-02  997 0.04801033 l  \n",
       "998  2021-02-12 23:49:53 2021-03-06  998 0.94941599 c  \n",
       "999  2021-02-12 19:29:07 2021-02-25  999 0.77332051 f  \n",
       "1000 2021-02-13 03:05:23 2021-03-08 1000 0.13553673 v  "
      ]
     },
     "metadata": {},
     "output_type": "display_data"
    }
   ],
   "source": [
    "tibble(\n",
    "  a = lubridate::now() + runif(1e3) * 86400,\n",
    "  b = lubridate::today() + runif(1e3) * 30,\n",
    "  c = 1:1e3,\n",
    "  d = runif(1e3),\n",
    "  e = sample(letters, 1e3, replace = TRUE)\n",
    ")\n"
   ]
  },
  {
   "cell_type": "code",
   "execution_count": 12,
   "metadata": {},
   "outputs": [
    {
     "name": "stdout",
     "output_type": "stream",
     "text": [
      "# A tibble: 336,776 x 19\n",
      "    year month   day dep_time sched_dep_time dep_delay arr_time sched_arr_time\n",
      "   <int> <int> <int>    <int>          <int>     <dbl>    <int>          <int>\n",
      " 1  2013     1     1      517            515         2      830            819\n",
      " 2  2013     1     1      533            529         4      850            830\n",
      " 3  2013     1     1      542            540         2      923            850\n",
      " 4  2013     1     1      544            545        -1     1004           1022\n",
      " 5  2013     1     1      554            600        -6      812            837\n",
      " 6  2013     1     1      554            558        -4      740            728\n",
      " 7  2013     1     1      555            600        -5      913            854\n",
      " 8  2013     1     1      557            600        -3      709            723\n",
      " 9  2013     1     1      557            600        -3      838            846\n",
      "10  2013     1     1      558            600        -2      753            745\n",
      "   arr_delay carrier flight tailnum origin dest  air_time distance  hour minute\n",
      "       <dbl> <chr>    <int> <chr>   <chr>  <chr>    <dbl>    <dbl> <dbl>  <dbl>\n",
      " 1        11 UA        1545 N14228  EWR    IAH        227     1400     5     15\n",
      " 2        20 UA        1714 N24211  LGA    IAH        227     1416     5     29\n",
      " 3        33 AA        1141 N619AA  JFK    MIA        160     1089     5     40\n",
      " 4       -18 B6         725 N804JB  JFK    BQN        183     1576     5     45\n",
      " 5       -25 DL         461 N668DN  LGA    ATL        116      762     6      0\n",
      " 6        12 UA        1696 N39463  EWR    ORD        150      719     5     58\n",
      " 7        19 B6         507 N516JB  EWR    FLL        158     1065     6      0\n",
      " 8       -14 EV        5708 N829AS  LGA    IAD         53      229     6      0\n",
      " 9        -8 B6          79 N593JB  JFK    MCO        140      944     6      0\n",
      "10         8 AA         301 N3ALAA  LGA    ORD        138      733     6      0\n",
      "   time_hour          \n",
      "   <dttm>             \n",
      " 1 2013-01-01 05:00:00\n",
      " 2 2013-01-01 05:00:00\n",
      " 3 2013-01-01 05:00:00\n",
      " 4 2013-01-01 05:00:00\n",
      " 5 2013-01-01 06:00:00\n",
      " 6 2013-01-01 05:00:00\n",
      " 7 2013-01-01 06:00:00\n",
      " 8 2013-01-01 06:00:00\n",
      " 9 2013-01-01 06:00:00\n",
      "10 2013-01-01 06:00:00\n",
      "# ... with 336,766 more rows\n"
     ]
    }
   ],
   "source": [
    "nycflights13::flights %>% \n",
    "  print(n = 10, width = Inf)"
   ]
  },
  {
   "cell_type": "markdown",
   "metadata": {},
   "source": [
    "Subsetting"
   ]
  },
  {
   "cell_type": "code",
   "execution_count": 20,
   "metadata": {},
   "outputs": [
    {
     "data": {
      "text/html": [
       "<ol class=list-inline>\n",
       "\t<li>0.167155601782724</li>\n",
       "\t<li>7.7276723459363e-05</li>\n",
       "\t<li>0.79411652428098</li>\n",
       "\t<li>0.761908587766811</li>\n",
       "\t<li>0.0311838316265494</li>\n",
       "</ol>\n"
      ],
      "text/latex": [
       "\\begin{enumerate*}\n",
       "\\item 0.167155601782724\n",
       "\\item 7.7276723459363e-05\n",
       "\\item 0.79411652428098\n",
       "\\item 0.761908587766811\n",
       "\\item 0.0311838316265494\n",
       "\\end{enumerate*}\n"
      ],
      "text/markdown": [
       "1. 0.167155601782724\n",
       "2. 7.7276723459363e-05\n",
       "3. 0.79411652428098\n",
       "4. 0.761908587766811\n",
       "5. 0.0311838316265494\n",
       "\n",
       "\n"
      ],
      "text/plain": [
       "[1] 1.671556e-01 7.727672e-05 7.941165e-01 7.619086e-01 3.118383e-02"
      ]
     },
     "metadata": {},
     "output_type": "display_data"
    },
    {
     "data": {
      "text/html": [
       "<ol class=list-inline>\n",
       "\t<li>0.167155601782724</li>\n",
       "\t<li>7.7276723459363e-05</li>\n",
       "\t<li>0.79411652428098</li>\n",
       "\t<li>0.761908587766811</li>\n",
       "\t<li>0.0311838316265494</li>\n",
       "</ol>\n"
      ],
      "text/latex": [
       "\\begin{enumerate*}\n",
       "\\item 0.167155601782724\n",
       "\\item 7.7276723459363e-05\n",
       "\\item 0.79411652428098\n",
       "\\item 0.761908587766811\n",
       "\\item 0.0311838316265494\n",
       "\\end{enumerate*}\n"
      ],
      "text/markdown": [
       "1. 0.167155601782724\n",
       "2. 7.7276723459363e-05\n",
       "3. 0.79411652428098\n",
       "4. 0.761908587766811\n",
       "5. 0.0311838316265494\n",
       "\n",
       "\n"
      ],
      "text/plain": [
       "[1] 1.671556e-01 7.727672e-05 7.941165e-01 7.619086e-01 3.118383e-02"
      ]
     },
     "metadata": {},
     "output_type": "display_data"
    },
    {
     "data": {
      "text/html": [
       "<ol class=list-inline>\n",
       "\t<li>0.167155601782724</li>\n",
       "\t<li>7.7276723459363e-05</li>\n",
       "\t<li>0.79411652428098</li>\n",
       "\t<li>0.761908587766811</li>\n",
       "\t<li>0.0311838316265494</li>\n",
       "</ol>\n"
      ],
      "text/latex": [
       "\\begin{enumerate*}\n",
       "\\item 0.167155601782724\n",
       "\\item 7.7276723459363e-05\n",
       "\\item 0.79411652428098\n",
       "\\item 0.761908587766811\n",
       "\\item 0.0311838316265494\n",
       "\\end{enumerate*}\n"
      ],
      "text/markdown": [
       "1. 0.167155601782724\n",
       "2. 7.7276723459363e-05\n",
       "3. 0.79411652428098\n",
       "4. 0.761908587766811\n",
       "5. 0.0311838316265494\n",
       "\n",
       "\n"
      ],
      "text/plain": [
       "[1] 1.671556e-01 7.727672e-05 7.941165e-01 7.619086e-01 3.118383e-02"
      ]
     },
     "metadata": {},
     "output_type": "display_data"
    }
   ],
   "source": [
    "df <- tibble(\n",
    "  x = runif(5),\n",
    "  y = rnorm(5)\n",
    ")\n",
    "\n",
    "# Extract by name\n",
    "df$x\n",
    "#> [1] 0.73296674 0.23436542 0.66035540 0.03285612 0.46049161\n",
    "df[[\"x\"]]\n",
    "#> [1] 0.73296674 0.23436542 0.66035540 0.03285612 0.46049161\n",
    "\n",
    "# Extract by position\n",
    "df[[1]]\n",
    "#> [1] 0.73296674 0.23436542 0.66035540 0.03285612 0.46049161"
   ]
  },
  {
   "cell_type": "code",
   "execution_count": 21,
   "metadata": {},
   "outputs": [
    {
     "data": {
      "text/html": [
       "<ol class=list-inline>\n",
       "\t<li>0.167155601782724</li>\n",
       "\t<li>7.7276723459363e-05</li>\n",
       "\t<li>0.79411652428098</li>\n",
       "\t<li>0.761908587766811</li>\n",
       "\t<li>0.0311838316265494</li>\n",
       "</ol>\n"
      ],
      "text/latex": [
       "\\begin{enumerate*}\n",
       "\\item 0.167155601782724\n",
       "\\item 7.7276723459363e-05\n",
       "\\item 0.79411652428098\n",
       "\\item 0.761908587766811\n",
       "\\item 0.0311838316265494\n",
       "\\end{enumerate*}\n"
      ],
      "text/markdown": [
       "1. 0.167155601782724\n",
       "2. 7.7276723459363e-05\n",
       "3. 0.79411652428098\n",
       "4. 0.761908587766811\n",
       "5. 0.0311838316265494\n",
       "\n",
       "\n"
      ],
      "text/plain": [
       "[1] 1.671556e-01 7.727672e-05 7.941165e-01 7.619086e-01 3.118383e-02"
      ]
     },
     "metadata": {},
     "output_type": "display_data"
    },
    {
     "data": {
      "text/html": [
       "<ol class=list-inline>\n",
       "\t<li>0.167155601782724</li>\n",
       "\t<li>7.7276723459363e-05</li>\n",
       "\t<li>0.79411652428098</li>\n",
       "\t<li>0.761908587766811</li>\n",
       "\t<li>0.0311838316265494</li>\n",
       "</ol>\n"
      ],
      "text/latex": [
       "\\begin{enumerate*}\n",
       "\\item 0.167155601782724\n",
       "\\item 7.7276723459363e-05\n",
       "\\item 0.79411652428098\n",
       "\\item 0.761908587766811\n",
       "\\item 0.0311838316265494\n",
       "\\end{enumerate*}\n"
      ],
      "text/markdown": [
       "1. 0.167155601782724\n",
       "2. 7.7276723459363e-05\n",
       "3. 0.79411652428098\n",
       "4. 0.761908587766811\n",
       "5. 0.0311838316265494\n",
       "\n",
       "\n"
      ],
      "text/plain": [
       "[1] 1.671556e-01 7.727672e-05 7.941165e-01 7.619086e-01 3.118383e-02"
      ]
     },
     "metadata": {},
     "output_type": "display_data"
    }
   ],
   "source": [
    "df %>% .$x\n",
    "#> [1] 0.73296674 0.23436542 0.66035540 0.03285612 0.46049161\n",
    "df %>% .[[\"x\"]]\n",
    "#> [1] 0.73296674 0.23436542 0.66035540 0.03285612 0.46049161"
   ]
  },
  {
   "cell_type": "markdown",
   "metadata": {},
   "source": [
    "How can you tell if an object is a tibble? (Hint: try printing mtcars, which is a regular data frame)."
   ]
  },
  {
   "cell_type": "code",
   "execution_count": 22,
   "metadata": {},
   "outputs": [
    {
     "name": "stdout",
     "output_type": "stream",
     "text": [
      "                     mpg cyl  disp  hp drat    wt  qsec vs am gear carb\n",
      "Mazda RX4           21.0   6 160.0 110 3.90 2.620 16.46  0  1    4    4\n",
      "Mazda RX4 Wag       21.0   6 160.0 110 3.90 2.875 17.02  0  1    4    4\n",
      "Datsun 710          22.8   4 108.0  93 3.85 2.320 18.61  1  1    4    1\n",
      "Hornet 4 Drive      21.4   6 258.0 110 3.08 3.215 19.44  1  0    3    1\n",
      "Hornet Sportabout   18.7   8 360.0 175 3.15 3.440 17.02  0  0    3    2\n",
      "Valiant             18.1   6 225.0 105 2.76 3.460 20.22  1  0    3    1\n",
      "Duster 360          14.3   8 360.0 245 3.21 3.570 15.84  0  0    3    4\n",
      "Merc 240D           24.4   4 146.7  62 3.69 3.190 20.00  1  0    4    2\n",
      "Merc 230            22.8   4 140.8  95 3.92 3.150 22.90  1  0    4    2\n",
      "Merc 280            19.2   6 167.6 123 3.92 3.440 18.30  1  0    4    4\n",
      "Merc 280C           17.8   6 167.6 123 3.92 3.440 18.90  1  0    4    4\n",
      "Merc 450SE          16.4   8 275.8 180 3.07 4.070 17.40  0  0    3    3\n",
      "Merc 450SL          17.3   8 275.8 180 3.07 3.730 17.60  0  0    3    3\n",
      "Merc 450SLC         15.2   8 275.8 180 3.07 3.780 18.00  0  0    3    3\n",
      "Cadillac Fleetwood  10.4   8 472.0 205 2.93 5.250 17.98  0  0    3    4\n",
      "Lincoln Continental 10.4   8 460.0 215 3.00 5.424 17.82  0  0    3    4\n",
      "Chrysler Imperial   14.7   8 440.0 230 3.23 5.345 17.42  0  0    3    4\n",
      "Fiat 128            32.4   4  78.7  66 4.08 2.200 19.47  1  1    4    1\n",
      "Honda Civic         30.4   4  75.7  52 4.93 1.615 18.52  1  1    4    2\n",
      "Toyota Corolla      33.9   4  71.1  65 4.22 1.835 19.90  1  1    4    1\n",
      "Toyota Corona       21.5   4 120.1  97 3.70 2.465 20.01  1  0    3    1\n",
      "Dodge Challenger    15.5   8 318.0 150 2.76 3.520 16.87  0  0    3    2\n",
      "AMC Javelin         15.2   8 304.0 150 3.15 3.435 17.30  0  0    3    2\n",
      "Camaro Z28          13.3   8 350.0 245 3.73 3.840 15.41  0  0    3    4\n",
      "Pontiac Firebird    19.2   8 400.0 175 3.08 3.845 17.05  0  0    3    2\n",
      "Fiat X1-9           27.3   4  79.0  66 4.08 1.935 18.90  1  1    4    1\n",
      "Porsche 914-2       26.0   4 120.3  91 4.43 2.140 16.70  0  1    5    2\n",
      "Lotus Europa        30.4   4  95.1 113 3.77 1.513 16.90  1  1    5    2\n",
      "Ford Pantera L      15.8   8 351.0 264 4.22 3.170 14.50  0  1    5    4\n",
      "Ferrari Dino        19.7   6 145.0 175 3.62 2.770 15.50  0  1    5    6\n",
      "Maserati Bora       15.0   8 301.0 335 3.54 3.570 14.60  0  1    5    8\n",
      "Volvo 142E          21.4   4 121.0 109 4.11 2.780 18.60  1  1    4    2\n"
     ]
    }
   ],
   "source": [
    "print(mtcars)"
   ]
  },
  {
   "cell_type": "code",
   "execution_count": 24,
   "metadata": {},
   "outputs": [],
   "source": [
    "m = as_tibble(mtcars)"
   ]
  },
  {
   "cell_type": "code",
   "execution_count": 25,
   "metadata": {},
   "outputs": [
    {
     "name": "stdout",
     "output_type": "stream",
     "text": [
      "# A tibble: 32 x 11\n",
      "    mpg   cyl  disp    hp  drat    wt  qsec    vs    am  gear  carb\n",
      "  <dbl> <dbl> <dbl> <dbl> <dbl> <dbl> <dbl> <dbl> <dbl> <dbl> <dbl>\n",
      "1    21     6   160   110   3.9  2.62  16.5     0     1     4     4\n",
      "2    21     6   160   110   3.9  2.88  17.0     0     1     4     4\n",
      "# ... with 30 more rows\n"
     ]
    }
   ],
   "source": [
    "print(m)"
   ]
  },
  {
   "cell_type": "markdown",
   "metadata": {},
   "source": [
    "Compare and contrast the following operations on a data.frame and equivalent tibble. What is different? Why might the default data frame behaviours cause you frustration?"
   ]
  },
  {
   "cell_type": "code",
   "execution_count": 26,
   "metadata": {},
   "outputs": [
    {
     "data": {
      "text/html": [
       "a\n",
       "<details>\n",
       "\t<summary style=display:list-item;cursor:pointer>\n",
       "\t\t<strong>Levels</strong>:\n",
       "\t</summary>\n",
       "\t'a'\n",
       "</details>"
      ],
      "text/latex": [
       "a\n",
       "\\emph{Levels}: 'a'"
      ],
      "text/markdown": [
       "a\n",
       "**Levels**: 'a'"
      ],
      "text/plain": [
       "[1] a\n",
       "Levels: a"
      ]
     },
     "metadata": {},
     "output_type": "display_data"
    },
    {
     "data": {
      "text/html": [
       "a\n",
       "<details>\n",
       "\t<summary style=display:list-item;cursor:pointer>\n",
       "\t\t<strong>Levels</strong>:\n",
       "\t</summary>\n",
       "\t'a'\n",
       "</details>"
      ],
      "text/latex": [
       "a\n",
       "\\emph{Levels}: 'a'"
      ],
      "text/markdown": [
       "a\n",
       "**Levels**: 'a'"
      ],
      "text/plain": [
       "[1] a\n",
       "Levels: a"
      ]
     },
     "metadata": {},
     "output_type": "display_data"
    },
    {
     "data": {
      "text/html": [
       "<table>\n",
       "<thead><tr><th scope=col>abc</th><th scope=col>xyz</th></tr></thead>\n",
       "<tbody>\n",
       "\t<tr><td>1</td><td>a</td></tr>\n",
       "</tbody>\n",
       "</table>\n"
      ],
      "text/latex": [
       "\\begin{tabular}{r|ll}\n",
       " abc & xyz\\\\\n",
       "\\hline\n",
       "\t 1 & a\\\\\n",
       "\\end{tabular}\n"
      ],
      "text/markdown": [
       "\n",
       "| abc | xyz |\n",
       "|---|---|\n",
       "| 1 | a |\n",
       "\n"
      ],
      "text/plain": [
       "  abc xyz\n",
       "1 1   a  "
      ]
     },
     "metadata": {},
     "output_type": "display_data"
    }
   ],
   "source": [
    "df <- data.frame(abc = 1, xyz = \"a\")\n",
    "df$x\n",
    "df[, \"xyz\"]\n",
    "df[, c(\"abc\", \"xyz\")]"
   ]
  },
  {
   "cell_type": "code",
   "execution_count": 29,
   "metadata": {},
   "outputs": [
    {
     "data": {
      "text/html": [
       "<table>\n",
       "<thead><tr><th scope=col>xyz</th></tr></thead>\n",
       "<tbody>\n",
       "\t<tr><td>a</td></tr>\n",
       "</tbody>\n",
       "</table>\n"
      ],
      "text/latex": [
       "\\begin{tabular}{r|l}\n",
       " xyz\\\\\n",
       "\\hline\n",
       "\t a\\\\\n",
       "\\end{tabular}\n"
      ],
      "text/markdown": [
       "\n",
       "| xyz |\n",
       "|---|\n",
       "| a |\n",
       "\n"
      ],
      "text/plain": [
       "  xyz\n",
       "1 a  "
      ]
     },
     "metadata": {},
     "output_type": "display_data"
    },
    {
     "data": {
      "text/html": [
       "<table>\n",
       "<thead><tr><th scope=col>abc</th><th scope=col>xyz</th></tr></thead>\n",
       "<tbody>\n",
       "\t<tr><td>1</td><td>a</td></tr>\n",
       "</tbody>\n",
       "</table>\n"
      ],
      "text/latex": [
       "\\begin{tabular}{r|ll}\n",
       " abc & xyz\\\\\n",
       "\\hline\n",
       "\t 1 & a\\\\\n",
       "\\end{tabular}\n"
      ],
      "text/markdown": [
       "\n",
       "| abc | xyz |\n",
       "|---|---|\n",
       "| 1 | a |\n",
       "\n"
      ],
      "text/plain": [
       "  abc xyz\n",
       "1 1   a  "
      ]
     },
     "metadata": {},
     "output_type": "display_data"
    }
   ],
   "source": [
    "tb <- tibble(abc = 1, xyz = \"a\")\n",
    "\n",
    "tb[, \"xyz\"]\n",
    "tb[, c(\"abc\", \"xyz\")]"
   ]
  },
  {
   "cell_type": "markdown",
   "metadata": {},
   "source": [
    "If you have the name of a variable stored in an object, e.g. var <- \"mpg\", how can you extract the reference variable from a tibble?"
   ]
  },
  {
   "cell_type": "code",
   "execution_count": 30,
   "metadata": {},
   "outputs": [],
   "source": [
    "var <- \"mpg\""
   ]
  },
  {
   "cell_type": "code",
   "execution_count": 31,
   "metadata": {},
   "outputs": [
    {
     "data": {
      "text/html": [
       "'mpg'"
      ],
      "text/latex": [
       "'mpg'"
      ],
      "text/markdown": [
       "'mpg'"
      ],
      "text/plain": [
       "[1] \"mpg\""
      ]
     },
     "metadata": {},
     "output_type": "display_data"
    }
   ],
   "source": [
    "var"
   ]
  },
  {
   "cell_type": "markdown",
   "metadata": {},
   "source": [
    "Practice referring to non-syntactic names in the following data frame"
   ]
  },
  {
   "cell_type": "code",
   "execution_count": 32,
   "metadata": {},
   "outputs": [],
   "source": [
    "annoying <- tibble(\n",
    "  `1` = 1:10,\n",
    "  `2` = `1` * 2 + rnorm(length(`1`))\n",
    ")"
   ]
  },
  {
   "cell_type": "code",
   "execution_count": 34,
   "metadata": {},
   "outputs": [
    {
     "data": {
      "text/html": [
       "<ol class=list-inline>\n",
       "\t<li>1</li>\n",
       "\t<li>2</li>\n",
       "\t<li>3</li>\n",
       "\t<li>4</li>\n",
       "\t<li>5</li>\n",
       "\t<li>6</li>\n",
       "\t<li>7</li>\n",
       "\t<li>8</li>\n",
       "\t<li>9</li>\n",
       "\t<li>10</li>\n",
       "</ol>\n"
      ],
      "text/latex": [
       "\\begin{enumerate*}\n",
       "\\item 1\n",
       "\\item 2\n",
       "\\item 3\n",
       "\\item 4\n",
       "\\item 5\n",
       "\\item 6\n",
       "\\item 7\n",
       "\\item 8\n",
       "\\item 9\n",
       "\\item 10\n",
       "\\end{enumerate*}\n"
      ],
      "text/markdown": [
       "1. 1\n",
       "2. 2\n",
       "3. 3\n",
       "4. 4\n",
       "5. 5\n",
       "6. 6\n",
       "7. 7\n",
       "8. 8\n",
       "9. 9\n",
       "10. 10\n",
       "\n",
       "\n"
      ],
      "text/plain": [
       " [1]  1  2  3  4  5  6  7  8  9 10"
      ]
     },
     "metadata": {},
     "output_type": "display_data"
    }
   ],
   "source": [
    "annoying$`1`"
   ]
  },
  {
   "cell_type": "code",
   "execution_count": 39,
   "metadata": {},
   "outputs": [
    {
     "data": {
      "image/png": "[encoded data removed]",
      "text/plain": [
       "plot without title"
      ]
     },
     "metadata": {},
     "output_type": "display_data"
    }
   ],
   "source": [
    "ggplot(data = annoying, mapping = aes(x = `1`, y = `2`)) +\n",
    "  geom_point()"
   ]
  },
  {
   "cell_type": "code",
   "execution_count": 50,
   "metadata": {},
   "outputs": [
    {
     "ename": "ERROR",
     "evalue": "Error in annoying$`2`/annoying$`1`: argumento não-numérico para operador binário\n",
     "output_type": "error",
     "traceback": [
      "Error in annoying$`2`/annoying$`1`: argumento não-numérico para operador binário\nTraceback:\n"
     ]
    }
   ],
   "source": [
    "annoying$`3` = annoying$`2` / annoying$`1`"
   ]
  },
  {
   "cell_type": "code",
   "execution_count": 43,
   "metadata": {},
   "outputs": [
    {
     "data": {
      "text/html": [
       "<table>\n",
       "<thead><tr><th scope=col>1</th><th scope=col>2</th><th scope=col>3</th></tr></thead>\n",
       "<tbody>\n",
       "\t<tr><td> 1       </td><td> 1.560062</td><td>1.560062 </td></tr>\n",
       "\t<tr><td> 2       </td><td> 1.827726</td><td>0.913863 </td></tr>\n",
       "\t<tr><td> 3       </td><td> 3.803639</td><td>1.267880 </td></tr>\n",
       "\t<tr><td> 4       </td><td> 7.264778</td><td>1.816194 </td></tr>\n",
       "\t<tr><td> 5       </td><td>10.329138</td><td>2.065828 </td></tr>\n",
       "\t<tr><td> 6       </td><td>13.775128</td><td>2.295855 </td></tr>\n",
       "\t<tr><td> 7       </td><td>12.251500</td><td>1.750214 </td></tr>\n",
       "\t<tr><td> 8       </td><td>15.293980</td><td>1.911748 </td></tr>\n",
       "\t<tr><td> 9       </td><td>15.812850</td><td>1.756983 </td></tr>\n",
       "\t<tr><td>10       </td><td>17.883324</td><td>1.788332 </td></tr>\n",
       "</tbody>\n",
       "</table>\n"
      ],
      "text/latex": [
       "\\begin{tabular}{r|lll}\n",
       " 1 & 2 & 3\\\\\n",
       "\\hline\n",
       "\t  1        &  1.560062 & 1.560062 \\\\\n",
       "\t  2        &  1.827726 & 0.913863 \\\\\n",
       "\t  3        &  3.803639 & 1.267880 \\\\\n",
       "\t  4        &  7.264778 & 1.816194 \\\\\n",
       "\t  5        & 10.329138 & 2.065828 \\\\\n",
       "\t  6        & 13.775128 & 2.295855 \\\\\n",
       "\t  7        & 12.251500 & 1.750214 \\\\\n",
       "\t  8        & 15.293980 & 1.911748 \\\\\n",
       "\t  9        & 15.812850 & 1.756983 \\\\\n",
       "\t 10        & 17.883324 & 1.788332 \\\\\n",
       "\\end{tabular}\n"
      ],
      "text/markdown": [
       "\n",
       "| 1 | 2 | 3 |\n",
       "|---|---|---|\n",
       "|  1        |  1.560062 | 1.560062  |\n",
       "|  2        |  1.827726 | 0.913863  |\n",
       "|  3        |  3.803639 | 1.267880  |\n",
       "|  4        |  7.264778 | 1.816194  |\n",
       "|  5        | 10.329138 | 2.065828  |\n",
       "|  6        | 13.775128 | 2.295855  |\n",
       "|  7        | 12.251500 | 1.750214  |\n",
       "|  8        | 15.293980 | 1.911748  |\n",
       "|  9        | 15.812850 | 1.756983  |\n",
       "| 10        | 17.883324 | 1.788332  |\n",
       "\n"
      ],
      "text/plain": [
       "   1  2         3       \n",
       "1   1  1.560062 1.560062\n",
       "2   2  1.827726 0.913863\n",
       "3   3  3.803639 1.267880\n",
       "4   4  7.264778 1.816194\n",
       "5   5 10.329138 2.065828\n",
       "6   6 13.775128 2.295855\n",
       "7   7 12.251500 1.750214\n",
       "8   8 15.293980 1.911748\n",
       "9   9 15.812850 1.756983\n",
       "10 10 17.883324 1.788332"
      ]
     },
     "metadata": {},
     "output_type": "display_data"
    }
   ],
   "source": [
    "annoying"
   ]
  },
  {
   "cell_type": "markdown",
   "metadata": {},
   "source": [
    "What does tibble::enframe() do? When might you use it?"
   ]
  },
  {
   "cell_type": "code",
   "execution_count": 52,
   "metadata": {},
   "outputs": [],
   "source": [
    "?tibble::enframe()"
   ]
  },
  {
   "cell_type": "code",
   "execution_count": 59,
   "metadata": {},
   "outputs": [
    {
     "ename": "ERROR",
     "evalue": "Error: `x` must not have more than one dimension. `length(dim(x))` must be zero or one, not 2.\n",
     "output_type": "error",
     "traceback": [
      "Error: `x` must not have more than one dimension. `length(dim(x))` must be zero or one, not 2.\nTraceback:\n",
      "1. tibble::enframe(tb)",
      "2. cnd_signal(error_enframe_has_dim(x))",
      "3. signal_abort(cnd)"
     ]
    }
   ],
   "source": [
    "tb <- tibble(\n",
    "  1\n",
    ")\n",
    "tibble::enframe(tb)"
   ]
  },
  {
   "cell_type": "markdown",
   "metadata": {},
   "source": [
    "What option controls how many additional column names are printed at the footer of a tibble?"
   ]
  },
  {
   "cell_type": "code",
   "execution_count": 60,
   "metadata": {},
   "outputs": [],
   "source": [
    "#não sei"
   ]
  },
  {
   "cell_type": "markdown",
   "metadata": {},
   "source": [
    "#### Data import"
   ]
  },
  {
   "cell_type": "code",
   "execution_count": 4,
   "metadata": {},
   "outputs": [],
   "source": [
    "tb <- read_csv(\"a,b,c\n",
    "1,2,3\n",
    "4,5,6\")"
   ]
  },
  {
   "cell_type": "code",
   "execution_count": 5,
   "metadata": {},
   "outputs": [
    {
     "data": {
      "text/html": [
       "<table>\n",
       "<thead><tr><th scope=col>a</th><th scope=col>b</th><th scope=col>c</th></tr></thead>\n",
       "<tbody>\n",
       "\t<tr><td>1</td><td>2</td><td>3</td></tr>\n",
       "\t<tr><td>4</td><td>5</td><td>6</td></tr>\n",
       "</tbody>\n",
       "</table>\n"
      ],
      "text/latex": [
       "\\begin{tabular}{r|lll}\n",
       " a & b & c\\\\\n",
       "\\hline\n",
       "\t 1 & 2 & 3\\\\\n",
       "\t 4 & 5 & 6\\\\\n",
       "\\end{tabular}\n"
      ],
      "text/markdown": [
       "\n",
       "| a | b | c |\n",
       "|---|---|---|\n",
       "| 1 | 2 | 3 |\n",
       "| 4 | 5 | 6 |\n",
       "\n"
      ],
      "text/plain": [
       "  a b c\n",
       "1 1 2 3\n",
       "2 4 5 6"
      ]
     },
     "metadata": {},
     "output_type": "display_data"
    }
   ],
   "source": [
    "tb"
   ]
  },
  {
   "cell_type": "code",
   "execution_count": 8,
   "metadata": {},
   "outputs": [
    {
     "name": "stderr",
     "output_type": "stream",
     "text": [
      "Parsed with column specification:\n",
      "cols(\n",
      "  .default = col_character(),\n",
      "  id_tup = col_double(),\n",
      "  idttup = col_double(),\n",
      "  cep = col_double(),\n",
      "  latitude = col_double(),\n",
      "  longitude = col_double()\n",
      ")\n",
      "See spec(...) for full column specifications.\n"
     ]
    }
   ],
   "source": [
    "orelhao <- read_csv(\"TUP.csv\")"
   ]
  },
  {
   "cell_type": "code",
   "execution_count": 9,
   "metadata": {},
   "outputs": [
    {
     "data": {
      "text/html": [
       "<table>\n",
       "<thead><tr><th scope=col>FID</th><th scope=col>est_geom</th><th scope=col>id_tup</th><th scope=col>idttup</th><th scope=col>concessionaria</th><th scope=col>status</th><th scope=col>numero</th><th scope=col>dtativacao</th><th scope=col>dataultimacomunicacao</th><th scope=col>siglauf</th><th scope=col>...</th><th scope=col>bairro</th><th scope=col>logradouro</th><th scope=col>complemento</th><th scope=col>cep</th><th scope=col>deficientecadeirante</th><th scope=col>deficienteaudio</th><th scope=col>vintequatrohoras</th><th scope=col>latitude</th><th scope=col>longitude</th><th scope=col>metadado</th></tr></thead>\n",
       "<tbody>\n",
       "\t<tr><td>TUP.fid-435f4487_177a530f832_-4fea                                                                                                       </td><td>POINT (-49.948055 -18.691388)                                                                                                            </td><td>1501987076                                                                                                                               </td><td>10300                                                                                                                                    </td><td>CTBC                                                                                                                                     </td><td>EM MANUTENCAO                                                                                                                            </td><td>(34) 32521386                                                                                                                            </td><td>28/06/2001                                                                                                                               </td><td>01/11/2018 05h09                                                                                                                         </td><td>MG                                                                                                                                       </td><td>...                                                                                                                                      </td><td><span style=white-space:pre-wrap>CENTRO              </span>                                                                             </td><td><span style=white-space:pre-wrap>R MINAS GERAIS              </span>                                                                     </td><td>0                                                                                                                                        </td><td>38350000                                                                                                                                 </td><td>NAO                                                                                                                                      </td><td>NAO                                                                                                                                      </td><td>SIM                                                                                                                                      </td><td>-18.69139                                                                                                                                </td><td>-49.94805                                                                                                                                </td><td>&lt;a href=\"http://sistemas.anatel.gov.br/geonetwork/srv/por/metadata.show?id=16&amp;currTab=simple\" target=\"_blank\"&gt;Acessar&lt;/a&gt;</td></tr>\n",
       "\t<tr><td>TUP.fid-435f4487_177a530f832_-4fe9                                                                                                       </td><td>POINT (-49.479166 -18.968332)                                                                                                            </td><td>1501987077                                                                                                                               </td><td>10313                                                                                                                                    </td><td>CTBC                                                                                                                                     </td><td><span style=white-space:pre-wrap>DISPONIVEL   </span>                                                                                    </td><td>(34) 32687546                                                                                                                            </td><td>10/10/2001                                                                                                                               </td><td>01/11/2018 02h27                                                                                                                         </td><td>MG                                                                                                                                       </td><td>...                                                                                                                                      </td><td><span style=white-space:pre-wrap>ALVORADA            </span>                                                                             </td><td><span style=white-space:pre-wrap>R CANELA                    </span>                                                                     </td><td>0                                                                                                                                        </td><td>38307090                                                                                                                                 </td><td>NAO                                                                                                                                      </td><td>NAO                                                                                                                                      </td><td>NAO                                                                                                                                      </td><td>-18.96833                                                                                                                                </td><td>-49.47917                                                                                                                                </td><td>&lt;a href=\"http://sistemas.anatel.gov.br/geonetwork/srv/por/metadata.show?id=16&amp;currTab=simple\" target=\"_blank\"&gt;Acessar&lt;/a&gt;</td></tr>\n",
       "\t<tr><td>TUP.fid-435f4487_177a530f832_-4fe8                                                                                                       </td><td>POINT (-47.314166 -21.274443)                                                                                                            </td><td>1501987078                                                                                                                               </td><td>10360                                                                                                                                    </td><td>CTBC                                                                                                                                     </td><td>EM MANUTENCAO                                                                                                                            </td><td>(16) 36676627                                                                                                                            </td><td>24/04/2001                                                                                                                               </td><td>01/11/2018 06h10                                                                                                                         </td><td>SP                                                                                                                                       </td><td>...                                                                                                                                      </td><td><span style=white-space:pre-wrap>CENTRO              </span>                                                                             </td><td><span style=white-space:pre-wrap>R MATA                      </span>                                                                     </td><td>0                                                                                                                                        </td><td>14240000                                                                                                                                 </td><td>NAO                                                                                                                                      </td><td>NAO                                                                                                                                      </td><td>SIM                                                                                                                                      </td><td>-21.27444                                                                                                                                </td><td>-47.31417                                                                                                                                </td><td>&lt;a href=\"http://sistemas.anatel.gov.br/geonetwork/srv/por/metadata.show?id=16&amp;currTab=simple\" target=\"_blank\"&gt;Acessar&lt;/a&gt;</td></tr>\n",
       "\t<tr><td>TUP.fid-435f4487_177a530f832_-4fe7                                                                                                       </td><td>POINT (-49.464166 -18.959166)                                                                                                            </td><td>1501987079                                                                                                                               </td><td><span style=white-space:pre-wrap>   35</span>                                                                                            </td><td>CTBC                                                                                                                                     </td><td><span style=white-space:pre-wrap>DISPONIVEL   </span>                                                                                    </td><td>(34) 32688884                                                                                                                            </td><td>02/05/2008                                                                                                                               </td><td>01/11/2018 08h02                                                                                                                         </td><td>MG                                                                                                                                       </td><td>...                                                                                                                                      </td><td><span style=white-space:pre-wrap>SAO JOSE            </span>                                                                             </td><td><span style=white-space:pre-wrap>R JOAO AVI                  </span>                                                                     </td><td>0                                                                                                                                        </td><td>38301046                                                                                                                                 </td><td>NAO                                                                                                                                      </td><td>NAO                                                                                                                                      </td><td>SIM                                                                                                                                      </td><td>-18.95917                                                                                                                                </td><td>-49.46417                                                                                                                                </td><td>&lt;a href=\"http://sistemas.anatel.gov.br/geonetwork/srv/por/metadata.show?id=16&amp;currTab=simple\" target=\"_blank\"&gt;Acessar&lt;/a&gt;</td></tr>\n",
       "\t<tr><td>TUP.fid-435f4487_177a530f832_-4fe6                                                                                                       </td><td>POINT (-49.481388 -19.006111)                                                                                                            </td><td>1501987080                                                                                                                               </td><td><span style=white-space:pre-wrap>   56</span>                                                                                            </td><td>CTBC                                                                                                                                     </td><td><span style=white-space:pre-wrap>DISPONIVEL   </span>                                                                                    </td><td>(34) 32693675                                                                                                                            </td><td>24/04/2001                                                                                                                               </td><td>01/11/2018 06h01                                                                                                                         </td><td>MG                                                                                                                                       </td><td>...                                                                                                                                      </td><td><span style=white-space:pre-wrap>NOVO TEMPO II       </span>                                                                             </td><td><span style=white-space:pre-wrap>R FLAVIO OLIVEIRA VILELA    </span>                                                                     </td><td>0                                                                                                                                        </td><td>38305196                                                                                                                                 </td><td>NAO                                                                                                                                      </td><td>NAO                                                                                                                                      </td><td>SIM                                                                                                                                      </td><td>-19.00611                                                                                                                                </td><td>-49.48139                                                                                                                                </td><td>&lt;a href=\"http://sistemas.anatel.gov.br/geonetwork/srv/por/metadata.show?id=16&amp;currTab=simple\" target=\"_blank\"&gt;Acessar&lt;/a&gt;</td></tr>\n",
       "\t<tr><td>TUP.fid-435f4487_177a530f832_-4fe5                                                                                                       </td><td>POINT (-49.488888 -18.997221)                                                                                                            </td><td>1501987081                                                                                                                               </td><td><span style=white-space:pre-wrap>   68</span>                                                                                            </td><td>CTBC                                                                                                                                     </td><td><span style=white-space:pre-wrap>DISPONIVEL   </span>                                                                                    </td><td>(34) 32622172                                                                                                                            </td><td>12/01/2001                                                                                                                               </td><td>01/11/2018 02h06                                                                                                                         </td><td>MG                                                                                                                                       </td><td>...                                                                                                                                      </td><td><span style=white-space:pre-wrap>LAGOA AZUL II       </span>                                                                             </td><td><span style=white-space:pre-wrap>R SALERME JABUR             </span>                                                                     </td><td>0                                                                                                                                        </td><td>38307516                                                                                                                                 </td><td>NAO                                                                                                                                      </td><td>NAO                                                                                                                                      </td><td>SIM                                                                                                                                      </td><td>-18.99722                                                                                                                                </td><td>-49.48889                                                                                                                                </td><td>&lt;a href=\"http://sistemas.anatel.gov.br/geonetwork/srv/por/metadata.show?id=16&amp;currTab=simple\" target=\"_blank\"&gt;Acessar&lt;/a&gt;</td></tr>\n",
       "\t<tr><td>TUP.fid-435f4487_177a530f832_-4fe4                                                                                                       </td><td>POINT (-49.464166 -18.958055)                                                                                                            </td><td>1501987082                                                                                                                               </td><td><span style=white-space:pre-wrap>  101</span>                                                                                            </td><td>CTBC                                                                                                                                     </td><td><span style=white-space:pre-wrap>DISPONIVEL   </span>                                                                                    </td><td>(34) 32699367                                                                                                                            </td><td>25/05/2001                                                                                                                               </td><td>01/11/2018 05h40                                                                                                                         </td><td>MG                                                                                                                                       </td><td>...                                                                                                                                      </td><td><span style=white-space:pre-wrap>SANTO ANTONIO       </span>                                                                             </td><td><span style=white-space:pre-wrap>AV DEODORO                  </span>                                                                     </td><td>0                                                                                                                                        </td><td>38301006                                                                                                                                 </td><td>NAO                                                                                                                                      </td><td>NAO                                                                                                                                      </td><td>SIM                                                                                                                                      </td><td>-18.95806                                                                                                                                </td><td>-49.46417                                                                                                                                </td><td>&lt;a href=\"http://sistemas.anatel.gov.br/geonetwork/srv/por/metadata.show?id=16&amp;currTab=simple\" target=\"_blank\"&gt;Acessar&lt;/a&gt;</td></tr>\n",
       "\t<tr><td>TUP.fid-435f4487_177a530f832_-4fe3                                                                                                       </td><td>POINT (-49.477777 -18.976388)                                                                                                            </td><td>1501987083                                                                                                                               </td><td><span style=white-space:pre-wrap>  114</span>                                                                                            </td><td>CTBC                                                                                                                                     </td><td><span style=white-space:pre-wrap>DISPONIVEL   </span>                                                                                    </td><td>(34) 32682475                                                                                                                            </td><td>28/10/1998                                                                                                                               </td><td>01/11/2018 06h47                                                                                                                         </td><td>MG                                                                                                                                       </td><td>...                                                                                                                                      </td><td><span style=white-space:pre-wrap>PLATINA             </span>                                                                             </td><td><span style=white-space:pre-wrap>R ANTONIO PEDRO GUIMARAES   </span>                                                                     </td><td>0                                                                                                                                        </td><td>38307078                                                                                                                                 </td><td>NAO                                                                                                                                      </td><td>NAO                                                                                                                                      </td><td>SIM                                                                                                                                      </td><td>-18.97639                                                                                                                                </td><td>-49.47778                                                                                                                                </td><td>&lt;a href=\"http://sistemas.anatel.gov.br/geonetwork/srv/por/metadata.show?id=16&amp;currTab=simple\" target=\"_blank\"&gt;Acessar&lt;/a&gt;</td></tr>\n",
       "\t<tr><td>TUP.fid-435f4487_177a530f832_-4fe2                                                                                                       </td><td>POINT (-49.48111 -19.001944)                                                                                                             </td><td>1501987084                                                                                                                               </td><td><span style=white-space:pre-wrap>  116</span>                                                                                            </td><td>CTBC                                                                                                                                     </td><td><span style=white-space:pre-wrap>DISPONIVEL   </span>                                                                                    </td><td>(34) 32693673                                                                                                                            </td><td>02/04/2001                                                                                                                               </td><td>01/11/2018 06h02                                                                                                                         </td><td>MG                                                                                                                                       </td><td>...                                                                                                                                      </td><td><span style=white-space:pre-wrap>NOVO TEMPO II       </span>                                                                             </td><td>R AMORIVAL GONCALVES ALMEIDA                                                                                                             </td><td>0                                                                                                                                        </td><td>38305190                                                                                                                                 </td><td>NAO                                                                                                                                      </td><td>NAO                                                                                                                                      </td><td>SIM                                                                                                                                      </td><td>-19.00194                                                                                                                                </td><td>-49.48111                                                                                                                                </td><td>&lt;a href=\"http://sistemas.anatel.gov.br/geonetwork/srv/por/metadata.show?id=16&amp;currTab=simple\" target=\"_blank\"&gt;Acessar&lt;/a&gt;</td></tr>\n",
       "\t<tr><td>TUP.fid-435f4487_177a530f832_-4fe1                                                                                                       </td><td>POINT (-49.463333 -18.981943)                                                                                                            </td><td>1501987085                                                                                                                               </td><td><span style=white-space:pre-wrap>  121</span>                                                                                            </td><td>CTBC                                                                                                                                     </td><td><span style=white-space:pre-wrap>DISPONIVEL   </span>                                                                                    </td><td>(34) 32625586                                                                                                                            </td><td>13/06/2001                                                                                                                               </td><td>01/11/2018 03h48                                                                                                                         </td><td>MG                                                                                                                                       </td><td>...                                                                                                                                      </td><td><span style=white-space:pre-wrap>CENTRO              </span>                                                                             </td><td><span style=white-space:pre-wrap>AV 31                       </span>                                                                     </td><td>0                                                                                                                                        </td><td>38300104                                                                                                                                 </td><td>NAO                                                                                                                                      </td><td>NAO                                                                                                                                      </td><td>SIM                                                                                                                                      </td><td>-18.98194                                                                                                                                </td><td>-49.46333                                                                                                                                </td><td>&lt;a href=\"http://sistemas.anatel.gov.br/geonetwork/srv/por/metadata.show?id=16&amp;currTab=simple\" target=\"_blank\"&gt;Acessar&lt;/a&gt;</td></tr>\n",
       "\t<tr><td>TUP.fid-435f4487_177a530f832_-4fe0                                                                                                       </td><td>POINT (-49.47861 -18.984999)                                                                                                             </td><td>1501987086                                                                                                                               </td><td><span style=white-space:pre-wrap>  196</span>                                                                                            </td><td>CTBC                                                                                                                                     </td><td><span style=white-space:pre-wrap>DISPONIVEL   </span>                                                                                    </td><td>(34) 32681412                                                                                                                            </td><td>09/06/1998                                                                                                                               </td><td>01/11/2018 05h59                                                                                                                         </td><td>MG                                                                                                                                       </td><td>...                                                                                                                                      </td><td><span style=white-space:pre-wrap>PIRAPITINGA         </span>                                                                             </td><td><span style=white-space:pre-wrap>AV NITEROI                  </span>                                                                     </td><td>0                                                                                                                                        </td><td>38307142                                                                                                                                 </td><td>NAO                                                                                                                                      </td><td>NAO                                                                                                                                      </td><td>SIM                                                                                                                                      </td><td>-18.98500                                                                                                                                </td><td>-49.47861                                                                                                                                </td><td>&lt;a href=\"http://sistemas.anatel.gov.br/geonetwork/srv/por/metadata.show?id=16&amp;currTab=simple\" target=\"_blank\"&gt;Acessar&lt;/a&gt;</td></tr>\n",
       "\t<tr><td>TUP.fid-435f4487_177a530f832_-4fdf                                                                                                       </td><td>POINT (-49.943055 -18.69111)                                                                                                             </td><td>1501987087                                                                                                                               </td><td><span style=white-space:pre-wrap>  215</span>                                                                                            </td><td>CTBC                                                                                                                                     </td><td><span style=white-space:pre-wrap>DISPONIVEL   </span>                                                                                    </td><td>(34) 32521393                                                                                                                            </td><td>28/06/2001                                                                                                                               </td><td>01/11/2018 04h51                                                                                                                         </td><td>MG                                                                                                                                       </td><td>...                                                                                                                                      </td><td><span style=white-space:pre-wrap>CENTRO              </span>                                                                             </td><td>R BENEDITO WALDEMAR DA SILVA                                                                                                             </td><td>0                                                                                                                                        </td><td>38350000                                                                                                                                 </td><td>SIM                                                                                                                                      </td><td>NAO                                                                                                                                      </td><td>SIM                                                                                                                                      </td><td>-18.69111                                                                                                                                </td><td>-49.94306                                                                                                                                </td><td>&lt;a href=\"http://sistemas.anatel.gov.br/geonetwork/srv/por/metadata.show?id=16&amp;currTab=simple\" target=\"_blank\"&gt;Acessar&lt;/a&gt;</td></tr>\n",
       "\t<tr><td>TUP.fid-435f4487_177a530f832_-4fde                                                                                                       </td><td>POINT (-49.464444 -18.980277)                                                                                                            </td><td>1501987088                                                                                                                               </td><td><span style=white-space:pre-wrap>  216</span>                                                                                            </td><td>CTBC                                                                                                                                     </td><td><span style=white-space:pre-wrap>DISPONIVEL   </span>                                                                                    </td><td>(34) 32682807                                                                                                                            </td><td>30/06/2001                                                                                                                               </td><td>01/11/2018 01h38                                                                                                                         </td><td>MG                                                                                                                                       </td><td>...                                                                                                                                      </td><td><span style=white-space:pre-wrap>CENTRO              </span>                                                                             </td><td><span style=white-space:pre-wrap>AV VINTE E CINCO            </span>                                                                     </td><td>0                                                                                                                                        </td><td>38300095                                                                                                                                 </td><td>NAO                                                                                                                                      </td><td>NAO                                                                                                                                      </td><td>SIM                                                                                                                                      </td><td>-18.98028                                                                                                                                </td><td>-49.46444                                                                                                                                </td><td>&lt;a href=\"http://sistemas.anatel.gov.br/geonetwork/srv/por/metadata.show?id=16&amp;currTab=simple\" target=\"_blank\"&gt;Acessar&lt;/a&gt;</td></tr>\n",
       "\t<tr><td>TUP.fid-435f4487_177a530f832_-4fdd                                                                                                       </td><td>POINT (-49.464444 -18.972777)                                                                                                            </td><td>1501987089                                                                                                                               </td><td><span style=white-space:pre-wrap>  240</span>                                                                                            </td><td>CTBC                                                                                                                                     </td><td>EM MANUTENCAO                                                                                                                            </td><td>(34) 32681549                                                                                                                            </td><td>16/10/1998                                                                                                                               </td><td>26/10/2018 10h49                                                                                                                         </td><td>MG                                                                                                                                       </td><td>...                                                                                                                                      </td><td><span style=white-space:pre-wrap>CENTRO              </span>                                                                             </td><td><span style=white-space:pre-wrap>AV ONZE                     </span>                                                                     </td><td>0                                                                                                                                        </td><td>38300142                                                                                                                                 </td><td>NAO                                                                                                                                      </td><td>NAO                                                                                                                                      </td><td>SIM                                                                                                                                      </td><td>-18.97278                                                                                                                                </td><td>-49.46444                                                                                                                                </td><td>&lt;a href=\"http://sistemas.anatel.gov.br/geonetwork/srv/por/metadata.show?id=16&amp;currTab=simple\" target=\"_blank\"&gt;Acessar&lt;/a&gt;</td></tr>\n",
       "\t<tr><td>TUP.fid-435f4487_177a530f832_-4fdc                                                                                                       </td><td>POINT (-49.451944 -18.967221)                                                                                                            </td><td>1501987090                                                                                                                               </td><td><span style=white-space:pre-wrap>  285</span>                                                                                            </td><td>CTBC                                                                                                                                     </td><td><span style=white-space:pre-wrap>DISPONIVEL   </span>                                                                                    </td><td>(34) 32687542                                                                                                                            </td><td>13/02/2012                                                                                                                               </td><td>28/10/2018 09h27                                                                                                                         </td><td>MG                                                                                                                                       </td><td>...                                                                                                                                      </td><td><span style=white-space:pre-wrap>CENTRO              </span>                                                                             </td><td><span style=white-space:pre-wrap>AV 21                       </span>                                                                     </td><td>0                                                                                                                                        </td><td>38300120                                                                                                                                 </td><td>NAO                                                                                                                                      </td><td>NAO                                                                                                                                      </td><td>SIM                                                                                                                                      </td><td>-18.96722                                                                                                                                </td><td>-49.45194                                                                                                                                </td><td>&lt;a href=\"http://sistemas.anatel.gov.br/geonetwork/srv/por/metadata.show?id=16&amp;currTab=simple\" target=\"_blank\"&gt;Acessar&lt;/a&gt;</td></tr>\n",
       "\t<tr><td>TUP.fid-435f4487_177a530f832_-4fdb                                                                                                       </td><td>POINT (-49.434721 -18.985555)                                                                                                            </td><td>1501987091                                                                                                                               </td><td><span style=white-space:pre-wrap>  326</span>                                                                                            </td><td>CTBC                                                                                                                                     </td><td><span style=white-space:pre-wrap>DISPONIVEL   </span>                                                                                    </td><td>(34) 32610223                                                                                                                            </td><td>03/01/2012                                                                                                                               </td><td>31/10/2018 10h54                                                                                                                         </td><td>MG                                                                                                                                       </td><td>...                                                                                                                                      </td><td>RESIDENCIAL CANAA II                                                                                                                     </td><td><span style=white-space:pre-wrap>AV C-13                     </span>                                                                     </td><td>0                                                                                                                                        </td><td>30000000                                                                                                                                 </td><td>NAO                                                                                                                                      </td><td>NAO                                                                                                                                      </td><td>SIM                                                                                                                                      </td><td>-18.98556                                                                                                                                </td><td>-49.43472                                                                                                                                </td><td>&lt;a href=\"http://sistemas.anatel.gov.br/geonetwork/srv/por/metadata.show?id=16&amp;currTab=simple\" target=\"_blank\"&gt;Acessar&lt;/a&gt;</td></tr>\n",
       "\t<tr><td>TUP.fid-435f4487_177a530f832_-4fda                                                                                                       </td><td>POINT (-49.94111 -18.693055)                                                                                                             </td><td>1501987092                                                                                                                               </td><td><span style=white-space:pre-wrap>  343</span>                                                                                            </td><td>CTBC                                                                                                                                     </td><td><span style=white-space:pre-wrap>DISPONIVEL   </span>                                                                                    </td><td>(34) 32521401                                                                                                                            </td><td>28/06/2001                                                                                                                               </td><td>01/11/2018 01h42                                                                                                                         </td><td>MG                                                                                                                                       </td><td>...                                                                                                                                      </td><td><span style=white-space:pre-wrap>CENTRO              </span>                                                                             </td><td><span style=white-space:pre-wrap>R OMAR OLIVEIRA DINIZ       </span>                                                                     </td><td>0                                                                                                                                        </td><td>38350000                                                                                                                                 </td><td>NAO                                                                                                                                      </td><td>NAO                                                                                                                                      </td><td>SIM                                                                                                                                      </td><td>-18.69306                                                                                                                                </td><td>-49.94111                                                                                                                                </td><td>&lt;a href=\"http://sistemas.anatel.gov.br/geonetwork/srv/por/metadata.show?id=16&amp;currTab=simple\" target=\"_blank\"&gt;Acessar&lt;/a&gt;</td></tr>\n",
       "\t<tr><td>TUP.fid-435f4487_177a530f832_-4fd9                                                                                                       </td><td>POINT (-49.488333 -18.983333)                                                                                                            </td><td>1501987093                                                                                                                               </td><td><span style=white-space:pre-wrap>  347</span>                                                                                            </td><td>CTBC                                                                                                                                     </td><td><span style=white-space:pre-wrap>DISPONIVEL   </span>                                                                                    </td><td>(34) 32695532                                                                                                                            </td><td>11/02/2006                                                                                                                               </td><td>01/11/2018 04h53                                                                                                                         </td><td>MG                                                                                                                                       </td><td>...                                                                                                                                      </td><td><span style=white-space:pre-wrap>PIRAPITINGA         </span>                                                                             </td><td><span style=white-space:pre-wrap>R ANTONIO CAETANO NOVAES    </span>                                                                     </td><td>0                                                                                                                                        </td><td>30000000                                                                                                                                 </td><td>NAO                                                                                                                                      </td><td>NAO                                                                                                                                      </td><td>SIM                                                                                                                                      </td><td>-18.98333                                                                                                                                </td><td>-49.48833                                                                                                                                </td><td>&lt;a href=\"http://sistemas.anatel.gov.br/geonetwork/srv/por/metadata.show?id=16&amp;currTab=simple\" target=\"_blank\"&gt;Acessar&lt;/a&gt;</td></tr>\n",
       "\t<tr><td>TUP.fid-435f4487_177a530f832_-4fd8                                                                                                       </td><td>POINT (-49.447499 -18.974999)                                                                                                            </td><td>1501987094                                                                                                                               </td><td><span style=white-space:pre-wrap>  357</span>                                                                                            </td><td>CTBC                                                                                                                                     </td><td>EM MANUTENCAO                                                                                                                            </td><td>(34) 32689857                                                                                                                            </td><td>16/02/2001                                                                                                                               </td><td>31/10/2018 08h29                                                                                                                         </td><td>MG                                                                                                                                       </td><td>...                                                                                                                                      </td><td><span style=white-space:pre-wrap>UNIVERSITARIO       </span>                                                                             </td><td><span style=white-space:pre-wrap>R HORACIO PAULO SIQUEIRA    </span>                                                                     </td><td>0                                                                                                                                        </td><td>38302222                                                                                                                                 </td><td>NAO                                                                                                                                      </td><td>NAO                                                                                                                                      </td><td>SIM                                                                                                                                      </td><td>-18.97500                                                                                                                                </td><td>-49.44750                                                                                                                                </td><td>&lt;a href=\"http://sistemas.anatel.gov.br/geonetwork/srv/por/metadata.show?id=16&amp;currTab=simple\" target=\"_blank\"&gt;Acessar&lt;/a&gt;</td></tr>\n",
       "\t<tr><td>TUP.fid-435f4487_177a530f832_-4fd7                                                                                                       </td><td><span style=white-space:pre-wrap>POINT (-49.467777 -18.9625)  </span>                                                                    </td><td>1501987095                                                                                                                               </td><td><span style=white-space:pre-wrap>  393</span>                                                                                            </td><td>CTBC                                                                                                                                     </td><td><span style=white-space:pre-wrap>DISPONIVEL   </span>                                                                                    </td><td>(34) 32681941                                                                                                                            </td><td>23/02/1999                                                                                                                               </td><td>01/11/2018 06h35                                                                                                                         </td><td>MG                                                                                                                                       </td><td>...                                                                                                                                      </td><td><span style=white-space:pre-wrap>SETOR NORTE         </span>                                                                             </td><td><span style=white-space:pre-wrap>R JORGE JACOB YUNES         </span>                                                                     </td><td>0                                                                                                                                        </td><td>38300172                                                                                                                                 </td><td>NAO                                                                                                                                      </td><td>NAO                                                                                                                                      </td><td>SIM                                                                                                                                      </td><td>-18.96250                                                                                                                                </td><td>-49.46778                                                                                                                                </td><td>&lt;a href=\"http://sistemas.anatel.gov.br/geonetwork/srv/por/metadata.show?id=16&amp;currTab=simple\" target=\"_blank\"&gt;Acessar&lt;/a&gt;</td></tr>\n",
       "\t<tr><td>TUP.fid-435f4487_177a530f832_-4fd6                                                                                                       </td><td>POINT (-49.44861 -18.981388)                                                                                                             </td><td>1501987096                                                                                                                               </td><td><span style=white-space:pre-wrap>  403</span>                                                                                            </td><td>CTBC                                                                                                                                     </td><td><span style=white-space:pre-wrap>DISPONIVEL   </span>                                                                                    </td><td>(34) 32697234                                                                                                                            </td><td>20/05/1999                                                                                                                               </td><td>31/10/2018 09h48                                                                                                                         </td><td>MG                                                                                                                                       </td><td>...                                                                                                                                      </td><td><span style=white-space:pre-wrap>SAO JOSE            </span>                                                                             </td><td><span style=white-space:pre-wrap>R PARTICULAR                </span>                                                                     </td><td>0                                                                                                                                        </td><td>38302242                                                                                                                                 </td><td>NAO                                                                                                                                      </td><td>NAO                                                                                                                                      </td><td>SIM                                                                                                                                      </td><td>-18.98139                                                                                                                                </td><td>-49.44861                                                                                                                                </td><td>&lt;a href=\"http://sistemas.anatel.gov.br/geonetwork/srv/por/metadata.show?id=16&amp;currTab=simple\" target=\"_blank\"&gt;Acessar&lt;/a&gt;</td></tr>\n",
       "\t<tr><td>TUP.fid-435f4487_177a530f832_-4fd5                                                                                                       </td><td>POINT (-49.477221 -18.988888)                                                                                                            </td><td>1501987097                                                                                                                               </td><td><span style=white-space:pre-wrap>  430</span>                                                                                            </td><td>CTBC                                                                                                                                     </td><td><span style=white-space:pre-wrap>DISPONIVEL   </span>                                                                                    </td><td>(34) 32687684                                                                                                                            </td><td>17/05/2001                                                                                                                               </td><td>01/11/2018 05h34                                                                                                                         </td><td>MG                                                                                                                                       </td><td>...                                                                                                                                      </td><td><span style=white-space:pre-wrap>PIRAPITINGA         </span>                                                                             </td><td><span style=white-space:pre-wrap>R UBERABA                   </span>                                                                     </td><td>0                                                                                                                                        </td><td>38307414                                                                                                                                 </td><td>NAO                                                                                                                                      </td><td>NAO                                                                                                                                      </td><td>SIM                                                                                                                                      </td><td>-18.98889                                                                                                                                </td><td>-49.47722                                                                                                                                </td><td>&lt;a href=\"http://sistemas.anatel.gov.br/geonetwork/srv/por/metadata.show?id=16&amp;currTab=simple\" target=\"_blank\"&gt;Acessar&lt;/a&gt;</td></tr>\n",
       "\t<tr><td>TUP.fid-435f4487_177a530f832_-4fd4                                                                                                       </td><td>POINT (-49.44361 -19.994721)                                                                                                             </td><td>1501987098                                                                                                                               </td><td><span style=white-space:pre-wrap>  434</span>                                                                                            </td><td>CTBC                                                                                                                                     </td><td><span style=white-space:pre-wrap>DISPONIVEL   </span>                                                                                    </td><td>(34) 32693277                                                                                                                            </td><td>23/06/1998                                                                                                                               </td><td>16/10/2018 09h01                                                                                                                         </td><td>MG                                                                                                                                       </td><td>...                                                                                                                                      </td><td><span style=white-space:pre-wrap>BRASIL              </span>                                                                             </td><td><span style=white-space:pre-wrap>R IUGOSLAVIA                </span>                                                                     </td><td>0                                                                                                                                        </td><td>38304185                                                                                                                                 </td><td>NAO                                                                                                                                      </td><td>NAO                                                                                                                                      </td><td>SIM                                                                                                                                      </td><td>-19.99472                                                                                                                                </td><td>-49.44361                                                                                                                                </td><td>&lt;a href=\"http://sistemas.anatel.gov.br/geonetwork/srv/por/metadata.show?id=16&amp;currTab=simple\" target=\"_blank\"&gt;Acessar&lt;/a&gt;</td></tr>\n",
       "\t<tr><td>TUP.fid-435f4487_177a530f832_-4fd3                                                                                                       </td><td>POINT (-49.449166 -18.983333)                                                                                                            </td><td>1501987099                                                                                                                               </td><td><span style=white-space:pre-wrap>  457</span>                                                                                            </td><td>CTBC                                                                                                                                     </td><td><span style=white-space:pre-wrap>DISPONIVEL   </span>                                                                                    </td><td>(34) 32694944                                                                                                                            </td><td>23/01/2001                                                                                                                               </td><td>31/10/2018 09h37                                                                                                                         </td><td>MG                                                                                                                                       </td><td>...                                                                                                                                      </td><td><span style=white-space:pre-wrap>ALCIDES JUNQUEIRA   </span>                                                                             </td><td><span style=white-space:pre-wrap>R FORTUNATO PEDROSA         </span>                                                                     </td><td>0                                                                                                                                        </td><td>38304108                                                                                                                                 </td><td>NAO                                                                                                                                      </td><td>NAO                                                                                                                                      </td><td>SIM                                                                                                                                      </td><td>-18.98333                                                                                                                                </td><td>-49.44917                                                                                                                                </td><td>&lt;a href=\"http://sistemas.anatel.gov.br/geonetwork/srv/por/metadata.show?id=16&amp;currTab=simple\" target=\"_blank\"&gt;Acessar&lt;/a&gt;</td></tr>\n",
       "\t<tr><td>TUP.fid-435f4487_177a530f832_-4fd2                                                                                                       </td><td>POINT (-47.300555 -21.27611)                                                                                                             </td><td>1501987100                                                                                                                               </td><td>10364                                                                                                                                    </td><td>CTBC                                                                                                                                     </td><td><span style=white-space:pre-wrap>DISPONIVEL   </span>                                                                                    </td><td>(16) 36672854                                                                                                                            </td><td>16/07/2012                                                                                                                               </td><td>31/10/2018 11h12                                                                                                                         </td><td>SP                                                                                                                                       </td><td>...                                                                                                                                      </td><td><span style=white-space:pre-wrap>CENTRO              </span>                                                                             </td><td><span style=white-space:pre-wrap>AV ADOLFO PAOLIELLO         </span>                                                                     </td><td>0                                                                                                                                        </td><td>14240000                                                                                                                                 </td><td>NAO                                                                                                                                      </td><td>NAO                                                                                                                                      </td><td>NAO                                                                                                                                      </td><td>-21.27611                                                                                                                                </td><td>-47.30056                                                                                                                                </td><td>&lt;a href=\"http://sistemas.anatel.gov.br/geonetwork/srv/por/metadata.show?id=16&amp;currTab=simple\" target=\"_blank\"&gt;Acessar&lt;/a&gt;</td></tr>\n",
       "\t<tr><td>TUP.fid-435f4487_177a530f832_-4fd1                                                                                                       </td><td>POINT (-47.29861 -21.264722)                                                                                                             </td><td>1501987101                                                                                                                               </td><td>10406                                                                                                                                    </td><td>CTBC                                                                                                                                     </td><td><span style=white-space:pre-wrap>DISPONIVEL   </span>                                                                                    </td><td>(16) 36673740                                                                                                                            </td><td>08/10/1998                                                                                                                               </td><td>30/10/2018 06h11                                                                                                                         </td><td>SP                                                                                                                                       </td><td>...                                                                                                                                      </td><td><span style=white-space:pre-wrap>CIDADE JARDIM       </span>                                                                             </td><td><span style=white-space:pre-wrap>R JUNDIAI                   </span>                                                                     </td><td>0                                                                                                                                        </td><td>14240000                                                                                                                                 </td><td>NAO                                                                                                                                      </td><td>NAO                                                                                                                                      </td><td>SIM                                                                                                                                      </td><td>-21.26472                                                                                                                                </td><td>-47.29861                                                                                                                                </td><td>&lt;a href=\"http://sistemas.anatel.gov.br/geonetwork/srv/por/metadata.show?id=16&amp;currTab=simple\" target=\"_blank\"&gt;Acessar&lt;/a&gt;</td></tr>\n",
       "\t<tr><td>TUP.fid-435f4487_177a530f832_-4fd0                                                                                                       </td><td>POINT (-47.302222 -21.274166)                                                                                                            </td><td>1501987102                                                                                                                               </td><td>10411                                                                                                                                    </td><td>CTBC                                                                                                                                     </td><td><span style=white-space:pre-wrap>DISPONIVEL   </span>                                                                                    </td><td>(16) 36674740                                                                                                                            </td><td>04/04/2001                                                                                                                               </td><td>01/11/2018 06h05                                                                                                                         </td><td>SP                                                                                                                                       </td><td>...                                                                                                                                      </td><td><span style=white-space:pre-wrap>CENTRO              </span>                                                                             </td><td><span style=white-space:pre-wrap>R SETE DE SETEMBRO          </span>                                                                     </td><td>0                                                                                                                                        </td><td>14240000                                                                                                                                 </td><td>NAO                                                                                                                                      </td><td>NAO                                                                                                                                      </td><td>SIM                                                                                                                                      </td><td>-21.27417                                                                                                                                </td><td>-47.30222                                                                                                                                </td><td>&lt;a href=\"http://sistemas.anatel.gov.br/geonetwork/srv/por/metadata.show?id=16&amp;currTab=simple\" target=\"_blank\"&gt;Acessar&lt;/a&gt;</td></tr>\n",
       "\t<tr><td>TUP.fid-435f4487_177a530f832_-4fcf                                                                                                       </td><td><span style=white-space:pre-wrap>POINT (-47.29611 -21.2625)   </span>                                                                    </td><td>1501987103                                                                                                                               </td><td>10497                                                                                                                                    </td><td>CTBC                                                                                                                                     </td><td><span style=white-space:pre-wrap>DISPONIVEL   </span>                                                                                    </td><td>(16) 36673541                                                                                                                            </td><td>14/10/1998                                                                                                                               </td><td>01/11/2018 05h28                                                                                                                         </td><td>SP                                                                                                                                       </td><td>...                                                                                                                                      </td><td><span style=white-space:pre-wrap>CIDADE JARDIM       </span>                                                                             </td><td><span style=white-space:pre-wrap>AV FONSECA                  </span>                                                                     </td><td>0                                                                                                                                        </td><td>14240000                                                                                                                                 </td><td>NAO                                                                                                                                      </td><td>NAO                                                                                                                                      </td><td>SIM                                                                                                                                      </td><td>-21.26250                                                                                                                                </td><td>-47.29611                                                                                                                                </td><td>&lt;a href=\"http://sistemas.anatel.gov.br/geonetwork/srv/por/metadata.show?id=16&amp;currTab=simple\" target=\"_blank\"&gt;Acessar&lt;/a&gt;</td></tr>\n",
       "\t<tr><td>TUP.fid-435f4487_177a530f832_-4fce                                                                                                       </td><td>POINT (-49.471666 -18.997777)                                                                                                            </td><td>1501987104                                                                                                                               </td><td> 8250                                                                                                                                    </td><td>CTBC                                                                                                                                     </td><td><span style=white-space:pre-wrap>DISPONIVEL   </span>                                                                                    </td><td>(34) 32681846                                                                                                                            </td><td>29/10/1998                                                                                                                               </td><td>01/11/2018 06h30                                                                                                                         </td><td>MG                                                                                                                                       </td><td>...                                                                                                                                      </td><td><span style=white-space:pre-wrap>JERONIMO MENDONCA   </span>                                                                             </td><td><span style=white-space:pre-wrap>AV MINAS GERAIS             </span>                                                                     </td><td>0                                                                                                                                        </td><td>38305221                                                                                                                                 </td><td>NAO                                                                                                                                      </td><td>NAO                                                                                                                                      </td><td>SIM                                                                                                                                      </td><td>-18.99778                                                                                                                                </td><td>-49.47167                                                                                                                                </td><td>&lt;a href=\"http://sistemas.anatel.gov.br/geonetwork/srv/por/metadata.show?id=16&amp;currTab=simple\" target=\"_blank\"&gt;Acessar&lt;/a&gt;</td></tr>\n",
       "\t<tr><td>TUP.fid-435f4487_177a530f832_-4fcd                                                                                                       </td><td>POINT (-50.492777 -19.042221)                                                                                                            </td><td>1501987105                                                                                                                               </td><td><span style=white-space:pre-wrap>  227</span>                                                                                            </td><td>CTBC                                                                                                                                     </td><td><span style=white-space:pre-wrap>DISPONIVEL   </span>                                                                                    </td><td>(34) 32518236                                                                                                                            </td><td>07/03/2005                                                                                                                               </td><td>01/11/2018 06h41                                                                                                                         </td><td>MG                                                                                                                                       </td><td>...                                                                                                                                      </td><td><span style=white-space:pre-wrap>CENTRO              </span>                                                                             </td><td><span style=white-space:pre-wrap>AV 3                        </span>                                                                     </td><td>0                                                                                                                                        </td><td>38325000                                                                                                                                 </td><td>NAO                                                                                                                                      </td><td>NAO                                                                                                                                      </td><td>SIM                                                                                                                                      </td><td>-19.04222                                                                                                                                </td><td>-50.49278                                                                                                                                </td><td>&lt;a href=\"http://sistemas.anatel.gov.br/geonetwork/srv/por/metadata.show?id=16&amp;currTab=simple\" target=\"_blank\"&gt;Acessar&lt;/a&gt;</td></tr>\n",
       "\t<tr><td>...</td><td>...</td><td>...</td><td>...</td><td>...</td><td>...</td><td>...</td><td>...</td><td>...</td><td>...</td><td>   </td><td>...</td><td>...</td><td>...</td><td>...</td><td>...</td><td>...</td><td>...</td><td>...</td><td>...</td><td>...</td></tr>\n",
       "\t<tr><td>TUP.fid-435f4487_177a58b92fc_-75a6                                                                                                       </td><td>POINT (-42.68361 -13.019166)                                                                                                             </td><td>1502174021                                                                                                                               </td><td>187688                                                                                                                                   </td><td>OI                                                                                                                                       </td><td><span style=white-space:pre-wrap>DISPONIVEL   </span>                                                                                    </td><td>(77) 34731505                                                                                                                            </td><td>16/06/2001                                                                                                                               </td><td>10/02/2021 11h02                                                                                                                         </td><td>BA                                                                                                                                       </td><td>...                                                                                                                                      </td><td><span style=white-space:pre-wrap>ALTO CRUZEIRO    </span>                                                                                </td><td><span style=white-space:pre-wrap>RUA DIVALDO FRANCO        </span>                                                                       </td><td><span style=white-space:pre-wrap>0   </span>                                                                                             </td><td>46500000                                                                                                                                 </td><td>NAO                                                                                                                                      </td><td>NAO                                                                                                                                      </td><td>SIM                                                                                                                                      </td><td>-13.01917                                                                                                                                </td><td>-42.68361                                                                                                                                </td><td>&lt;a href=\"http://sistemas.anatel.gov.br/geonetwork/srv/por/metadata.show?id=16&amp;currTab=simple\" target=\"_blank\"&gt;Acessar&lt;/a&gt;</td></tr>\n",
       "\t<tr><td>TUP.fid-435f4487_177a58b92fc_-75a5                                                                                                       </td><td>POINT (-42.687777 -13.015555)                                                                                                            </td><td>1502174022                                                                                                                               </td><td>187689                                                                                                                                   </td><td>OI                                                                                                                                       </td><td><span style=white-space:pre-wrap>DISPONIVEL   </span>                                                                                    </td><td>(77) 34731508                                                                                                                            </td><td>16/06/2001                                                                                                                               </td><td>10/02/2021 11h02                                                                                                                         </td><td>BA                                                                                                                                       </td><td>...                                                                                                                                      </td><td>ALTO ALEXANDRINO                                                                                                                         </td><td><span style=white-space:pre-wrap>RUA PROF MANOEL AMANCIO   </span>                                                                       </td><td><span style=white-space:pre-wrap>0   </span>                                                                                             </td><td>46500000                                                                                                                                 </td><td>NAO                                                                                                                                      </td><td>NAO                                                                                                                                      </td><td>SIM                                                                                                                                      </td><td>-13.01556                                                                                                                                </td><td>-42.68778                                                                                                                                </td><td>&lt;a href=\"http://sistemas.anatel.gov.br/geonetwork/srv/por/metadata.show?id=16&amp;currTab=simple\" target=\"_blank\"&gt;Acessar&lt;/a&gt;</td></tr>\n",
       "\t<tr><td>TUP.fid-435f4487_177a58b92fc_-75a4                                                                                                       </td><td>POINT (-42.687221 -13.013888)                                                                                                            </td><td>1502174023                                                                                                                               </td><td>187690                                                                                                                                   </td><td>OI                                                                                                                                       </td><td>EM MANUTENCAO                                                                                                                            </td><td>(77) 34731300                                                                                                                            </td><td>23/05/1994                                                                                                                               </td><td>05/02/2021 03h02                                                                                                                         </td><td>BA                                                                                                                                       </td><td>...                                                                                                                                      </td><td><span style=white-space:pre-wrap>CENTRO           </span>                                                                                </td><td><span style=white-space:pre-wrap>RUA VERDINHA              </span>                                                                       </td><td><span style=white-space:pre-wrap>0   </span>                                                                                             </td><td>46500000                                                                                                                                 </td><td>NAO                                                                                                                                      </td><td>NAO                                                                                                                                      </td><td>SIM                                                                                                                                      </td><td>-13.01389                                                                                                                                </td><td>-42.68722                                                                                                                                </td><td>&lt;a href=\"http://sistemas.anatel.gov.br/geonetwork/srv/por/metadata.show?id=16&amp;currTab=simple\" target=\"_blank\"&gt;Acessar&lt;/a&gt;</td></tr>\n",
       "\t<tr><td>TUP.fid-435f4487_177a58b92fc_-75a3                                                                                                       </td><td>POINT (-42.691666 -13.019999)                                                                                                            </td><td>1502174024                                                                                                                               </td><td>187691                                                                                                                                   </td><td>OI                                                                                                                                       </td><td><span style=white-space:pre-wrap>DISPONIVEL   </span>                                                                                    </td><td>(77) 34731503                                                                                                                            </td><td>16/06/2001                                                                                                                               </td><td>11/02/2021 02h02                                                                                                                         </td><td>BA                                                                                                                                       </td><td>...                                                                                                                                      </td><td><span style=white-space:pre-wrap>CENTRO           </span>                                                                                </td><td><span style=white-space:pre-wrap>RUA DOIS DE JULHO         </span>                                                                       </td><td><span style=white-space:pre-wrap>0   </span>                                                                                             </td><td>46500000                                                                                                                                 </td><td>NAO                                                                                                                                      </td><td>NAO                                                                                                                                      </td><td>SIM                                                                                                                                      </td><td>-13.02000                                                                                                                                </td><td>-42.69167                                                                                                                                </td><td>&lt;a href=\"http://sistemas.anatel.gov.br/geonetwork/srv/por/metadata.show?id=16&amp;currTab=simple\" target=\"_blank\"&gt;Acessar&lt;/a&gt;</td></tr>\n",
       "\t<tr><td>TUP.fid-435f4487_177a58b92fc_-75a2                                                                                                       </td><td>POINT (-44.072777 -12.962222)                                                                                                            </td><td>1502174025                                                                                                                               </td><td>187721                                                                                                                                   </td><td>OI                                                                                                                                       </td><td><span style=white-space:pre-wrap>DISPONIVEL   </span>                                                                                    </td><td>(77) 34842200                                                                                                                            </td><td>02/03/2005                                                                                                                               </td><td>10/02/2021 04h02                                                                                                                         </td><td>BA                                                                                                                                       </td><td>...                                                                                                                                      </td><td><span style=white-space:pre-wrap>CENTRO           </span>                                                                                </td><td><span style=white-space:pre-wrap>RUA PRINCIPAL             </span>                                                                       </td><td><span style=white-space:pre-wrap>0   </span>                                                                                             </td><td>47700000                                                                                                                                 </td><td>NAO                                                                                                                                      </td><td>NAO                                                                                                                                      </td><td>SIM                                                                                                                                      </td><td>-12.96222                                                                                                                                </td><td>-44.07278                                                                                                                                </td><td>&lt;a href=\"http://sistemas.anatel.gov.br/geonetwork/srv/por/metadata.show?id=16&amp;currTab=simple\" target=\"_blank\"&gt;Acessar&lt;/a&gt;</td></tr>\n",
       "\t<tr><td>TUP.fid-435f4487_177a58b92fc_-75a1                                                                                                       </td><td>POINT (-43.563333 -10.294166)                                                                                                            </td><td>1502174026                                                                                                                               </td><td>187769                                                                                                                                   </td><td>OI                                                                                                                                       </td><td>EM MANUTENCAO                                                                                                                            </td><td>(77) 34423023                                                                                                                            </td><td>20/05/2013                                                                                                                               </td><td>27/01/2021 04h01                                                                                                                         </td><td>BA                                                                                                                                       </td><td>...                                                                                                                                      </td><td><span style=white-space:pre-wrap>CENTRO           </span>                                                                                </td><td><span style=white-space:pre-wrap>RUA PRINCIPAL             </span>                                                                       </td><td><span style=white-space:pre-wrap>0   </span>                                                                                             </td><td>47120000                                                                                                                                 </td><td>NAO                                                                                                                                      </td><td>NAO                                                                                                                                      </td><td>SIM                                                                                                                                      </td><td>-10.29417                                                                                                                                </td><td>-43.56333                                                                                                                                </td><td>&lt;a href=\"http://sistemas.anatel.gov.br/geonetwork/srv/por/metadata.show?id=16&amp;currTab=simple\" target=\"_blank\"&gt;Acessar&lt;/a&gt;</td></tr>\n",
       "\t<tr><td>TUP.fid-435f4487_177a58b92fc_-75a0                                                                                                       </td><td>POINT (-45.022499 -11.631943)                                                                                                            </td><td>1502174027                                                                                                                               </td><td>187776                                                                                                                                   </td><td>OI                                                                                                                                       </td><td>EM MANUTENCAO                                                                                                                            </td><td>(77) 36247001                                                                                                                            </td><td>17/11/2005                                                                                                                               </td><td>06/02/2021 08h02                                                                                                                         </td><td>BA                                                                                                                                       </td><td>...                                                                                                                                      </td><td><span style=white-space:pre-wrap>CENTRO           </span>                                                                                </td><td><span style=white-space:pre-wrap>RUA PRINCIPAL             </span>                                                                       </td><td><span style=white-space:pre-wrap>0   </span>                                                                                             </td><td>47970000                                                                                                                                 </td><td>NAO                                                                                                                                      </td><td>NAO                                                                                                                                      </td><td>SIM                                                                                                                                      </td><td>-11.63194                                                                                                                                </td><td>-45.02250                                                                                                                                </td><td>&lt;a href=\"http://sistemas.anatel.gov.br/geonetwork/srv/por/metadata.show?id=16&amp;currTab=simple\" target=\"_blank\"&gt;Acessar&lt;/a&gt;</td></tr>\n",
       "\t<tr><td>TUP.fid-435f4487_177a58b92fc_-759f                                                                                                       </td><td>POINT (-42.039999 -12.627221)                                                                                                            </td><td>1502174028                                                                                                                               </td><td>187801                                                                                                                                   </td><td>OI                                                                                                                                       </td><td><span style=white-space:pre-wrap>DISPONIVEL   </span>                                                                                    </td><td>(77) 36472350                                                                                                                            </td><td>05/05/2006                                                                                                                               </td><td>11/02/2021 09h02                                                                                                                         </td><td>BA                                                                                                                                       </td><td>...                                                                                                                                      </td><td><span style=white-space:pre-wrap>CENTRO           </span>                                                                                </td><td><span style=white-space:pre-wrap>RUA PRINCIPAL             </span>                                                                       </td><td><span style=white-space:pre-wrap>0   </span>                                                                                             </td><td>46700000                                                                                                                                 </td><td>NAO                                                                                                                                      </td><td>NAO                                                                                                                                      </td><td>SIM                                                                                                                                      </td><td>-12.62722                                                                                                                                </td><td>-42.04000                                                                                                                                </td><td>&lt;a href=\"http://sistemas.anatel.gov.br/geonetwork/srv/por/metadata.show?id=16&amp;currTab=simple\" target=\"_blank\"&gt;Acessar&lt;/a&gt;</td></tr>\n",
       "\t<tr><td>TUP.fid-435f4487_177a58b92fc_-759e                                                                                                       </td><td>POINT (-40.727221 -14.860277)                                                                                                            </td><td>1502174029                                                                                                                               </td><td>187812                                                                                                                                   </td><td>OI                                                                                                                                       </td><td><span style=white-space:pre-wrap>DISPONIVEL   </span>                                                                                    </td><td>(77) 34031010                                                                                                                            </td><td>29/05/2005                                                                                                                               </td><td>11/02/2021 02h02                                                                                                                         </td><td>BA                                                                                                                                       </td><td>...                                                                                                                                      </td><td><span style=white-space:pre-wrap>CENTRO           </span>                                                                                </td><td><span style=white-space:pre-wrap>RUA PRINCIPAL             </span>                                                                       </td><td><span style=white-space:pre-wrap>0   </span>                                                                                             </td><td>45005410                                                                                                                                 </td><td>NAO                                                                                                                                      </td><td>NAO                                                                                                                                      </td><td>SIM                                                                                                                                      </td><td>-14.86028                                                                                                                                </td><td>-40.72722                                                                                                                                </td><td>&lt;a href=\"http://sistemas.anatel.gov.br/geonetwork/srv/por/metadata.show?id=16&amp;currTab=simple\" target=\"_blank\"&gt;Acessar&lt;/a&gt;</td></tr>\n",
       "\t<tr><td>TUP.fid-435f4487_177a58b92fc_-759d                                                                                                       </td><td>POINT (-42.62611 -13.334999)                                                                                                             </td><td>1502174030                                                                                                                               </td><td>187846                                                                                                                                   </td><td>OI                                                                                                                                       </td><td><span style=white-space:pre-wrap>DISPONIVEL   </span>                                                                                    </td><td>(77) 36782266                                                                                                                            </td><td>18/04/2013                                                                                                                               </td><td>11/02/2021 11h02                                                                                                                         </td><td>BA                                                                                                                                       </td><td>...                                                                                                                                      </td><td><span style=white-space:pre-wrap>CENTRO           </span>                                                                                </td><td><span style=white-space:pre-wrap>RUA PRINCIPAL             </span>                                                                       </td><td><span style=white-space:pre-wrap>0   </span>                                                                                             </td><td>46570000                                                                                                                                 </td><td>NAO                                                                                                                                      </td><td>NAO                                                                                                                                      </td><td>SIM                                                                                                                                      </td><td>-13.33500                                                                                                                                </td><td>-42.62611                                                                                                                                </td><td>&lt;a href=\"http://sistemas.anatel.gov.br/geonetwork/srv/por/metadata.show?id=16&amp;currTab=simple\" target=\"_blank\"&gt;Acessar&lt;/a&gt;</td></tr>\n",
       "\t<tr><td>TUP.fid-435f4487_177a58b92fc_-759c                                                                                                       </td><td>POINT (-41.216388 -18.834721)                                                                                                            </td><td>1502174031                                                                                                                               </td><td>185958                                                                                                                                   </td><td>OI                                                                                                                                       </td><td><span style=white-space:pre-wrap>DISPONIVEL   </span>                                                                                    </td><td>(27) 37586028                                                                                                                            </td><td>11/01/2002                                                                                                                               </td><td>11/02/2021 01h02                                                                                                                         </td><td>ES                                                                                                                                       </td><td>...                                                                                                                                      </td><td><span style=white-space:pre-wrap>CENTRO           </span>                                                                                </td><td><span style=white-space:pre-wrap>RUA JOSE RODRIENES TIAGO  </span>                                                                       </td><td><span style=white-space:pre-wrap>0   </span>                                                                                             </td><td>29776000                                                                                                                                 </td><td>NAO                                                                                                                                      </td><td>NAO                                                                                                                                      </td><td>SIM                                                                                                                                      </td><td>-18.83472                                                                                                                                </td><td>-41.21639                                                                                                                                </td><td>&lt;a href=\"http://sistemas.anatel.gov.br/geonetwork/srv/por/metadata.show?id=16&amp;currTab=simple\" target=\"_blank\"&gt;Acessar&lt;/a&gt;</td></tr>\n",
       "\t<tr><td>TUP.fid-435f4487_177a58b92fc_-759b                                                                                                       </td><td>POINT (-41.046944 -20.339166)                                                                                                            </td><td>1502174032                                                                                                                               </td><td>185975                                                                                                                                   </td><td>OI                                                                                                                                       </td><td><span style=white-space:pre-wrap>DISPONIVEL   </span>                                                                                    </td><td>(27) 32483344                                                                                                                            </td><td>08/12/2010                                                                                                                               </td><td>08/02/2021 02h02                                                                                                                         </td><td>ES                                                                                                                                       </td><td>...                                                                                                                                      </td><td><span style=white-space:pre-wrap>CENTRO           </span>                                                                                </td><td><span style=white-space:pre-wrap>ROD ES 165                </span>                                                                       </td><td><span style=white-space:pre-wrap>0   </span>                                                                                             </td><td>29260000                                                                                                                                 </td><td>NAO                                                                                                                                      </td><td>NAO                                                                                                                                      </td><td>NAO                                                                                                                                      </td><td>-20.33917                                                                                                                                </td><td>-41.04694                                                                                                                                </td><td>&lt;a href=\"http://sistemas.anatel.gov.br/geonetwork/srv/por/metadata.show?id=16&amp;currTab=simple\" target=\"_blank\"&gt;Acessar&lt;/a&gt;</td></tr>\n",
       "\t<tr><td>TUP.fid-435f4487_177a58b92fc_-759a                                                                                                       </td><td>POINT (-40.828888 -21.009166)                                                                                                            </td><td>1502174033                                                                                                                               </td><td>186057                                                                                                                                   </td><td>OI                                                                                                                                       </td><td><span style=white-space:pre-wrap>DISPONIVEL   </span>                                                                                    </td><td>(28) 35296583                                                                                                                            </td><td>01/10/2002                                                                                                                               </td><td>11/02/2021 04h02                                                                                                                         </td><td>ES                                                                                                                                       </td><td>...                                                                                                                                      </td><td><span style=white-space:pre-wrap>CENTRO           </span>                                                                                </td><td>PCA DOMINGOS JOSE MARTINS                                                                                                                </td><td><span style=white-space:pre-wrap>0   </span>                                                                                             </td><td>29330000                                                                                                                                 </td><td>NAO                                                                                                                                      </td><td>NAO                                                                                                                                      </td><td>SIM                                                                                                                                      </td><td>-21.00917                                                                                                                                </td><td>-40.82889                                                                                                                                </td><td>&lt;a href=\"http://sistemas.anatel.gov.br/geonetwork/srv/por/metadata.show?id=16&amp;currTab=simple\" target=\"_blank\"&gt;Acessar&lt;/a&gt;</td></tr>\n",
       "\t<tr><td>TUP.fid-435f4487_177a58b92fc_-7599                                                                                                       </td><td><span style=white-space:pre-wrap>POINT (-40.7625 -19.84611)   </span>                                                                    </td><td>1502174034                                                                                                                               </td><td>185696                                                                                                                                   </td><td>OI                                                                                                                                       </td><td><span style=white-space:pre-wrap>DISPONIVEL   </span>                                                                                    </td><td>(27) 32595008                                                                                                                            </td><td>25/06/2001                                                                                                                               </td><td>10/02/2021 08h02                                                                                                                         </td><td>ES                                                                                                                                       </td><td>...                                                                                                                                      </td><td><span style=white-space:pre-wrap>CENTRO           </span>                                                                                </td><td><span style=white-space:pre-wrap>RUA PRINCIPAL             </span>                                                                       </td><td><span style=white-space:pre-wrap>0   </span>                                                                                             </td><td>29662000                                                                                                                                 </td><td>NAO                                                                                                                                      </td><td>NAO                                                                                                                                      </td><td>SIM                                                                                                                                      </td><td>-19.84611                                                                                                                                </td><td>-40.76250                                                                                                                                </td><td>&lt;a href=\"http://sistemas.anatel.gov.br/geonetwork/srv/por/metadata.show?id=16&amp;currTab=simple\" target=\"_blank\"&gt;Acessar&lt;/a&gt;</td></tr>\n",
       "\t<tr><td>TUP.fid-435f4487_177a58b92fc_-7598                                                                                                       </td><td>POINT (-40.756111 -18.821666)                                                                                                            </td><td>1502174035                                                                                                                               </td><td>185963                                                                                                                                   </td><td>OI                                                                                                                                       </td><td><span style=white-space:pre-wrap>DISPONIVEL   </span>                                                                                    </td><td>(27) 37721056                                                                                                                            </td><td>31/12/2001                                                                                                                               </td><td>09/02/2021 11h02                                                                                                                         </td><td>ES                                                                                                                                       </td><td>...                                                                                                                                      </td><td><span style=white-space:pre-wrap>CENTRO           </span>                                                                                </td><td><span style=white-space:pre-wrap>RUA PRINCIPAL             </span>                                                                       </td><td><span style=white-space:pre-wrap>0   </span>                                                                                             </td><td>29830000                                                                                                                                 </td><td>NAO                                                                                                                                      </td><td>NAO                                                                                                                                      </td><td>SIM                                                                                                                                      </td><td>-18.82167                                                                                                                                </td><td>-40.75611                                                                                                                                </td><td>&lt;a href=\"http://sistemas.anatel.gov.br/geonetwork/srv/por/metadata.show?id=16&amp;currTab=simple\" target=\"_blank\"&gt;Acessar&lt;/a&gt;</td></tr>\n",
       "\t<tr><td>TUP.fid-435f4487_177a58b92fc_-7597                                                                                                       </td><td>POINT (-38.766943 -12.733054)                                                                                                            </td><td>1502174036                                                                                                                               </td><td>186099                                                                                                                                   </td><td>OI                                                                                                                                       </td><td>EM MANUTENCAO                                                                                                                            </td><td>(71) 36961103                                                                                                                            </td><td>31/07/2000                                                                                                                               </td><td>26/01/2021 02h01                                                                                                                         </td><td>BA                                                                                                                                       </td><td>...                                                                                                                                      </td><td><span style=white-space:pre-wrap>CENTRO           </span>                                                                                </td><td><span style=white-space:pre-wrap>RUA DA VALA               </span>                                                                       </td><td><span style=white-space:pre-wrap>0   </span>                                                                                             </td><td>44220000                                                                                                                                 </td><td>NAO                                                                                                                                      </td><td>NAO                                                                                                                                      </td><td>NAO                                                                                                                                      </td><td>-12.73305                                                                                                                                </td><td>-38.76694                                                                                                                                </td><td>&lt;a href=\"http://sistemas.anatel.gov.br/geonetwork/srv/por/metadata.show?id=16&amp;currTab=simple\" target=\"_blank\"&gt;Acessar&lt;/a&gt;</td></tr>\n",
       "\t<tr><td>TUP.fid-435f4487_177a58b92fc_-7596                                                                                                       </td><td>POINT (-38.770554 -12.779721)                                                                                                            </td><td>1502174037                                                                                                                               </td><td>186100                                                                                                                                   </td><td>OI                                                                                                                                       </td><td>EM MANUTENCAO                                                                                                                            </td><td>(71) 36961778                                                                                                                            </td><td>24/11/2014                                                                                                                               </td><td>26/01/2021 02h01                                                                                                                         </td><td>BA                                                                                                                                       </td><td>...                                                                                                                                      </td><td><span style=white-space:pre-wrap>CENTRO           </span>                                                                                </td><td><span style=white-space:pre-wrap>RUA PORTO                 </span>                                                                       </td><td><span style=white-space:pre-wrap>0   </span>                                                                                             </td><td>44220972                                                                                                                                 </td><td>NAO                                                                                                                                      </td><td>NAO                                                                                                                                      </td><td>NAO                                                                                                                                      </td><td>-12.77972                                                                                                                                </td><td>-38.77055                                                                                                                                </td><td>&lt;a href=\"http://sistemas.anatel.gov.br/geonetwork/srv/por/metadata.show?id=16&amp;currTab=simple\" target=\"_blank\"&gt;Acessar&lt;/a&gt;</td></tr>\n",
       "\t<tr><td>TUP.fid-435f4487_177a58b92fc_-7595                                                                                                       </td><td>POINT (-44.466943 -12.065555)                                                                                                            </td><td>1502174038                                                                                                                               </td><td>171817                                                                                                                                   </td><td>OI                                                                                                                                       </td><td><span style=white-space:pre-wrap>DISPONIVEL   </span>                                                                                    </td><td>(77) 36225167                                                                                                                            </td><td>27/11/2001                                                                                                                               </td><td>11/02/2021 04h02                                                                                                                         </td><td>BA                                                                                                                                       </td><td>...                                                                                                                                      </td><td><span style=white-space:pre-wrap>CENTRO           </span>                                                                                </td><td><span style=white-space:pre-wrap>RUA PAULISTA              </span>                                                                       </td><td><span style=white-space:pre-wrap>0   </span>                                                                                             </td><td>47960000                                                                                                                                 </td><td>NAO                                                                                                                                      </td><td>NAO                                                                                                                                      </td><td>SIM                                                                                                                                      </td><td>-12.06555                                                                                                                                </td><td>-44.46694                                                                                                                                </td><td>&lt;a href=\"http://sistemas.anatel.gov.br/geonetwork/srv/por/metadata.show?id=16&amp;currTab=simple\" target=\"_blank\"&gt;Acessar&lt;/a&gt;</td></tr>\n",
       "\t<tr><td>TUP.fid-435f4487_177a58b92fc_-7594                                                                                                       </td><td>POINT (-43.479166 -19.939721)                                                                                                            </td><td>1502174039                                                                                                                               </td><td>171832                                                                                                                                   </td><td>OI                                                                                                                                       </td><td><span style=white-space:pre-wrap>DISPONIVEL   </span>                                                                                    </td><td>(31) 38372724                                                                                                                            </td><td>28/01/1994                                                                                                                               </td><td>09/02/2021 01h02                                                                                                                         </td><td>MG                                                                                                                                       </td><td>...                                                                                                                                      </td><td><span style=white-space:pre-wrap>CENTRO           </span>                                                                                </td><td><span style=white-space:pre-wrap>RUA MIN CLOVIS SALGADO    </span>                                                                       </td><td><span style=white-space:pre-wrap>EN  </span>                                                                                             </td><td>35970000                                                                                                                                 </td><td>NAO                                                                                                                                      </td><td>NAO                                                                                                                                      </td><td>NAO                                                                                                                                      </td><td>-19.93972                                                                                                                                </td><td>-43.47917                                                                                                                                </td><td>&lt;a href=\"http://sistemas.anatel.gov.br/geonetwork/srv/por/metadata.show?id=16&amp;currTab=simple\" target=\"_blank\"&gt;Acessar&lt;/a&gt;</td></tr>\n",
       "\t<tr><td>TUP.fid-435f4487_177a58b92fc_-7593                                                                                                       </td><td>POINT (-41.623054 -20.358333)                                                                                                            </td><td>1502174040                                                                                                                               </td><td>171853                                                                                                                                   </td><td>OI                                                                                                                                       </td><td><span style=white-space:pre-wrap>DISPONIVEL   </span>                                                                                    </td><td>(28) 35481229                                                                                                                            </td><td>23/11/2020                                                                                                                               </td><td>09/02/2021 09h02                                                                                                                         </td><td>ES                                                                                                                                       </td><td>...                                                                                                                                      </td><td><span style=white-space:pre-wrap>CENTRO           </span>                                                                                </td><td><span style=white-space:pre-wrap>RUA PRINCIPAL             </span>                                                                       </td><td><span style=white-space:pre-wrap>0   </span>                                                                                             </td><td>29398000                                                                                                                                 </td><td>NAO                                                                                                                                      </td><td>NAO                                                                                                                                      </td><td>SIM                                                                                                                                      </td><td>-20.35833                                                                                                                                </td><td>-41.62305                                                                                                                                </td><td>&lt;a href=\"http://sistemas.anatel.gov.br/geonetwork/srv/por/metadata.show?id=16&amp;currTab=simple\" target=\"_blank\"&gt;Acessar&lt;/a&gt;</td></tr>\n",
       "\t<tr><td>TUP.fid-435f4487_177a58b92fc_-7592                                                                                                       </td><td>POINT (-43.267777 -16.240277)                                                                                                            </td><td>1502174041                                                                                                                               </td><td>185562                                                                                                                                   </td><td>OI                                                                                                                                       </td><td><span style=white-space:pre-wrap>DISPONIVEL   </span>                                                                                    </td><td>(38) 32334083                                                                                                                            </td><td>27/12/2001                                                                                                                               </td><td>10/02/2021 09h02                                                                                                                         </td><td>MG                                                                                                                                       </td><td>...                                                                                                                                      </td><td>JOAQUIM RODRIGUES                                                                                                                        </td><td><span style=white-space:pre-wrap>RUA E                     </span>                                                                       </td><td>FR0                                                                                                                                      </td><td>39585000                                                                                                                                 </td><td>NAO                                                                                                                                      </td><td>NAO                                                                                                                                      </td><td>SIM                                                                                                                                      </td><td>-16.24028                                                                                                                                </td><td>-43.26778                                                                                                                                </td><td>&lt;a href=\"http://sistemas.anatel.gov.br/geonetwork/srv/por/metadata.show?id=16&amp;currTab=simple\" target=\"_blank\"&gt;Acessar&lt;/a&gt;</td></tr>\n",
       "\t<tr><td>TUP.fid-435f4487_177a58b92fc_-7591                                                                                                       </td><td>POINT (-43.096944 -22.143055)                                                                                                            </td><td>1502174042                                                                                                                               </td><td>183834                                                                                                                                   </td><td>OI                                                                                                                                       </td><td><span style=white-space:pre-wrap>DISPONIVEL   </span>                                                                                    </td><td>(24) 22208628                                                                                                                            </td><td>20/07/2014                                                                                                                               </td><td>11/02/2021 02h02                                                                                                                         </td><td>RJ                                                                                                                                       </td><td>...                                                                                                                                      </td><td><span style=white-space:pre-wrap>BEMPOSTA         </span>                                                                                </td><td><span style=white-space:pre-wrap>RUA WERNECK               </span>                                                                       </td><td><span style=white-space:pre-wrap>0   </span>                                                                                             </td><td>25840000                                                                                                                                 </td><td>NAO                                                                                                                                      </td><td>NAO                                                                                                                                      </td><td>NAO                                                                                                                                      </td><td>-22.14306                                                                                                                                </td><td>-43.09694                                                                                                                                </td><td>&lt;a href=\"http://sistemas.anatel.gov.br/geonetwork/srv/por/metadata.show?id=16&amp;currTab=simple\" target=\"_blank\"&gt;Acessar&lt;/a&gt;</td></tr>\n",
       "\t<tr><td>TUP.fid-435f4487_177a58b92fc_-7590                                                                                                       </td><td>POINT (-43.580277 -22.16861)                                                                                                             </td><td>1502174043                                                                                                                               </td><td>183837                                                                                                                                   </td><td>OI                                                                                                                                       </td><td><span style=white-space:pre-wrap>DISPONIVEL   </span>                                                                                    </td><td>(24) 24580616                                                                                                                            </td><td>08/12/2006                                                                                                                               </td><td>11/02/2021 08h02                                                                                                                         </td><td>RJ                                                                                                                                       </td><td>...                                                                                                                                      </td><td><span style=white-space:pre-wrap>CENTRO           </span>                                                                                </td><td>RUA JOAO CARVALHO DA ROCHA                                                                                                               </td><td><span style=white-space:pre-wrap>0   </span>                                                                                             </td><td>27660000                                                                                                                                 </td><td>NAO                                                                                                                                      </td><td>NAO                                                                                                                                      </td><td>NAO                                                                                                                                      </td><td>-22.16861                                                                                                                                </td><td>-43.58028                                                                                                                                </td><td>&lt;a href=\"http://sistemas.anatel.gov.br/geonetwork/srv/por/metadata.show?id=16&amp;currTab=simple\" target=\"_blank\"&gt;Acessar&lt;/a&gt;</td></tr>\n",
       "\t<tr><td>TUP.fid-435f4487_177a58b92fc_-758f                                                                                                       </td><td>POINT (-43.584444 -22.168332)                                                                                                            </td><td>1502174044                                                                                                                               </td><td>183838                                                                                                                                   </td><td>OI                                                                                                                                       </td><td><span style=white-space:pre-wrap>DISPONIVEL   </span>                                                                                    </td><td>(24) 24581295                                                                                                                            </td><td>18/09/2000                                                                                                                               </td><td>11/02/2021 08h02                                                                                                                         </td><td>RJ                                                                                                                                       </td><td>...                                                                                                                                      </td><td><span style=white-space:pre-wrap>CENTRO           </span>                                                                                </td><td><span style=white-space:pre-wrap>RUA LEONI RAMOS           </span>                                                                       </td><td><span style=white-space:pre-wrap>0   </span>                                                                                             </td><td>27660000                                                                                                                                 </td><td>NAO                                                                                                                                      </td><td>NAO                                                                                                                                      </td><td>NAO                                                                                                                                      </td><td>-22.16833                                                                                                                                </td><td>-43.58444                                                                                                                                </td><td>&lt;a href=\"http://sistemas.anatel.gov.br/geonetwork/srv/por/metadata.show?id=16&amp;currTab=simple\" target=\"_blank\"&gt;Acessar&lt;/a&gt;</td></tr>\n",
       "\t<tr><td>TUP.fid-435f4487_177a58b92fc_-758e                                                                                                       </td><td>POINT (-43.588333 -22.154444)                                                                                                            </td><td>1502174045                                                                                                                               </td><td>183839                                                                                                                                   </td><td>OI                                                                                                                                       </td><td><span style=white-space:pre-wrap>DISPONIVEL   </span>                                                                                    </td><td>(24) 24580778                                                                                                                            </td><td>25/07/2011                                                                                                                               </td><td>11/02/2021 06h02                                                                                                                         </td><td>RJ                                                                                                                                       </td><td>...                                                                                                                                      </td><td><span style=white-space:pre-wrap>CENTRO           </span>                                                                                </td><td>RUA ADILIO RIBEIRO AMORIM                                                                                                                </td><td><span style=white-space:pre-wrap>0   </span>                                                                                             </td><td>27660000                                                                                                                                 </td><td>NAO                                                                                                                                      </td><td>NAO                                                                                                                                      </td><td>SIM                                                                                                                                      </td><td>-22.15444                                                                                                                                </td><td>-43.58833                                                                                                                                </td><td>&lt;a href=\"http://sistemas.anatel.gov.br/geonetwork/srv/por/metadata.show?id=16&amp;currTab=simple\" target=\"_blank\"&gt;Acessar&lt;/a&gt;</td></tr>\n",
       "\t<tr><td>TUP.fid-435f4487_177a58b92fc_-758d                                                                                                       </td><td>POINT (-39.631388 -11.611388)                                                                                                            </td><td>1502174046                                                                                                                               </td><td>187305                                                                                                                                   </td><td>OI                                                                                                                                       </td><td><span style=white-space:pre-wrap>DISPONIVEL   </span>                                                                                    </td><td>(75) 32341040                                                                                                                            </td><td>17/08/1995                                                                                                                               </td><td>11/02/2021 05h02                                                                                                                         </td><td>BA                                                                                                                                       </td><td>...                                                                                                                                      </td><td><span style=white-space:pre-wrap>CENTRO           </span>                                                                                </td><td><span style=white-space:pre-wrap>RUA PEDRO MAIA MATOS      </span>                                                                       </td><td><span style=white-space:pre-wrap>0   </span>                                                                                             </td><td>44642000                                                                                                                                 </td><td>NAO                                                                                                                                      </td><td>NAO                                                                                                                                      </td><td>NAO                                                                                                                                      </td><td>-11.61139                                                                                                                                </td><td>-39.63139                                                                                                                                </td><td>&lt;a href=\"http://sistemas.anatel.gov.br/geonetwork/srv/por/metadata.show?id=16&amp;currTab=simple\" target=\"_blank\"&gt;Acessar&lt;/a&gt;</td></tr>\n",
       "\t<tr><td>TUP.fid-435f4487_177a58b92fc_-758c                                                                                                       </td><td><span style=white-space:pre-wrap>POINT (-44.4625 -12.063611)  </span>                                                                    </td><td>1502174047                                                                                                                               </td><td>187726                                                                                                                                   </td><td>OI                                                                                                                                       </td><td>EM MANUTENCAO                                                                                                                            </td><td>(77) 36225019                                                                                                                            </td><td>28/11/2001                                                                                                                               </td><td>02/02/2021 04h02                                                                                                                         </td><td>BA                                                                                                                                       </td><td>...                                                                                                                                      </td><td><span style=white-space:pre-wrap>CENTRO           </span>                                                                                </td><td><span style=white-space:pre-wrap>RUA TELEMAR               </span>                                                                       </td><td><span style=white-space:pre-wrap>0   </span>                                                                                             </td><td>47960000                                                                                                                                 </td><td>NAO                                                                                                                                      </td><td>NAO                                                                                                                                      </td><td>NAO                                                                                                                                      </td><td>-12.06361                                                                                                                                </td><td>-44.46250                                                                                                                                </td><td>&lt;a href=\"http://sistemas.anatel.gov.br/geonetwork/srv/por/metadata.show?id=16&amp;currTab=simple\" target=\"_blank\"&gt;Acessar&lt;/a&gt;</td></tr>\n",
       "\t<tr><td>TUP.fid-435f4487_177a58b92fc_-758b                                                                                                       </td><td><span style=white-space:pre-wrap>POINT (-44.701944 -23.3)     </span>                                                                    </td><td>1502174048                                                                                                                               </td><td>184066                                                                                                                                   </td><td>OI                                                                                                                                       </td><td><span style=white-space:pre-wrap>DISPONIVEL   </span>                                                                                    </td><td>(24) 33717677                                                                                                                            </td><td>10/05/2003                                                                                                                               </td><td>11/02/2021 03h02                                                                                                                         </td><td>RJ                                                                                                                                       </td><td>...                                                                                                                                      </td><td><span style=white-space:pre-wrap>PATRIMONIO       </span>                                                                                </td><td><span style=white-space:pre-wrap>ROD BR CENTO E UM         </span>                                                                       </td><td><span style=white-space:pre-wrap>0   </span>                                                                                             </td><td>23970000                                                                                                                                 </td><td>NAO                                                                                                                                      </td><td>NAO                                                                                                                                      </td><td>SIM                                                                                                                                      </td><td>-23.30000                                                                                                                                </td><td>-44.70194                                                                                                                                </td><td>&lt;a href=\"http://sistemas.anatel.gov.br/geonetwork/srv/por/metadata.show?id=16&amp;currTab=simple\" target=\"_blank\"&gt;Acessar&lt;/a&gt;</td></tr>\n",
       "\t<tr><td>TUP.fid-435f4487_177a58b92fc_-758a                                                                                                       </td><td>POINT (-40.715833 -15.625277)                                                                                                            </td><td>1502174049                                                                                                                               </td><td>187827                                                                                                                                   </td><td>OI                                                                                                                                       </td><td>EM MANUTENCAO                                                                                                                            </td><td>(77) 34392424                                                                                                                            </td><td>26/07/2008                                                                                                                               </td><td>25/01/2021 11h01                                                                                                                         </td><td>BA                                                                                                                                       </td><td>...                                                                                                                                      </td><td><span style=white-space:pre-wrap>CENTRO           </span>                                                                                </td><td><span style=white-space:pre-wrap>RUA PRINCIPAL             </span>                                                                       </td><td><span style=white-space:pre-wrap>0   </span>                                                                                             </td><td>45150000                                                                                                                                 </td><td>NAO                                                                                                                                      </td><td>NAO                                                                                                                                      </td><td>SIM                                                                                                                                      </td><td>-15.62528                                                                                                                                </td><td>-40.71583                                                                                                                                </td><td>&lt;a href=\"http://sistemas.anatel.gov.br/geonetwork/srv/por/metadata.show?id=16&amp;currTab=simple\" target=\"_blank\"&gt;Acessar&lt;/a&gt;</td></tr>\n",
       "\t<tr><td>TUP.fid-435f4487_177a58b92fc_-7589                                                                                                       </td><td>POINT (-43.301944 -20.681943)                                                                                                            </td><td>1502174050                                                                                                                               </td><td>184339                                                                                                                                   </td><td>OI                                                                                                                                       </td><td><span style=white-space:pre-wrap>DISPONIVEL   </span>                                                                                    </td><td>(31) 37461486                                                                                                                            </td><td>29/12/1999                                                                                                                               </td><td>10/02/2021 10h02                                                                                                                         </td><td>MG                                                                                                                                       </td><td>...                                                                                                                                      </td><td><span style=white-space:pre-wrap>CENTRO           </span>                                                                                </td><td><span style=white-space:pre-wrap>RUA STA EFIGENIA          </span>                                                                       </td><td>FRFR                                                                                                                                     </td><td>36480000                                                                                                                                 </td><td>NAO                                                                                                                                      </td><td>NAO                                                                                                                                      </td><td>SIM                                                                                                                                      </td><td>-20.68194                                                                                                                                </td><td>-43.30194                                                                                                                                </td><td>&lt;a href=\"http://sistemas.anatel.gov.br/geonetwork/srv/por/metadata.show?id=16&amp;currTab=simple\" target=\"_blank\"&gt;Acessar&lt;/a&gt;</td></tr>\n",
       "</tbody>\n",
       "</table>\n"
      ],
      "text/latex": [
       "\\begin{tabular}{r|llllllllllllllllllllll}\n",
       " FID & est\\_geom & id\\_tup & idttup & concessionaria & status & numero & dtativacao & dataultimacomunicacao & siglauf & ... & bairro & logradouro & complemento & cep & deficientecadeirante & deficienteaudio & vintequatrohoras & latitude & longitude & metadado\\\\\n",
       "\\hline\n",
       "\t TUP.fid-435f4487\\_177a530f832\\_-4fea                                                                                        & POINT (-49.948055 -18.691388)                                                                                                 & 1501987076                                                                                                                    & 10300                                                                                                                         & CTBC                                                                                                                          & EM MANUTENCAO                                                                                                                 & (34) 32521386                                                                                                                 & 28/06/2001                                                                                                                    & 01/11/2018 05h09                                                                                                              & MG                                                                                                                            & ...                                                                                                                           & CENTRO                                                                                                                        & R MINAS GERAIS                                                                                                                & 0                                                                                                                             & 38350000                                                                                                                      & NAO                                                                                                                           & NAO                                                                                                                           & SIM                                                                                                                           & -18.69139                                                                                                                     & -49.94805                                                                                                                     & <a href=\"http://sistemas.anatel.gov.br/geonetwork/srv/por/metadata.show?id=16\\&currTab=simple\" target=\"\\_blank\">Acessar</a>\\\\\n",
       "\t TUP.fid-435f4487\\_177a530f832\\_-4fe9                                                                                        & POINT (-49.479166 -18.968332)                                                                                                 & 1501987077                                                                                                                    & 10313                                                                                                                         & CTBC                                                                                                                          & DISPONIVEL                                                                                                                    & (34) 32687546                                                                                                                 & 10/10/2001                                                                                                                    & 01/11/2018 02h27                                                                                                              & MG                                                                                                                            & ...                                                                                                                           & ALVORADA                                                                                                                      & R CANELA                                                                                                                      & 0                                                                                                                             & 38307090                                                                                                                      & NAO                                                                                                                           & NAO                                                                                                                           & NAO                                                                                                                           & -18.96833                                                                                                                     & -49.47917                                                                                                                     & <a href=\"http://sistemas.anatel.gov.br/geonetwork/srv/por/metadata.show?id=16\\&currTab=simple\" target=\"\\_blank\">Acessar</a>\\\\\n",
       "\t TUP.fid-435f4487\\_177a530f832\\_-4fe8                                                                                        & POINT (-47.314166 -21.274443)                                                                                                 & 1501987078                                                                                                                    & 10360                                                                                                                         & CTBC                                                                                                                          & EM MANUTENCAO                                                                                                                 & (16) 36676627                                                                                                                 & 24/04/2001                                                                                                                    & 01/11/2018 06h10                                                                                                              & SP                                                                                                                            & ...                                                                                                                           & CENTRO                                                                                                                        & R MATA                                                                                                                        & 0                                                                                                                             & 14240000                                                                                                                      & NAO                                                                                                                           & NAO                                                                                                                           & SIM                                                                                                                           & -21.27444                                                                                                                     & -47.31417                                                                                                                     & <a href=\"http://sistemas.anatel.gov.br/geonetwork/srv/por/metadata.show?id=16\\&currTab=simple\" target=\"\\_blank\">Acessar</a>\\\\\n",
       "\t TUP.fid-435f4487\\_177a530f832\\_-4fe7                                                                                        & POINT (-49.464166 -18.959166)                                                                                                 & 1501987079                                                                                                                    &    35                                                                                                                         & CTBC                                                                                                                          & DISPONIVEL                                                                                                                    & (34) 32688884                                                                                                                 & 02/05/2008                                                                                                                    & 01/11/2018 08h02                                                                                                              & MG                                                                                                                            & ...                                                                                                                           & SAO JOSE                                                                                                                      & R JOAO AVI                                                                                                                    & 0                                                                                                                             & 38301046                                                                                                                      & NAO                                                                                                                           & NAO                                                                                                                           & SIM                                                                                                                           & -18.95917                                                                                                                     & -49.46417                                                                                                                     & <a href=\"http://sistemas.anatel.gov.br/geonetwork/srv/por/metadata.show?id=16\\&currTab=simple\" target=\"\\_blank\">Acessar</a>\\\\\n",
       "\t TUP.fid-435f4487\\_177a530f832\\_-4fe6                                                                                        & POINT (-49.481388 -19.006111)                                                                                                 & 1501987080                                                                                                                    &    56                                                                                                                         & CTBC                                                                                                                          & DISPONIVEL                                                                                                                    & (34) 32693675                                                                                                                 & 24/04/2001                                                                                                                    & 01/11/2018 06h01                                                                                                              & MG                                                                                                                            & ...                                                                                                                           & NOVO TEMPO II                                                                                                                 & R FLAVIO OLIVEIRA VILELA                                                                                                      & 0                                                                                                                             & 38305196                                                                                                                      & NAO                                                                                                                           & NAO                                                                                                                           & SIM                                                                                                                           & -19.00611                                                                                                                     & -49.48139                                                                                                                     & <a href=\"http://sistemas.anatel.gov.br/geonetwork/srv/por/metadata.show?id=16\\&currTab=simple\" target=\"\\_blank\">Acessar</a>\\\\\n",
       "\t TUP.fid-435f4487\\_177a530f832\\_-4fe5                                                                                        & POINT (-49.488888 -18.997221)                                                                                                 & 1501987081                                                                                                                    &    68                                                                                                                         & CTBC                                                                                                                          & DISPONIVEL                                                                                                                    & (34) 32622172                                                                                                                 & 12/01/2001                                                                                                                    & 01/11/2018 02h06                                                                                                              & MG                                                                                                                            & ...                                                                                                                           & LAGOA AZUL II                                                                                                                 & R SALERME JABUR                                                                                                               & 0                                                                                                                             & 38307516                                                                                                                      & NAO                                                                                                                           & NAO                                                                                                                           & SIM                                                                                                                           & -18.99722                                                                                                                     & -49.48889                                                                                                                     & <a href=\"http://sistemas.anatel.gov.br/geonetwork/srv/por/metadata.show?id=16\\&currTab=simple\" target=\"\\_blank\">Acessar</a>\\\\\n",
       "\t TUP.fid-435f4487\\_177a530f832\\_-4fe4                                                                                        & POINT (-49.464166 -18.958055)                                                                                                 & 1501987082                                                                                                                    &   101                                                                                                                         & CTBC                                                                                                                          & DISPONIVEL                                                                                                                    & (34) 32699367                                                                                                                 & 25/05/2001                                                                                                                    & 01/11/2018 05h40                                                                                                              & MG                                                                                                                            & ...                                                                                                                           & SANTO ANTONIO                                                                                                                 & AV DEODORO                                                                                                                    & 0                                                                                                                             & 38301006                                                                                                                      & NAO                                                                                                                           & NAO                                                                                                                           & SIM                                                                                                                           & -18.95806                                                                                                                     & -49.46417                                                                                                                     & <a href=\"http://sistemas.anatel.gov.br/geonetwork/srv/por/metadata.show?id=16\\&currTab=simple\" target=\"\\_blank\">Acessar</a>\\\\\n",
       "\t TUP.fid-435f4487\\_177a530f832\\_-4fe3                                                                                        & POINT (-49.477777 -18.976388)                                                                                                 & 1501987083                                                                                                                    &   114                                                                                                                         & CTBC                                                                                                                          & DISPONIVEL                                                                                                                    & (34) 32682475                                                                                                                 & 28/10/1998                                                                                                                    & 01/11/2018 06h47                                                                                                              & MG                                                                                                                            & ...                                                                                                                           & PLATINA                                                                                                                       & R ANTONIO PEDRO GUIMARAES                                                                                                     & 0                                                                                                                             & 38307078                                                                                                                      & NAO                                                                                                                           & NAO                                                                                                                           & SIM                                                                                                                           & -18.97639                                                                                                                     & -49.47778                                                                                                                     & <a href=\"http://sistemas.anatel.gov.br/geonetwork/srv/por/metadata.show?id=16\\&currTab=simple\" target=\"\\_blank\">Acessar</a>\\\\\n",
       "\t TUP.fid-435f4487\\_177a530f832\\_-4fe2                                                                                        & POINT (-49.48111 -19.001944)                                                                                                  & 1501987084                                                                                                                    &   116                                                                                                                         & CTBC                                                                                                                          & DISPONIVEL                                                                                                                    & (34) 32693673                                                                                                                 & 02/04/2001                                                                                                                    & 01/11/2018 06h02                                                                                                              & MG                                                                                                                            & ...                                                                                                                           & NOVO TEMPO II                                                                                                                 & R AMORIVAL GONCALVES ALMEIDA                                                                                                  & 0                                                                                                                             & 38305190                                                                                                                      & NAO                                                                                                                           & NAO                                                                                                                           & SIM                                                                                                                           & -19.00194                                                                                                                     & -49.48111                                                                                                                     & <a href=\"http://sistemas.anatel.gov.br/geonetwork/srv/por/metadata.show?id=16\\&currTab=simple\" target=\"\\_blank\">Acessar</a>\\\\\n",
       "\t TUP.fid-435f4487\\_177a530f832\\_-4fe1                                                                                        & POINT (-49.463333 -18.981943)                                                                                                 & 1501987085                                                                                                                    &   121                                                                                                                         & CTBC                                                                                                                          & DISPONIVEL                                                                                                                    & (34) 32625586                                                                                                                 & 13/06/2001                                                                                                                    & 01/11/2018 03h48                                                                                                              & MG                                                                                                                            & ...                                                                                                                           & CENTRO                                                                                                                        & AV 31                                                                                                                         & 0                                                                                                                             & 38300104                                                                                                                      & NAO                                                                                                                           & NAO                                                                                                                           & SIM                                                                                                                           & -18.98194                                                                                                                     & -49.46333                                                                                                                     & <a href=\"http://sistemas.anatel.gov.br/geonetwork/srv/por/metadata.show?id=16\\&currTab=simple\" target=\"\\_blank\">Acessar</a>\\\\\n",
       "\t TUP.fid-435f4487\\_177a530f832\\_-4fe0                                                                                        & POINT (-49.47861 -18.984999)                                                                                                  & 1501987086                                                                                                                    &   196                                                                                                                         & CTBC                                                                                                                          & DISPONIVEL                                                                                                                    & (34) 32681412                                                                                                                 & 09/06/1998                                                                                                                    & 01/11/2018 05h59                                                                                                              & MG                                                                                                                            & ...                                                                                                                           & PIRAPITINGA                                                                                                                   & AV NITEROI                                                                                                                    & 0                                                                                                                             & 38307142                                                                                                                      & NAO                                                                                                                           & NAO                                                                                                                           & SIM                                                                                                                           & -18.98500                                                                                                                     & -49.47861                                                                                                                     & <a href=\"http://sistemas.anatel.gov.br/geonetwork/srv/por/metadata.show?id=16\\&currTab=simple\" target=\"\\_blank\">Acessar</a>\\\\\n",
       "\t TUP.fid-435f4487\\_177a530f832\\_-4fdf                                                                                        & POINT (-49.943055 -18.69111)                                                                                                  & 1501987087                                                                                                                    &   215                                                                                                                         & CTBC                                                                                                                          & DISPONIVEL                                                                                                                    & (34) 32521393                                                                                                                 & 28/06/2001                                                                                                                    & 01/11/2018 04h51                                                                                                              & MG                                                                                                                            & ...                                                                                                                           & CENTRO                                                                                                                        & R BENEDITO WALDEMAR DA SILVA                                                                                                  & 0                                                                                                                             & 38350000                                                                                                                      & SIM                                                                                                                           & NAO                                                                                                                           & SIM                                                                                                                           & -18.69111                                                                                                                     & -49.94306                                                                                                                     & <a href=\"http://sistemas.anatel.gov.br/geonetwork/srv/por/metadata.show?id=16\\&currTab=simple\" target=\"\\_blank\">Acessar</a>\\\\\n",
       "\t TUP.fid-435f4487\\_177a530f832\\_-4fde                                                                                        & POINT (-49.464444 -18.980277)                                                                                                 & 1501987088                                                                                                                    &   216                                                                                                                         & CTBC                                                                                                                          & DISPONIVEL                                                                                                                    & (34) 32682807                                                                                                                 & 30/06/2001                                                                                                                    & 01/11/2018 01h38                                                                                                              & MG                                                                                                                            & ...                                                                                                                           & CENTRO                                                                                                                        & AV VINTE E CINCO                                                                                                              & 0                                                                                                                             & 38300095                                                                                                                      & NAO                                                                                                                           & NAO                                                                                                                           & SIM                                                                                                                           & -18.98028                                                                                                                     & -49.46444                                                                                                                     & <a href=\"http://sistemas.anatel.gov.br/geonetwork/srv/por/metadata.show?id=16\\&currTab=simple\" target=\"\\_blank\">Acessar</a>\\\\\n",
       "\t TUP.fid-435f4487\\_177a530f832\\_-4fdd                                                                                        & POINT (-49.464444 -18.972777)                                                                                                 & 1501987089                                                                                                                    &   240                                                                                                                         & CTBC                                                                                                                          & EM MANUTENCAO                                                                                                                 & (34) 32681549                                                                                                                 & 16/10/1998                                                                                                                    & 26/10/2018 10h49                                                                                                              & MG                                                                                                                            & ...                                                                                                                           & CENTRO                                                                                                                        & AV ONZE                                                                                                                       & 0                                                                                                                             & 38300142                                                                                                                      & NAO                                                                                                                           & NAO                                                                                                                           & SIM                                                                                                                           & -18.97278                                                                                                                     & -49.46444                                                                                                                     & <a href=\"http://sistemas.anatel.gov.br/geonetwork/srv/por/metadata.show?id=16\\&currTab=simple\" target=\"\\_blank\">Acessar</a>\\\\\n",
       "\t TUP.fid-435f4487\\_177a530f832\\_-4fdc                                                                                        & POINT (-49.451944 -18.967221)                                                                                                 & 1501987090                                                                                                                    &   285                                                                                                                         & CTBC                                                                                                                          & DISPONIVEL                                                                                                                    & (34) 32687542                                                                                                                 & 13/02/2012                                                                                                                    & 28/10/2018 09h27                                                                                                              & MG                                                                                                                            & ...                                                                                                                           & CENTRO                                                                                                                        & AV 21                                                                                                                         & 0                                                                                                                             & 38300120                                                                                                                      & NAO                                                                                                                           & NAO                                                                                                                           & SIM                                                                                                                           & -18.96722                                                                                                                     & -49.45194                                                                                                                     & <a href=\"http://sistemas.anatel.gov.br/geonetwork/srv/por/metadata.show?id=16\\&currTab=simple\" target=\"\\_blank\">Acessar</a>\\\\\n",
       "\t TUP.fid-435f4487\\_177a530f832\\_-4fdb                                                                                        & POINT (-49.434721 -18.985555)                                                                                                 & 1501987091                                                                                                                    &   326                                                                                                                         & CTBC                                                                                                                          & DISPONIVEL                                                                                                                    & (34) 32610223                                                                                                                 & 03/01/2012                                                                                                                    & 31/10/2018 10h54                                                                                                              & MG                                                                                                                            & ...                                                                                                                           & RESIDENCIAL CANAA II                                                                                                          & AV C-13                                                                                                                       & 0                                                                                                                             & 30000000                                                                                                                      & NAO                                                                                                                           & NAO                                                                                                                           & SIM                                                                                                                           & -18.98556                                                                                                                     & -49.43472                                                                                                                     & <a href=\"http://sistemas.anatel.gov.br/geonetwork/srv/por/metadata.show?id=16\\&currTab=simple\" target=\"\\_blank\">Acessar</a>\\\\\n",
       "\t TUP.fid-435f4487\\_177a530f832\\_-4fda                                                                                        & POINT (-49.94111 -18.693055)                                                                                                  & 1501987092                                                                                                                    &   343                                                                                                                         & CTBC                                                                                                                          & DISPONIVEL                                                                                                                    & (34) 32521401                                                                                                                 & 28/06/2001                                                                                                                    & 01/11/2018 01h42                                                                                                              & MG                                                                                                                            & ...                                                                                                                           & CENTRO                                                                                                                        & R OMAR OLIVEIRA DINIZ                                                                                                         & 0                                                                                                                             & 38350000                                                                                                                      & NAO                                                                                                                           & NAO                                                                                                                           & SIM                                                                                                                           & -18.69306                                                                                                                     & -49.94111                                                                                                                     & <a href=\"http://sistemas.anatel.gov.br/geonetwork/srv/por/metadata.show?id=16\\&currTab=simple\" target=\"\\_blank\">Acessar</a>\\\\\n",
       "\t TUP.fid-435f4487\\_177a530f832\\_-4fd9                                                                                        & POINT (-49.488333 -18.983333)                                                                                                 & 1501987093                                                                                                                    &   347                                                                                                                         & CTBC                                                                                                                          & DISPONIVEL                                                                                                                    & (34) 32695532                                                                                                                 & 11/02/2006                                                                                                                    & 01/11/2018 04h53                                                                                                              & MG                                                                                                                            & ...                                                                                                                           & PIRAPITINGA                                                                                                                   & R ANTONIO CAETANO NOVAES                                                                                                      & 0                                                                                                                             & 30000000                                                                                                                      & NAO                                                                                                                           & NAO                                                                                                                           & SIM                                                                                                                           & -18.98333                                                                                                                     & -49.48833                                                                                                                     & <a href=\"http://sistemas.anatel.gov.br/geonetwork/srv/por/metadata.show?id=16\\&currTab=simple\" target=\"\\_blank\">Acessar</a>\\\\\n",
       "\t TUP.fid-435f4487\\_177a530f832\\_-4fd8                                                                                        & POINT (-49.447499 -18.974999)                                                                                                 & 1501987094                                                                                                                    &   357                                                                                                                         & CTBC                                                                                                                          & EM MANUTENCAO                                                                                                                 & (34) 32689857                                                                                                                 & 16/02/2001                                                                                                                    & 31/10/2018 08h29                                                                                                              & MG                                                                                                                            & ...                                                                                                                           & UNIVERSITARIO                                                                                                                 & R HORACIO PAULO SIQUEIRA                                                                                                      & 0                                                                                                                             & 38302222                                                                                                                      & NAO                                                                                                                           & NAO                                                                                                                           & SIM                                                                                                                           & -18.97500                                                                                                                     & -49.44750                                                                                                                     & <a href=\"http://sistemas.anatel.gov.br/geonetwork/srv/por/metadata.show?id=16\\&currTab=simple\" target=\"\\_blank\">Acessar</a>\\\\\n",
       "\t TUP.fid-435f4487\\_177a530f832\\_-4fd7                                                                                        & POINT (-49.467777 -18.9625)                                                                                                   & 1501987095                                                                                                                    &   393                                                                                                                         & CTBC                                                                                                                          & DISPONIVEL                                                                                                                    & (34) 32681941                                                                                                                 & 23/02/1999                                                                                                                    & 01/11/2018 06h35                                                                                                              & MG                                                                                                                            & ...                                                                                                                           & SETOR NORTE                                                                                                                   & R JORGE JACOB YUNES                                                                                                           & 0                                                                                                                             & 38300172                                                                                                                      & NAO                                                                                                                           & NAO                                                                                                                           & SIM                                                                                                                           & -18.96250                                                                                                                     & -49.46778                                                                                                                     & <a href=\"http://sistemas.anatel.gov.br/geonetwork/srv/por/metadata.show?id=16\\&currTab=simple\" target=\"\\_blank\">Acessar</a>\\\\\n",
       "\t TUP.fid-435f4487\\_177a530f832\\_-4fd6                                                                                        & POINT (-49.44861 -18.981388)                                                                                                  & 1501987096                                                                                                                    &   403                                                                                                                         & CTBC                                                                                                                          & DISPONIVEL                                                                                                                    & (34) 32697234                                                                                                                 & 20/05/1999                                                                                                                    & 31/10/2018 09h48                                                                                                              & MG                                                                                                                            & ...                                                                                                                           & SAO JOSE                                                                                                                      & R PARTICULAR                                                                                                                  & 0                                                                                                                             & 38302242                                                                                                                      & NAO                                                                                                                           & NAO                                                                                                                           & SIM                                                                                                                           & -18.98139                                                                                                                     & -49.44861                                                                                                                     & <a href=\"http://sistemas.anatel.gov.br/geonetwork/srv/por/metadata.show?id=16\\&currTab=simple\" target=\"\\_blank\">Acessar</a>\\\\\n",
       "\t TUP.fid-435f4487\\_177a530f832\\_-4fd5                                                                                        & POINT (-49.477221 -18.988888)                                                                                                 & 1501987097                                                                                                                    &   430                                                                                                                         & CTBC                                                                                                                          & DISPONIVEL                                                                                                                    & (34) 32687684                                                                                                                 & 17/05/2001                                                                                                                    & 01/11/2018 05h34                                                                                                              & MG                                                                                                                            & ...                                                                                                                           & PIRAPITINGA                                                                                                                   & R UBERABA                                                                                                                     & 0                                                                                                                             & 38307414                                                                                                                      & NAO                                                                                                                           & NAO                                                                                                                           & SIM                                                                                                                           & -18.98889                                                                                                                     & -49.47722                                                                                                                     & <a href=\"http://sistemas.anatel.gov.br/geonetwork/srv/por/metadata.show?id=16\\&currTab=simple\" target=\"\\_blank\">Acessar</a>\\\\\n",
       "\t TUP.fid-435f4487\\_177a530f832\\_-4fd4                                                                                        & POINT (-49.44361 -19.994721)                                                                                                  & 1501987098                                                                                                                    &   434                                                                                                                         & CTBC                                                                                                                          & DISPONIVEL                                                                                                                    & (34) 32693277                                                                                                                 & 23/06/1998                                                                                                                    & 16/10/2018 09h01                                                                                                              & MG                                                                                                                            & ...                                                                                                                           & BRASIL                                                                                                                        & R IUGOSLAVIA                                                                                                                  & 0                                                                                                                             & 38304185                                                                                                                      & NAO                                                                                                                           & NAO                                                                                                                           & SIM                                                                                                                           & -19.99472                                                                                                                     & -49.44361                                                                                                                     & <a href=\"http://sistemas.anatel.gov.br/geonetwork/srv/por/metadata.show?id=16\\&currTab=simple\" target=\"\\_blank\">Acessar</a>\\\\\n",
       "\t TUP.fid-435f4487\\_177a530f832\\_-4fd3                                                                                        & POINT (-49.449166 -18.983333)                                                                                                 & 1501987099                                                                                                                    &   457                                                                                                                         & CTBC                                                                                                                          & DISPONIVEL                                                                                                                    & (34) 32694944                                                                                                                 & 23/01/2001                                                                                                                    & 31/10/2018 09h37                                                                                                              & MG                                                                                                                            & ...                                                                                                                           & ALCIDES JUNQUEIRA                                                                                                             & R FORTUNATO PEDROSA                                                                                                           & 0                                                                                                                             & 38304108                                                                                                                      & NAO                                                                                                                           & NAO                                                                                                                           & SIM                                                                                                                           & -18.98333                                                                                                                     & -49.44917                                                                                                                     & <a href=\"http://sistemas.anatel.gov.br/geonetwork/srv/por/metadata.show?id=16\\&currTab=simple\" target=\"\\_blank\">Acessar</a>\\\\\n",
       "\t TUP.fid-435f4487\\_177a530f832\\_-4fd2                                                                                        & POINT (-47.300555 -21.27611)                                                                                                  & 1501987100                                                                                                                    & 10364                                                                                                                         & CTBC                                                                                                                          & DISPONIVEL                                                                                                                    & (16) 36672854                                                                                                                 & 16/07/2012                                                                                                                    & 31/10/2018 11h12                                                                                                              & SP                                                                                                                            & ...                                                                                                                           & CENTRO                                                                                                                        & AV ADOLFO PAOLIELLO                                                                                                           & 0                                                                                                                             & 14240000                                                                                                                      & NAO                                                                                                                           & NAO                                                                                                                           & NAO                                                                                                                           & -21.27611                                                                                                                     & -47.30056                                                                                                                     & <a href=\"http://sistemas.anatel.gov.br/geonetwork/srv/por/metadata.show?id=16\\&currTab=simple\" target=\"\\_blank\">Acessar</a>\\\\\n",
       "\t TUP.fid-435f4487\\_177a530f832\\_-4fd1                                                                                        & POINT (-47.29861 -21.264722)                                                                                                  & 1501987101                                                                                                                    & 10406                                                                                                                         & CTBC                                                                                                                          & DISPONIVEL                                                                                                                    & (16) 36673740                                                                                                                 & 08/10/1998                                                                                                                    & 30/10/2018 06h11                                                                                                              & SP                                                                                                                            & ...                                                                                                                           & CIDADE JARDIM                                                                                                                 & R JUNDIAI                                                                                                                     & 0                                                                                                                             & 14240000                                                                                                                      & NAO                                                                                                                           & NAO                                                                                                                           & SIM                                                                                                                           & -21.26472                                                                                                                     & -47.29861                                                                                                                     & <a href=\"http://sistemas.anatel.gov.br/geonetwork/srv/por/metadata.show?id=16\\&currTab=simple\" target=\"\\_blank\">Acessar</a>\\\\\n",
       "\t TUP.fid-435f4487\\_177a530f832\\_-4fd0                                                                                        & POINT (-47.302222 -21.274166)                                                                                                 & 1501987102                                                                                                                    & 10411                                                                                                                         & CTBC                                                                                                                          & DISPONIVEL                                                                                                                    & (16) 36674740                                                                                                                 & 04/04/2001                                                                                                                    & 01/11/2018 06h05                                                                                                              & SP                                                                                                                            & ...                                                                                                                           & CENTRO                                                                                                                        & R SETE DE SETEMBRO                                                                                                            & 0                                                                                                                             & 14240000                                                                                                                      & NAO                                                                                                                           & NAO                                                                                                                           & SIM                                                                                                                           & -21.27417                                                                                                                     & -47.30222                                                                                                                     & <a href=\"http://sistemas.anatel.gov.br/geonetwork/srv/por/metadata.show?id=16\\&currTab=simple\" target=\"\\_blank\">Acessar</a>\\\\\n",
       "\t TUP.fid-435f4487\\_177a530f832\\_-4fcf                                                                                        & POINT (-47.29611 -21.2625)                                                                                                    & 1501987103                                                                                                                    & 10497                                                                                                                         & CTBC                                                                                                                          & DISPONIVEL                                                                                                                    & (16) 36673541                                                                                                                 & 14/10/1998                                                                                                                    & 01/11/2018 05h28                                                                                                              & SP                                                                                                                            & ...                                                                                                                           & CIDADE JARDIM                                                                                                                 & AV FONSECA                                                                                                                    & 0                                                                                                                             & 14240000                                                                                                                      & NAO                                                                                                                           & NAO                                                                                                                           & SIM                                                                                                                           & -21.26250                                                                                                                     & -47.29611                                                                                                                     & <a href=\"http://sistemas.anatel.gov.br/geonetwork/srv/por/metadata.show?id=16\\&currTab=simple\" target=\"\\_blank\">Acessar</a>\\\\\n",
       "\t TUP.fid-435f4487\\_177a530f832\\_-4fce                                                                                        & POINT (-49.471666 -18.997777)                                                                                                 & 1501987104                                                                                                                    &  8250                                                                                                                         & CTBC                                                                                                                          & DISPONIVEL                                                                                                                    & (34) 32681846                                                                                                                 & 29/10/1998                                                                                                                    & 01/11/2018 06h30                                                                                                              & MG                                                                                                                            & ...                                                                                                                           & JERONIMO MENDONCA                                                                                                             & AV MINAS GERAIS                                                                                                               & 0                                                                                                                             & 38305221                                                                                                                      & NAO                                                                                                                           & NAO                                                                                                                           & SIM                                                                                                                           & -18.99778                                                                                                                     & -49.47167                                                                                                                     & <a href=\"http://sistemas.anatel.gov.br/geonetwork/srv/por/metadata.show?id=16\\&currTab=simple\" target=\"\\_blank\">Acessar</a>\\\\\n",
       "\t TUP.fid-435f4487\\_177a530f832\\_-4fcd                                                                                        & POINT (-50.492777 -19.042221)                                                                                                 & 1501987105                                                                                                                    &   227                                                                                                                         & CTBC                                                                                                                          & DISPONIVEL                                                                                                                    & (34) 32518236                                                                                                                 & 07/03/2005                                                                                                                    & 01/11/2018 06h41                                                                                                              & MG                                                                                                                            & ...                                                                                                                           & CENTRO                                                                                                                        & AV 3                                                                                                                          & 0                                                                                                                             & 38325000                                                                                                                      & NAO                                                                                                                           & NAO                                                                                                                           & SIM                                                                                                                           & -19.04222                                                                                                                     & -50.49278                                                                                                                     & <a href=\"http://sistemas.anatel.gov.br/geonetwork/srv/por/metadata.show?id=16\\&currTab=simple\" target=\"\\_blank\">Acessar</a>\\\\\n",
       "\t ... & ... & ... & ... & ... & ... & ... & ... & ... & ... &     & ... & ... & ... & ... & ... & ... & ... & ... & ... & ...\\\\\n",
       "\t TUP.fid-435f4487\\_177a58b92fc\\_-75a6                                                                                        & POINT (-42.68361 -13.019166)                                                                                                  & 1502174021                                                                                                                    & 187688                                                                                                                        & OI                                                                                                                            & DISPONIVEL                                                                                                                    & (77) 34731505                                                                                                                 & 16/06/2001                                                                                                                    & 10/02/2021 11h02                                                                                                              & BA                                                                                                                            & ...                                                                                                                           & ALTO CRUZEIRO                                                                                                                 & RUA DIVALDO FRANCO                                                                                                            & 0                                                                                                                             & 46500000                                                                                                                      & NAO                                                                                                                           & NAO                                                                                                                           & SIM                                                                                                                           & -13.01917                                                                                                                     & -42.68361                                                                                                                     & <a href=\"http://sistemas.anatel.gov.br/geonetwork/srv/por/metadata.show?id=16\\&currTab=simple\" target=\"\\_blank\">Acessar</a>\\\\\n",
       "\t TUP.fid-435f4487\\_177a58b92fc\\_-75a5                                                                                        & POINT (-42.687777 -13.015555)                                                                                                 & 1502174022                                                                                                                    & 187689                                                                                                                        & OI                                                                                                                            & DISPONIVEL                                                                                                                    & (77) 34731508                                                                                                                 & 16/06/2001                                                                                                                    & 10/02/2021 11h02                                                                                                              & BA                                                                                                                            & ...                                                                                                                           & ALTO ALEXANDRINO                                                                                                              & RUA PROF MANOEL AMANCIO                                                                                                       & 0                                                                                                                             & 46500000                                                                                                                      & NAO                                                                                                                           & NAO                                                                                                                           & SIM                                                                                                                           & -13.01556                                                                                                                     & -42.68778                                                                                                                     & <a href=\"http://sistemas.anatel.gov.br/geonetwork/srv/por/metadata.show?id=16\\&currTab=simple\" target=\"\\_blank\">Acessar</a>\\\\\n",
       "\t TUP.fid-435f4487\\_177a58b92fc\\_-75a4                                                                                        & POINT (-42.687221 -13.013888)                                                                                                 & 1502174023                                                                                                                    & 187690                                                                                                                        & OI                                                                                                                            & EM MANUTENCAO                                                                                                                 & (77) 34731300                                                                                                                 & 23/05/1994                                                                                                                    & 05/02/2021 03h02                                                                                                              & BA                                                                                                                            & ...                                                                                                                           & CENTRO                                                                                                                        & RUA VERDINHA                                                                                                                  & 0                                                                                                                             & 46500000                                                                                                                      & NAO                                                                                                                           & NAO                                                                                                                           & SIM                                                                                                                           & -13.01389                                                                                                                     & -42.68722                                                                                                                     & <a href=\"http://sistemas.anatel.gov.br/geonetwork/srv/por/metadata.show?id=16\\&currTab=simple\" target=\"\\_blank\">Acessar</a>\\\\\n",
       "\t TUP.fid-435f4487\\_177a58b92fc\\_-75a3                                                                                        & POINT (-42.691666 -13.019999)                                                                                                 & 1502174024                                                                                                                    & 187691                                                                                                                        & OI                                                                                                                            & DISPONIVEL                                                                                                                    & (77) 34731503                                                                                                                 & 16/06/2001                                                                                                                    & 11/02/2021 02h02                                                                                                              & BA                                                                                                                            & ...                                                                                                                           & CENTRO                                                                                                                        & RUA DOIS DE JULHO                                                                                                             & 0                                                                                                                             & 46500000                                                                                                                      & NAO                                                                                                                           & NAO                                                                                                                           & SIM                                                                                                                           & -13.02000                                                                                                                     & -42.69167                                                                                                                     & <a href=\"http://sistemas.anatel.gov.br/geonetwork/srv/por/metadata.show?id=16\\&currTab=simple\" target=\"\\_blank\">Acessar</a>\\\\\n",
       "\t TUP.fid-435f4487\\_177a58b92fc\\_-75a2                                                                                        & POINT (-44.072777 -12.962222)                                                                                                 & 1502174025                                                                                                                    & 187721                                                                                                                        & OI                                                                                                                            & DISPONIVEL                                                                                                                    & (77) 34842200                                                                                                                 & 02/03/2005                                                                                                                    & 10/02/2021 04h02                                                                                                              & BA                                                                                                                            & ...                                                                                                                           & CENTRO                                                                                                                        & RUA PRINCIPAL                                                                                                                 & 0                                                                                                                             & 47700000                                                                                                                      & NAO                                                                                                                           & NAO                                                                                                                           & SIM                                                                                                                           & -12.96222                                                                                                                     & -44.07278                                                                                                                     & <a href=\"http://sistemas.anatel.gov.br/geonetwork/srv/por/metadata.show?id=16\\&currTab=simple\" target=\"\\_blank\">Acessar</a>\\\\\n",
       "\t TUP.fid-435f4487\\_177a58b92fc\\_-75a1                                                                                        & POINT (-43.563333 -10.294166)                                                                                                 & 1502174026                                                                                                                    & 187769                                                                                                                        & OI                                                                                                                            & EM MANUTENCAO                                                                                                                 & (77) 34423023                                                                                                                 & 20/05/2013                                                                                                                    & 27/01/2021 04h01                                                                                                              & BA                                                                                                                            & ...                                                                                                                           & CENTRO                                                                                                                        & RUA PRINCIPAL                                                                                                                 & 0                                                                                                                             & 47120000                                                                                                                      & NAO                                                                                                                           & NAO                                                                                                                           & SIM                                                                                                                           & -10.29417                                                                                                                     & -43.56333                                                                                                                     & <a href=\"http://sistemas.anatel.gov.br/geonetwork/srv/por/metadata.show?id=16\\&currTab=simple\" target=\"\\_blank\">Acessar</a>\\\\\n",
       "\t TUP.fid-435f4487\\_177a58b92fc\\_-75a0                                                                                        & POINT (-45.022499 -11.631943)                                                                                                 & 1502174027                                                                                                                    & 187776                                                                                                                        & OI                                                                                                                            & EM MANUTENCAO                                                                                                                 & (77) 36247001                                                                                                                 & 17/11/2005                                                                                                                    & 06/02/2021 08h02                                                                                                              & BA                                                                                                                            & ...                                                                                                                           & CENTRO                                                                                                                        & RUA PRINCIPAL                                                                                                                 & 0                                                                                                                             & 47970000                                                                                                                      & NAO                                                                                                                           & NAO                                                                                                                           & SIM                                                                                                                           & -11.63194                                                                                                                     & -45.02250                                                                                                                     & <a href=\"http://sistemas.anatel.gov.br/geonetwork/srv/por/metadata.show?id=16\\&currTab=simple\" target=\"\\_blank\">Acessar</a>\\\\\n",
       "\t TUP.fid-435f4487\\_177a58b92fc\\_-759f                                                                                        & POINT (-42.039999 -12.627221)                                                                                                 & 1502174028                                                                                                                    & 187801                                                                                                                        & OI                                                                                                                            & DISPONIVEL                                                                                                                    & (77) 36472350                                                                                                                 & 05/05/2006                                                                                                                    & 11/02/2021 09h02                                                                                                              & BA                                                                                                                            & ...                                                                                                                           & CENTRO                                                                                                                        & RUA PRINCIPAL                                                                                                                 & 0                                                                                                                             & 46700000                                                                                                                      & NAO                                                                                                                           & NAO                                                                                                                           & SIM                                                                                                                           & -12.62722                                                                                                                     & -42.04000                                                                                                                     & <a href=\"http://sistemas.anatel.gov.br/geonetwork/srv/por/metadata.show?id=16\\&currTab=simple\" target=\"\\_blank\">Acessar</a>\\\\\n",
       "\t TUP.fid-435f4487\\_177a58b92fc\\_-759e                                                                                        & POINT (-40.727221 -14.860277)                                                                                                 & 1502174029                                                                                                                    & 187812                                                                                                                        & OI                                                                                                                            & DISPONIVEL                                                                                                                    & (77) 34031010                                                                                                                 & 29/05/2005                                                                                                                    & 11/02/2021 02h02                                                                                                              & BA                                                                                                                            & ...                                                                                                                           & CENTRO                                                                                                                        & RUA PRINCIPAL                                                                                                                 & 0                                                                                                                             & 45005410                                                                                                                      & NAO                                                                                                                           & NAO                                                                                                                           & SIM                                                                                                                           & -14.86028                                                                                                                     & -40.72722                                                                                                                     & <a href=\"http://sistemas.anatel.gov.br/geonetwork/srv/por/metadata.show?id=16\\&currTab=simple\" target=\"\\_blank\">Acessar</a>\\\\\n",
       "\t TUP.fid-435f4487\\_177a58b92fc\\_-759d                                                                                        & POINT (-42.62611 -13.334999)                                                                                                  & 1502174030                                                                                                                    & 187846                                                                                                                        & OI                                                                                                                            & DISPONIVEL                                                                                                                    & (77) 36782266                                                                                                                 & 18/04/2013                                                                                                                    & 11/02/2021 11h02                                                                                                              & BA                                                                                                                            & ...                                                                                                                           & CENTRO                                                                                                                        & RUA PRINCIPAL                                                                                                                 & 0                                                                                                                             & 46570000                                                                                                                      & NAO                                                                                                                           & NAO                                                                                                                           & SIM                                                                                                                           & -13.33500                                                                                                                     & -42.62611                                                                                                                     & <a href=\"http://sistemas.anatel.gov.br/geonetwork/srv/por/metadata.show?id=16\\&currTab=simple\" target=\"\\_blank\">Acessar</a>\\\\\n",
       "\t TUP.fid-435f4487\\_177a58b92fc\\_-759c                                                                                        & POINT (-41.216388 -18.834721)                                                                                                 & 1502174031                                                                                                                    & 185958                                                                                                                        & OI                                                                                                                            & DISPONIVEL                                                                                                                    & (27) 37586028                                                                                                                 & 11/01/2002                                                                                                                    & 11/02/2021 01h02                                                                                                              & ES                                                                                                                            & ...                                                                                                                           & CENTRO                                                                                                                        & RUA JOSE RODRIENES TIAGO                                                                                                      & 0                                                                                                                             & 29776000                                                                                                                      & NAO                                                                                                                           & NAO                                                                                                                           & SIM                                                                                                                           & -18.83472                                                                                                                     & -41.21639                                                                                                                     & <a href=\"http://sistemas.anatel.gov.br/geonetwork/srv/por/metadata.show?id=16\\&currTab=simple\" target=\"\\_blank\">Acessar</a>\\\\\n",
       "\t TUP.fid-435f4487\\_177a58b92fc\\_-759b                                                                                        & POINT (-41.046944 -20.339166)                                                                                                 & 1502174032                                                                                                                    & 185975                                                                                                                        & OI                                                                                                                            & DISPONIVEL                                                                                                                    & (27) 32483344                                                                                                                 & 08/12/2010                                                                                                                    & 08/02/2021 02h02                                                                                                              & ES                                                                                                                            & ...                                                                                                                           & CENTRO                                                                                                                        & ROD ES 165                                                                                                                    & 0                                                                                                                             & 29260000                                                                                                                      & NAO                                                                                                                           & NAO                                                                                                                           & NAO                                                                                                                           & -20.33917                                                                                                                     & -41.04694                                                                                                                     & <a href=\"http://sistemas.anatel.gov.br/geonetwork/srv/por/metadata.show?id=16\\&currTab=simple\" target=\"\\_blank\">Acessar</a>\\\\\n",
       "\t TUP.fid-435f4487\\_177a58b92fc\\_-759a                                                                                        & POINT (-40.828888 -21.009166)                                                                                                 & 1502174033                                                                                                                    & 186057                                                                                                                        & OI                                                                                                                            & DISPONIVEL                                                                                                                    & (28) 35296583                                                                                                                 & 01/10/2002                                                                                                                    & 11/02/2021 04h02                                                                                                              & ES                                                                                                                            & ...                                                                                                                           & CENTRO                                                                                                                        & PCA DOMINGOS JOSE MARTINS                                                                                                     & 0                                                                                                                             & 29330000                                                                                                                      & NAO                                                                                                                           & NAO                                                                                                                           & SIM                                                                                                                           & -21.00917                                                                                                                     & -40.82889                                                                                                                     & <a href=\"http://sistemas.anatel.gov.br/geonetwork/srv/por/metadata.show?id=16\\&currTab=simple\" target=\"\\_blank\">Acessar</a>\\\\\n",
       "\t TUP.fid-435f4487\\_177a58b92fc\\_-7599                                                                                        & POINT (-40.7625 -19.84611)                                                                                                    & 1502174034                                                                                                                    & 185696                                                                                                                        & OI                                                                                                                            & DISPONIVEL                                                                                                                    & (27) 32595008                                                                                                                 & 25/06/2001                                                                                                                    & 10/02/2021 08h02                                                                                                              & ES                                                                                                                            & ...                                                                                                                           & CENTRO                                                                                                                        & RUA PRINCIPAL                                                                                                                 & 0                                                                                                                             & 29662000                                                                                                                      & NAO                                                                                                                           & NAO                                                                                                                           & SIM                                                                                                                           & -19.84611                                                                                                                     & -40.76250                                                                                                                     & <a href=\"http://sistemas.anatel.gov.br/geonetwork/srv/por/metadata.show?id=16\\&currTab=simple\" target=\"\\_blank\">Acessar</a>\\\\\n",
       "\t TUP.fid-435f4487\\_177a58b92fc\\_-7598                                                                                        & POINT (-40.756111 -18.821666)                                                                                                 & 1502174035                                                                                                                    & 185963                                                                                                                        & OI                                                                                                                            & DISPONIVEL                                                                                                                    & (27) 37721056                                                                                                                 & 31/12/2001                                                                                                                    & 09/02/2021 11h02                                                                                                              & ES                                                                                                                            & ...                                                                                                                           & CENTRO                                                                                                                        & RUA PRINCIPAL                                                                                                                 & 0                                                                                                                             & 29830000                                                                                                                      & NAO                                                                                                                           & NAO                                                                                                                           & SIM                                                                                                                           & -18.82167                                                                                                                     & -40.75611                                                                                                                     & <a href=\"http://sistemas.anatel.gov.br/geonetwork/srv/por/metadata.show?id=16\\&currTab=simple\" target=\"\\_blank\">Acessar</a>\\\\\n",
       "\t TUP.fid-435f4487\\_177a58b92fc\\_-7597                                                                                        & POINT (-38.766943 -12.733054)                                                                                                 & 1502174036                                                                                                                    & 186099                                                                                                                        & OI                                                                                                                            & EM MANUTENCAO                                                                                                                 & (71) 36961103                                                                                                                 & 31/07/2000                                                                                                                    & 26/01/2021 02h01                                                                                                              & BA                                                                                                                            & ...                                                                                                                           & CENTRO                                                                                                                        & RUA DA VALA                                                                                                                   & 0                                                                                                                             & 44220000                                                                                                                      & NAO                                                                                                                           & NAO                                                                                                                           & NAO                                                                                                                           & -12.73305                                                                                                                     & -38.76694                                                                                                                     & <a href=\"http://sistemas.anatel.gov.br/geonetwork/srv/por/metadata.show?id=16\\&currTab=simple\" target=\"\\_blank\">Acessar</a>\\\\\n",
       "\t TUP.fid-435f4487\\_177a58b92fc\\_-7596                                                                                        & POINT (-38.770554 -12.779721)                                                                                                 & 1502174037                                                                                                                    & 186100                                                                                                                        & OI                                                                                                                            & EM MANUTENCAO                                                                                                                 & (71) 36961778                                                                                                                 & 24/11/2014                                                                                                                    & 26/01/2021 02h01                                                                                                              & BA                                                                                                                            & ...                                                                                                                           & CENTRO                                                                                                                        & RUA PORTO                                                                                                                     & 0                                                                                                                             & 44220972                                                                                                                      & NAO                                                                                                                           & NAO                                                                                                                           & NAO                                                                                                                           & -12.77972                                                                                                                     & -38.77055                                                                                                                     & <a href=\"http://sistemas.anatel.gov.br/geonetwork/srv/por/metadata.show?id=16\\&currTab=simple\" target=\"\\_blank\">Acessar</a>\\\\\n",
       "\t TUP.fid-435f4487\\_177a58b92fc\\_-7595                                                                                        & POINT (-44.466943 -12.065555)                                                                                                 & 1502174038                                                                                                                    & 171817                                                                                                                        & OI                                                                                                                            & DISPONIVEL                                                                                                                    & (77) 36225167                                                                                                                 & 27/11/2001                                                                                                                    & 11/02/2021 04h02                                                                                                              & BA                                                                                                                            & ...                                                                                                                           & CENTRO                                                                                                                        & RUA PAULISTA                                                                                                                  & 0                                                                                                                             & 47960000                                                                                                                      & NAO                                                                                                                           & NAO                                                                                                                           & SIM                                                                                                                           & -12.06555                                                                                                                     & -44.46694                                                                                                                     & <a href=\"http://sistemas.anatel.gov.br/geonetwork/srv/por/metadata.show?id=16\\&currTab=simple\" target=\"\\_blank\">Acessar</a>\\\\\n",
       "\t TUP.fid-435f4487\\_177a58b92fc\\_-7594                                                                                        & POINT (-43.479166 -19.939721)                                                                                                 & 1502174039                                                                                                                    & 171832                                                                                                                        & OI                                                                                                                            & DISPONIVEL                                                                                                                    & (31) 38372724                                                                                                                 & 28/01/1994                                                                                                                    & 09/02/2021 01h02                                                                                                              & MG                                                                                                                            & ...                                                                                                                           & CENTRO                                                                                                                        & RUA MIN CLOVIS SALGADO                                                                                                        & EN                                                                                                                            & 35970000                                                                                                                      & NAO                                                                                                                           & NAO                                                                                                                           & NAO                                                                                                                           & -19.93972                                                                                                                     & -43.47917                                                                                                                     & <a href=\"http://sistemas.anatel.gov.br/geonetwork/srv/por/metadata.show?id=16\\&currTab=simple\" target=\"\\_blank\">Acessar</a>\\\\\n",
       "\t TUP.fid-435f4487\\_177a58b92fc\\_-7593                                                                                        & POINT (-41.623054 -20.358333)                                                                                                 & 1502174040                                                                                                                    & 171853                                                                                                                        & OI                                                                                                                            & DISPONIVEL                                                                                                                    & (28) 35481229                                                                                                                 & 23/11/2020                                                                                                                    & 09/02/2021 09h02                                                                                                              & ES                                                                                                                            & ...                                                                                                                           & CENTRO                                                                                                                        & RUA PRINCIPAL                                                                                                                 & 0                                                                                                                             & 29398000                                                                                                                      & NAO                                                                                                                           & NAO                                                                                                                           & SIM                                                                                                                           & -20.35833                                                                                                                     & -41.62305                                                                                                                     & <a href=\"http://sistemas.anatel.gov.br/geonetwork/srv/por/metadata.show?id=16\\&currTab=simple\" target=\"\\_blank\">Acessar</a>\\\\\n",
       "\t TUP.fid-435f4487\\_177a58b92fc\\_-7592                                                                                        & POINT (-43.267777 -16.240277)                                                                                                 & 1502174041                                                                                                                    & 185562                                                                                                                        & OI                                                                                                                            & DISPONIVEL                                                                                                                    & (38) 32334083                                                                                                                 & 27/12/2001                                                                                                                    & 10/02/2021 09h02                                                                                                              & MG                                                                                                                            & ...                                                                                                                           & JOAQUIM RODRIGUES                                                                                                             & RUA E                                                                                                                         & FR0                                                                                                                           & 39585000                                                                                                                      & NAO                                                                                                                           & NAO                                                                                                                           & SIM                                                                                                                           & -16.24028                                                                                                                     & -43.26778                                                                                                                     & <a href=\"http://sistemas.anatel.gov.br/geonetwork/srv/por/metadata.show?id=16\\&currTab=simple\" target=\"\\_blank\">Acessar</a>\\\\\n",
       "\t TUP.fid-435f4487\\_177a58b92fc\\_-7591                                                                                        & POINT (-43.096944 -22.143055)                                                                                                 & 1502174042                                                                                                                    & 183834                                                                                                                        & OI                                                                                                                            & DISPONIVEL                                                                                                                    & (24) 22208628                                                                                                                 & 20/07/2014                                                                                                                    & 11/02/2021 02h02                                                                                                              & RJ                                                                                                                            & ...                                                                                                                           & BEMPOSTA                                                                                                                      & RUA WERNECK                                                                                                                   & 0                                                                                                                             & 25840000                                                                                                                      & NAO                                                                                                                           & NAO                                                                                                                           & NAO                                                                                                                           & -22.14306                                                                                                                     & -43.09694                                                                                                                     & <a href=\"http://sistemas.anatel.gov.br/geonetwork/srv/por/metadata.show?id=16\\&currTab=simple\" target=\"\\_blank\">Acessar</a>\\\\\n",
       "\t TUP.fid-435f4487\\_177a58b92fc\\_-7590                                                                                        & POINT (-43.580277 -22.16861)                                                                                                  & 1502174043                                                                                                                    & 183837                                                                                                                        & OI                                                                                                                            & DISPONIVEL                                                                                                                    & (24) 24580616                                                                                                                 & 08/12/2006                                                                                                                    & 11/02/2021 08h02                                                                                                              & RJ                                                                                                                            & ...                                                                                                                           & CENTRO                                                                                                                        & RUA JOAO CARVALHO DA ROCHA                                                                                                    & 0                                                                                                                             & 27660000                                                                                                                      & NAO                                                                                                                           & NAO                                                                                                                           & NAO                                                                                                                           & -22.16861                                                                                                                     & -43.58028                                                                                                                     & <a href=\"http://sistemas.anatel.gov.br/geonetwork/srv/por/metadata.show?id=16\\&currTab=simple\" target=\"\\_blank\">Acessar</a>\\\\\n",
       "\t TUP.fid-435f4487\\_177a58b92fc\\_-758f                                                                                        & POINT (-43.584444 -22.168332)                                                                                                 & 1502174044                                                                                                                    & 183838                                                                                                                        & OI                                                                                                                            & DISPONIVEL                                                                                                                    & (24) 24581295                                                                                                                 & 18/09/2000                                                                                                                    & 11/02/2021 08h02                                                                                                              & RJ                                                                                                                            & ...                                                                                                                           & CENTRO                                                                                                                        & RUA LEONI RAMOS                                                                                                               & 0                                                                                                                             & 27660000                                                                                                                      & NAO                                                                                                                           & NAO                                                                                                                           & NAO                                                                                                                           & -22.16833                                                                                                                     & -43.58444                                                                                                                     & <a href=\"http://sistemas.anatel.gov.br/geonetwork/srv/por/metadata.show?id=16\\&currTab=simple\" target=\"\\_blank\">Acessar</a>\\\\\n",
       "\t TUP.fid-435f4487\\_177a58b92fc\\_-758e                                                                                        & POINT (-43.588333 -22.154444)                                                                                                 & 1502174045                                                                                                                    & 183839                                                                                                                        & OI                                                                                                                            & DISPONIVEL                                                                                                                    & (24) 24580778                                                                                                                 & 25/07/2011                                                                                                                    & 11/02/2021 06h02                                                                                                              & RJ                                                                                                                            & ...                                                                                                                           & CENTRO                                                                                                                        & RUA ADILIO RIBEIRO AMORIM                                                                                                     & 0                                                                                                                             & 27660000                                                                                                                      & NAO                                                                                                                           & NAO                                                                                                                           & SIM                                                                                                                           & -22.15444                                                                                                                     & -43.58833                                                                                                                     & <a href=\"http://sistemas.anatel.gov.br/geonetwork/srv/por/metadata.show?id=16\\&currTab=simple\" target=\"\\_blank\">Acessar</a>\\\\\n",
       "\t TUP.fid-435f4487\\_177a58b92fc\\_-758d                                                                                        & POINT (-39.631388 -11.611388)                                                                                                 & 1502174046                                                                                                                    & 187305                                                                                                                        & OI                                                                                                                            & DISPONIVEL                                                                                                                    & (75) 32341040                                                                                                                 & 17/08/1995                                                                                                                    & 11/02/2021 05h02                                                                                                              & BA                                                                                                                            & ...                                                                                                                           & CENTRO                                                                                                                        & RUA PEDRO MAIA MATOS                                                                                                          & 0                                                                                                                             & 44642000                                                                                                                      & NAO                                                                                                                           & NAO                                                                                                                           & NAO                                                                                                                           & -11.61139                                                                                                                     & -39.63139                                                                                                                     & <a href=\"http://sistemas.anatel.gov.br/geonetwork/srv/por/metadata.show?id=16\\&currTab=simple\" target=\"\\_blank\">Acessar</a>\\\\\n",
       "\t TUP.fid-435f4487\\_177a58b92fc\\_-758c                                                                                        & POINT (-44.4625 -12.063611)                                                                                                   & 1502174047                                                                                                                    & 187726                                                                                                                        & OI                                                                                                                            & EM MANUTENCAO                                                                                                                 & (77) 36225019                                                                                                                 & 28/11/2001                                                                                                                    & 02/02/2021 04h02                                                                                                              & BA                                                                                                                            & ...                                                                                                                           & CENTRO                                                                                                                        & RUA TELEMAR                                                                                                                   & 0                                                                                                                             & 47960000                                                                                                                      & NAO                                                                                                                           & NAO                                                                                                                           & NAO                                                                                                                           & -12.06361                                                                                                                     & -44.46250                                                                                                                     & <a href=\"http://sistemas.anatel.gov.br/geonetwork/srv/por/metadata.show?id=16\\&currTab=simple\" target=\"\\_blank\">Acessar</a>\\\\\n",
       "\t TUP.fid-435f4487\\_177a58b92fc\\_-758b                                                                                        & POINT (-44.701944 -23.3)                                                                                                      & 1502174048                                                                                                                    & 184066                                                                                                                        & OI                                                                                                                            & DISPONIVEL                                                                                                                    & (24) 33717677                                                                                                                 & 10/05/2003                                                                                                                    & 11/02/2021 03h02                                                                                                              & RJ                                                                                                                            & ...                                                                                                                           & PATRIMONIO                                                                                                                    & ROD BR CENTO E UM                                                                                                             & 0                                                                                                                             & 23970000                                                                                                                      & NAO                                                                                                                           & NAO                                                                                                                           & SIM                                                                                                                           & -23.30000                                                                                                                     & -44.70194                                                                                                                     & <a href=\"http://sistemas.anatel.gov.br/geonetwork/srv/por/metadata.show?id=16\\&currTab=simple\" target=\"\\_blank\">Acessar</a>\\\\\n",
       "\t TUP.fid-435f4487\\_177a58b92fc\\_-758a                                                                                        & POINT (-40.715833 -15.625277)                                                                                                 & 1502174049                                                                                                                    & 187827                                                                                                                        & OI                                                                                                                            & EM MANUTENCAO                                                                                                                 & (77) 34392424                                                                                                                 & 26/07/2008                                                                                                                    & 25/01/2021 11h01                                                                                                              & BA                                                                                                                            & ...                                                                                                                           & CENTRO                                                                                                                        & RUA PRINCIPAL                                                                                                                 & 0                                                                                                                             & 45150000                                                                                                                      & NAO                                                                                                                           & NAO                                                                                                                           & SIM                                                                                                                           & -15.62528                                                                                                                     & -40.71583                                                                                                                     & <a href=\"http://sistemas.anatel.gov.br/geonetwork/srv/por/metadata.show?id=16\\&currTab=simple\" target=\"\\_blank\">Acessar</a>\\\\\n",
       "\t TUP.fid-435f4487\\_177a58b92fc\\_-7589                                                                                        & POINT (-43.301944 -20.681943)                                                                                                 & 1502174050                                                                                                                    & 184339                                                                                                                        & OI                                                                                                                            & DISPONIVEL                                                                                                                    & (31) 37461486                                                                                                                 & 29/12/1999                                                                                                                    & 10/02/2021 10h02                                                                                                              & MG                                                                                                                            & ...                                                                                                                           & CENTRO                                                                                                                        & RUA STA EFIGENIA                                                                                                              & FRFR                                                                                                                          & 36480000                                                                                                                      & NAO                                                                                                                           & NAO                                                                                                                           & SIM                                                                                                                           & -20.68194                                                                                                                     & -43.30194                                                                                                                     & <a href=\"http://sistemas.anatel.gov.br/geonetwork/srv/por/metadata.show?id=16\\&currTab=simple\" target=\"\\_blank\">Acessar</a>\\\\\n",
       "\\end{tabular}\n"
      ],
      "text/markdown": [
       "\n",
       "| FID | est_geom | id_tup | idttup | concessionaria | status | numero | dtativacao | dataultimacomunicacao | siglauf | ... | bairro | logradouro | complemento | cep | deficientecadeirante | deficienteaudio | vintequatrohoras | latitude | longitude | metadado |\n",
       "|---|---|---|---|---|---|---|---|---|---|---|---|---|---|---|---|---|---|---|---|---|\n",
       "| TUP.fid-435f4487_177a530f832_-4fea                                                                                        | POINT (-49.948055 -18.691388)                                                                                             | 1501987076                                                                                                                | 10300                                                                                                                     | CTBC                                                                                                                      | EM MANUTENCAO                                                                                                             | (34) 32521386                                                                                                             | 28/06/2001                                                                                                                | 01/11/2018 05h09                                                                                                          | MG                                                                                                                        | ...                                                                                                                       | CENTRO                                                                                                                    | R MINAS GERAIS                                                                                                            | 0                                                                                                                         | 38350000                                                                                                                  | NAO                                                                                                                       | NAO                                                                                                                       | SIM                                                                                                                       | -18.69139                                                                                                                 | -49.94805                                                                                                                 | <a href=\"http://sistemas.anatel.gov.br/geonetwork/srv/por/metadata.show?id=16&currTab=simple\" target=\"_blank\">Acessar</a> |\n",
       "| TUP.fid-435f4487_177a530f832_-4fe9                                                                                        | POINT (-49.479166 -18.968332)                                                                                             | 1501987077                                                                                                                | 10313                                                                                                                     | CTBC                                                                                                                      | DISPONIVEL                                                                                                                | (34) 32687546                                                                                                             | 10/10/2001                                                                                                                | 01/11/2018 02h27                                                                                                          | MG                                                                                                                        | ...                                                                                                                       | ALVORADA                                                                                                                  | R CANELA                                                                                                                  | 0                                                                                                                         | 38307090                                                                                                                  | NAO                                                                                                                       | NAO                                                                                                                       | NAO                                                                                                                       | -18.96833                                                                                                                 | -49.47917                                                                                                                 | <a href=\"http://sistemas.anatel.gov.br/geonetwork/srv/por/metadata.show?id=16&currTab=simple\" target=\"_blank\">Acessar</a> |\n",
       "| TUP.fid-435f4487_177a530f832_-4fe8                                                                                        | POINT (-47.314166 -21.274443)                                                                                             | 1501987078                                                                                                                | 10360                                                                                                                     | CTBC                                                                                                                      | EM MANUTENCAO                                                                                                             | (16) 36676627                                                                                                             | 24/04/2001                                                                                                                | 01/11/2018 06h10                                                                                                          | SP                                                                                                                        | ...                                                                                                                       | CENTRO                                                                                                                    | R MATA                                                                                                                    | 0                                                                                                                         | 14240000                                                                                                                  | NAO                                                                                                                       | NAO                                                                                                                       | SIM                                                                                                                       | -21.27444                                                                                                                 | -47.31417                                                                                                                 | <a href=\"http://sistemas.anatel.gov.br/geonetwork/srv/por/metadata.show?id=16&currTab=simple\" target=\"_blank\">Acessar</a> |\n",
       "| TUP.fid-435f4487_177a530f832_-4fe7                                                                                        | POINT (-49.464166 -18.959166)                                                                                             | 1501987079                                                                                                                |    35                                                                                                                     | CTBC                                                                                                                      | DISPONIVEL                                                                                                                | (34) 32688884                                                                                                             | 02/05/2008                                                                                                                | 01/11/2018 08h02                                                                                                          | MG                                                                                                                        | ...                                                                                                                       | SAO JOSE                                                                                                                  | R JOAO AVI                                                                                                                | 0                                                                                                                         | 38301046                                                                                                                  | NAO                                                                                                                       | NAO                                                                                                                       | SIM                                                                                                                       | -18.95917                                                                                                                 | -49.46417                                                                                                                 | <a href=\"http://sistemas.anatel.gov.br/geonetwork/srv/por/metadata.show?id=16&currTab=simple\" target=\"_blank\">Acessar</a> |\n",
       "| TUP.fid-435f4487_177a530f832_-4fe6                                                                                        | POINT (-49.481388 -19.006111)                                                                                             | 1501987080                                                                                                                |    56                                                                                                                     | CTBC                                                                                                                      | DISPONIVEL                                                                                                                | (34) 32693675                                                                                                             | 24/04/2001                                                                                                                | 01/11/2018 06h01                                                                                                          | MG                                                                                                                        | ...                                                                                                                       | NOVO TEMPO II                                                                                                             | R FLAVIO OLIVEIRA VILELA                                                                                                  | 0                                                                                                                         | 38305196                                                                                                                  | NAO                                                                                                                       | NAO                                                                                                                       | SIM                                                                                                                       | -19.00611                                                                                                                 | -49.48139                                                                                                                 | <a href=\"http://sistemas.anatel.gov.br/geonetwork/srv/por/metadata.show?id=16&currTab=simple\" target=\"_blank\">Acessar</a> |\n",
       "| TUP.fid-435f4487_177a530f832_-4fe5                                                                                        | POINT (-49.488888 -18.997221)                                                                                             | 1501987081                                                                                                                |    68                                                                                                                     | CTBC                                                                                                                      | DISPONIVEL                                                                                                                | (34) 32622172                                                                                                             | 12/01/2001                                                                                                                | 01/11/2018 02h06                                                                                                          | MG                                                                                                                        | ...                                                                                                                       | LAGOA AZUL II                                                                                                             | R SALERME JABUR                                                                                                           | 0                                                                                                                         | 38307516                                                                                                                  | NAO                                                                                                                       | NAO                                                                                                                       | SIM                                                                                                                       | -18.99722                                                                                                                 | -49.48889                                                                                                                 | <a href=\"http://sistemas.anatel.gov.br/geonetwork/srv/por/metadata.show?id=16&currTab=simple\" target=\"_blank\">Acessar</a> |\n",
       "| TUP.fid-435f4487_177a530f832_-4fe4                                                                                        | POINT (-49.464166 -18.958055)                                                                                             | 1501987082                                                                                                                |   101                                                                                                                     | CTBC                                                                                                                      | DISPONIVEL                                                                                                                | (34) 32699367                                                                                                             | 25/05/2001                                                                                                                | 01/11/2018 05h40                                                                                                          | MG                                                                                                                        | ...                                                                                                                       | SANTO ANTONIO                                                                                                             | AV DEODORO                                                                                                                | 0                                                                                                                         | 38301006                                                                                                                  | NAO                                                                                                                       | NAO                                                                                                                       | SIM                                                                                                                       | -18.95806                                                                                                                 | -49.46417                                                                                                                 | <a href=\"http://sistemas.anatel.gov.br/geonetwork/srv/por/metadata.show?id=16&currTab=simple\" target=\"_blank\">Acessar</a> |\n",
       "| TUP.fid-435f4487_177a530f832_-4fe3                                                                                        | POINT (-49.477777 -18.976388)                                                                                             | 1501987083                                                                                                                |   114                                                                                                                     | CTBC                                                                                                                      | DISPONIVEL                                                                                                                | (34) 32682475                                                                                                             | 28/10/1998                                                                                                                | 01/11/2018 06h47                                                                                                          | MG                                                                                                                        | ...                                                                                                                       | PLATINA                                                                                                                   | R ANTONIO PEDRO GUIMARAES                                                                                                 | 0                                                                                                                         | 38307078                                                                                                                  | NAO                                                                                                                       | NAO                                                                                                                       | SIM                                                                                                                       | -18.97639                                                                                                                 | -49.47778                                                                                                                 | <a href=\"http://sistemas.anatel.gov.br/geonetwork/srv/por/metadata.show?id=16&currTab=simple\" target=\"_blank\">Acessar</a> |\n",
       "| TUP.fid-435f4487_177a530f832_-4fe2                                                                                        | POINT (-49.48111 -19.001944)                                                                                              | 1501987084                                                                                                                |   116                                                                                                                     | CTBC                                                                                                                      | DISPONIVEL                                                                                                                | (34) 32693673                                                                                                             | 02/04/2001                                                                                                                | 01/11/2018 06h02                                                                                                          | MG                                                                                                                        | ...                                                                                                                       | NOVO TEMPO II                                                                                                             | R AMORIVAL GONCALVES ALMEIDA                                                                                              | 0                                                                                                                         | 38305190                                                                                                                  | NAO                                                                                                                       | NAO                                                                                                                       | SIM                                                                                                                       | -19.00194                                                                                                                 | -49.48111                                                                                                                 | <a href=\"http://sistemas.anatel.gov.br/geonetwork/srv/por/metadata.show?id=16&currTab=simple\" target=\"_blank\">Acessar</a> |\n",
       "| TUP.fid-435f4487_177a530f832_-4fe1                                                                                        | POINT (-49.463333 -18.981943)                                                                                             | 1501987085                                                                                                                |   121                                                                                                                     | CTBC                                                                                                                      | DISPONIVEL                                                                                                                | (34) 32625586                                                                                                             | 13/06/2001                                                                                                                | 01/11/2018 03h48                                                                                                          | MG                                                                                                                        | ...                                                                                                                       | CENTRO                                                                                                                    | AV 31                                                                                                                     | 0                                                                                                                         | 38300104                                                                                                                  | NAO                                                                                                                       | NAO                                                                                                                       | SIM                                                                                                                       | -18.98194                                                                                                                 | -49.46333                                                                                                                 | <a href=\"http://sistemas.anatel.gov.br/geonetwork/srv/por/metadata.show?id=16&currTab=simple\" target=\"_blank\">Acessar</a> |\n",
       "| TUP.fid-435f4487_177a530f832_-4fe0                                                                                        | POINT (-49.47861 -18.984999)                                                                                              | 1501987086                                                                                                                |   196                                                                                                                     | CTBC                                                                                                                      | DISPONIVEL                                                                                                                | (34) 32681412                                                                                                             | 09/06/1998                                                                                                                | 01/11/2018 05h59                                                                                                          | MG                                                                                                                        | ...                                                                                                                       | PIRAPITINGA                                                                                                               | AV NITEROI                                                                                                                | 0                                                                                                                         | 38307142                                                                                                                  | NAO                                                                                                                       | NAO                                                                                                                       | SIM                                                                                                                       | -18.98500                                                                                                                 | -49.47861                                                                                                                 | <a href=\"http://sistemas.anatel.gov.br/geonetwork/srv/por/metadata.show?id=16&currTab=simple\" target=\"_blank\">Acessar</a> |\n",
       "| TUP.fid-435f4487_177a530f832_-4fdf                                                                                        | POINT (-49.943055 -18.69111)                                                                                              | 1501987087                                                                                                                |   215                                                                                                                     | CTBC                                                                                                                      | DISPONIVEL                                                                                                                | (34) 32521393                                                                                                             | 28/06/2001                                                                                                                | 01/11/2018 04h51                                                                                                          | MG                                                                                                                        | ...                                                                                                                       | CENTRO                                                                                                                    | R BENEDITO WALDEMAR DA SILVA                                                                                              | 0                                                                                                                         | 38350000                                                                                                                  | SIM                                                                                                                       | NAO                                                                                                                       | SIM                                                                                                                       | -18.69111                                                                                                                 | -49.94306                                                                                                                 | <a href=\"http://sistemas.anatel.gov.br/geonetwork/srv/por/metadata.show?id=16&currTab=simple\" target=\"_blank\">Acessar</a> |\n",
       "| TUP.fid-435f4487_177a530f832_-4fde                                                                                        | POINT (-49.464444 -18.980277)                                                                                             | 1501987088                                                                                                                |   216                                                                                                                     | CTBC                                                                                                                      | DISPONIVEL                                                                                                                | (34) 32682807                                                                                                             | 30/06/2001                                                                                                                | 01/11/2018 01h38                                                                                                          | MG                                                                                                                        | ...                                                                                                                       | CENTRO                                                                                                                    | AV VINTE E CINCO                                                                                                          | 0                                                                                                                         | 38300095                                                                                                                  | NAO                                                                                                                       | NAO                                                                                                                       | SIM                                                                                                                       | -18.98028                                                                                                                 | -49.46444                                                                                                                 | <a href=\"http://sistemas.anatel.gov.br/geonetwork/srv/por/metadata.show?id=16&currTab=simple\" target=\"_blank\">Acessar</a> |\n",
       "| TUP.fid-435f4487_177a530f832_-4fdd                                                                                        | POINT (-49.464444 -18.972777)                                                                                             | 1501987089                                                                                                                |   240                                                                                                                     | CTBC                                                                                                                      | EM MANUTENCAO                                                                                                             | (34) 32681549                                                                                                             | 16/10/1998                                                                                                                | 26/10/2018 10h49                                                                                                          | MG                                                                                                                        | ...                                                                                                                       | CENTRO                                                                                                                    | AV ONZE                                                                                                                   | 0                                                                                                                         | 38300142                                                                                                                  | NAO                                                                                                                       | NAO                                                                                                                       | SIM                                                                                                                       | -18.97278                                                                                                                 | -49.46444                                                                                                                 | <a href=\"http://sistemas.anatel.gov.br/geonetwork/srv/por/metadata.show?id=16&currTab=simple\" target=\"_blank\">Acessar</a> |\n",
       "| TUP.fid-435f4487_177a530f832_-4fdc                                                                                        | POINT (-49.451944 -18.967221)                                                                                             | 1501987090                                                                                                                |   285                                                                                                                     | CTBC                                                                                                                      | DISPONIVEL                                                                                                                | (34) 32687542                                                                                                             | 13/02/2012                                                                                                                | 28/10/2018 09h27                                                                                                          | MG                                                                                                                        | ...                                                                                                                       | CENTRO                                                                                                                    | AV 21                                                                                                                     | 0                                                                                                                         | 38300120                                                                                                                  | NAO                                                                                                                       | NAO                                                                                                                       | SIM                                                                                                                       | -18.96722                                                                                                                 | -49.45194                                                                                                                 | <a href=\"http://sistemas.anatel.gov.br/geonetwork/srv/por/metadata.show?id=16&currTab=simple\" target=\"_blank\">Acessar</a> |\n",
       "| TUP.fid-435f4487_177a530f832_-4fdb                                                                                        | POINT (-49.434721 -18.985555)                                                                                             | 1501987091                                                                                                                |   326                                                                                                                     | CTBC                                                                                                                      | DISPONIVEL                                                                                                                | (34) 32610223                                                                                                             | 03/01/2012                                                                                                                | 31/10/2018 10h54                                                                                                          | MG                                                                                                                        | ...                                                                                                                       | RESIDENCIAL CANAA II                                                                                                      | AV C-13                                                                                                                   | 0                                                                                                                         | 30000000                                                                                                                  | NAO                                                                                                                       | NAO                                                                                                                       | SIM                                                                                                                       | -18.98556                                                                                                                 | -49.43472                                                                                                                 | <a href=\"http://sistemas.anatel.gov.br/geonetwork/srv/por/metadata.show?id=16&currTab=simple\" target=\"_blank\">Acessar</a> |\n",
       "| TUP.fid-435f4487_177a530f832_-4fda                                                                                        | POINT (-49.94111 -18.693055)                                                                                              | 1501987092                                                                                                                |   343                                                                                                                     | CTBC                                                                                                                      | DISPONIVEL                                                                                                                | (34) 32521401                                                                                                             | 28/06/2001                                                                                                                | 01/11/2018 01h42                                                                                                          | MG                                                                                                                        | ...                                                                                                                       | CENTRO                                                                                                                    | R OMAR OLIVEIRA DINIZ                                                                                                     | 0                                                                                                                         | 38350000                                                                                                                  | NAO                                                                                                                       | NAO                                                                                                                       | SIM                                                                                                                       | -18.69306                                                                                                                 | -49.94111                                                                                                                 | <a href=\"http://sistemas.anatel.gov.br/geonetwork/srv/por/metadata.show?id=16&currTab=simple\" target=\"_blank\">Acessar</a> |\n",
       "| TUP.fid-435f4487_177a530f832_-4fd9                                                                                        | POINT (-49.488333 -18.983333)                                                                                             | 1501987093                                                                                                                |   347                                                                                                                     | CTBC                                                                                                                      | DISPONIVEL                                                                                                                | (34) 32695532                                                                                                             | 11/02/2006                                                                                                                | 01/11/2018 04h53                                                                                                          | MG                                                                                                                        | ...                                                                                                                       | PIRAPITINGA                                                                                                               | R ANTONIO CAETANO NOVAES                                                                                                  | 0                                                                                                                         | 30000000                                                                                                                  | NAO                                                                                                                       | NAO                                                                                                                       | SIM                                                                                                                       | -18.98333                                                                                                                 | -49.48833                                                                                                                 | <a href=\"http://sistemas.anatel.gov.br/geonetwork/srv/por/metadata.show?id=16&currTab=simple\" target=\"_blank\">Acessar</a> |\n",
       "| TUP.fid-435f4487_177a530f832_-4fd8                                                                                        | POINT (-49.447499 -18.974999)                                                                                             | 1501987094                                                                                                                |   357                                                                                                                     | CTBC                                                                                                                      | EM MANUTENCAO                                                                                                             | (34) 32689857                                                                                                             | 16/02/2001                                                                                                                | 31/10/2018 08h29                                                                                                          | MG                                                                                                                        | ...                                                                                                                       | UNIVERSITARIO                                                                                                             | R HORACIO PAULO SIQUEIRA                                                                                                  | 0                                                                                                                         | 38302222                                                                                                                  | NAO                                                                                                                       | NAO                                                                                                                       | SIM                                                                                                                       | -18.97500                                                                                                                 | -49.44750                                                                                                                 | <a href=\"http://sistemas.anatel.gov.br/geonetwork/srv/por/metadata.show?id=16&currTab=simple\" target=\"_blank\">Acessar</a> |\n",
       "| TUP.fid-435f4487_177a530f832_-4fd7                                                                                        | POINT (-49.467777 -18.9625)                                                                                               | 1501987095                                                                                                                |   393                                                                                                                     | CTBC                                                                                                                      | DISPONIVEL                                                                                                                | (34) 32681941                                                                                                             | 23/02/1999                                                                                                                | 01/11/2018 06h35                                                                                                          | MG                                                                                                                        | ...                                                                                                                       | SETOR NORTE                                                                                                               | R JORGE JACOB YUNES                                                                                                       | 0                                                                                                                         | 38300172                                                                                                                  | NAO                                                                                                                       | NAO                                                                                                                       | SIM                                                                                                                       | -18.96250                                                                                                                 | -49.46778                                                                                                                 | <a href=\"http://sistemas.anatel.gov.br/geonetwork/srv/por/metadata.show?id=16&currTab=simple\" target=\"_blank\">Acessar</a> |\n",
       "| TUP.fid-435f4487_177a530f832_-4fd6                                                                                        | POINT (-49.44861 -18.981388)                                                                                              | 1501987096                                                                                                                |   403                                                                                                                     | CTBC                                                                                                                      | DISPONIVEL                                                                                                                | (34) 32697234                                                                                                             | 20/05/1999                                                                                                                | 31/10/2018 09h48                                                                                                          | MG                                                                                                                        | ...                                                                                                                       | SAO JOSE                                                                                                                  | R PARTICULAR                                                                                                              | 0                                                                                                                         | 38302242                                                                                                                  | NAO                                                                                                                       | NAO                                                                                                                       | SIM                                                                                                                       | -18.98139                                                                                                                 | -49.44861                                                                                                                 | <a href=\"http://sistemas.anatel.gov.br/geonetwork/srv/por/metadata.show?id=16&currTab=simple\" target=\"_blank\">Acessar</a> |\n",
       "| TUP.fid-435f4487_177a530f832_-4fd5                                                                                        | POINT (-49.477221 -18.988888)                                                                                             | 1501987097                                                                                                                |   430                                                                                                                     | CTBC                                                                                                                      | DISPONIVEL                                                                                                                | (34) 32687684                                                                                                             | 17/05/2001                                                                                                                | 01/11/2018 05h34                                                                                                          | MG                                                                                                                        | ...                                                                                                                       | PIRAPITINGA                                                                                                               | R UBERABA                                                                                                                 | 0                                                                                                                         | 38307414                                                                                                                  | NAO                                                                                                                       | NAO                                                                                                                       | SIM                                                                                                                       | -18.98889                                                                                                                 | -49.47722                                                                                                                 | <a href=\"http://sistemas.anatel.gov.br/geonetwork/srv/por/metadata.show?id=16&currTab=simple\" target=\"_blank\">Acessar</a> |\n",
       "| TUP.fid-435f4487_177a530f832_-4fd4                                                                                        | POINT (-49.44361 -19.994721)                                                                                              | 1501987098                                                                                                                |   434                                                                                                                     | CTBC                                                                                                                      | DISPONIVEL                                                                                                                | (34) 32693277                                                                                                             | 23/06/1998                                                                                                                | 16/10/2018 09h01                                                                                                          | MG                                                                                                                        | ...                                                                                                                       | BRASIL                                                                                                                    | R IUGOSLAVIA                                                                                                              | 0                                                                                                                         | 38304185                                                                                                                  | NAO                                                                                                                       | NAO                                                                                                                       | SIM                                                                                                                       | -19.99472                                                                                                                 | -49.44361                                                                                                                 | <a href=\"http://sistemas.anatel.gov.br/geonetwork/srv/por/metadata.show?id=16&currTab=simple\" target=\"_blank\">Acessar</a> |\n",
       "| TUP.fid-435f4487_177a530f832_-4fd3                                                                                        | POINT (-49.449166 -18.983333)                                                                                             | 1501987099                                                                                                                |   457                                                                                                                     | CTBC                                                                                                                      | DISPONIVEL                                                                                                                | (34) 32694944                                                                                                             | 23/01/2001                                                                                                                | 31/10/2018 09h37                                                                                                          | MG                                                                                                                        | ...                                                                                                                       | ALCIDES JUNQUEIRA                                                                                                         | R FORTUNATO PEDROSA                                                                                                       | 0                                                                                                                         | 38304108                                                                                                                  | NAO                                                                                                                       | NAO                                                                                                                       | SIM                                                                                                                       | -18.98333                                                                                                                 | -49.44917                                                                                                                 | <a href=\"http://sistemas.anatel.gov.br/geonetwork/srv/por/metadata.show?id=16&currTab=simple\" target=\"_blank\">Acessar</a> |\n",
       "| TUP.fid-435f4487_177a530f832_-4fd2                                                                                        | POINT (-47.300555 -21.27611)                                                                                              | 1501987100                                                                                                                | 10364                                                                                                                     | CTBC                                                                                                                      | DISPONIVEL                                                                                                                | (16) 36672854                                                                                                             | 16/07/2012                                                                                                                | 31/10/2018 11h12                                                                                                          | SP                                                                                                                        | ...                                                                                                                       | CENTRO                                                                                                                    | AV ADOLFO PAOLIELLO                                                                                                       | 0                                                                                                                         | 14240000                                                                                                                  | NAO                                                                                                                       | NAO                                                                                                                       | NAO                                                                                                                       | -21.27611                                                                                                                 | -47.30056                                                                                                                 | <a href=\"http://sistemas.anatel.gov.br/geonetwork/srv/por/metadata.show?id=16&currTab=simple\" target=\"_blank\">Acessar</a> |\n",
       "| TUP.fid-435f4487_177a530f832_-4fd1                                                                                        | POINT (-47.29861 -21.264722)                                                                                              | 1501987101                                                                                                                | 10406                                                                                                                     | CTBC                                                                                                                      | DISPONIVEL                                                                                                                | (16) 36673740                                                                                                             | 08/10/1998                                                                                                                | 30/10/2018 06h11                                                                                                          | SP                                                                                                                        | ...                                                                                                                       | CIDADE JARDIM                                                                                                             | R JUNDIAI                                                                                                                 | 0                                                                                                                         | 14240000                                                                                                                  | NAO                                                                                                                       | NAO                                                                                                                       | SIM                                                                                                                       | -21.26472                                                                                                                 | -47.29861                                                                                                                 | <a href=\"http://sistemas.anatel.gov.br/geonetwork/srv/por/metadata.show?id=16&currTab=simple\" target=\"_blank\">Acessar</a> |\n",
       "| TUP.fid-435f4487_177a530f832_-4fd0                                                                                        | POINT (-47.302222 -21.274166)                                                                                             | 1501987102                                                                                                                | 10411                                                                                                                     | CTBC                                                                                                                      | DISPONIVEL                                                                                                                | (16) 36674740                                                                                                             | 04/04/2001                                                                                                                | 01/11/2018 06h05                                                                                                          | SP                                                                                                                        | ...                                                                                                                       | CENTRO                                                                                                                    | R SETE DE SETEMBRO                                                                                                        | 0                                                                                                                         | 14240000                                                                                                                  | NAO                                                                                                                       | NAO                                                                                                                       | SIM                                                                                                                       | -21.27417                                                                                                                 | -47.30222                                                                                                                 | <a href=\"http://sistemas.anatel.gov.br/geonetwork/srv/por/metadata.show?id=16&currTab=simple\" target=\"_blank\">Acessar</a> |\n",
       "| TUP.fid-435f4487_177a530f832_-4fcf                                                                                        | POINT (-47.29611 -21.2625)                                                                                                | 1501987103                                                                                                                | 10497                                                                                                                     | CTBC                                                                                                                      | DISPONIVEL                                                                                                                | (16) 36673541                                                                                                             | 14/10/1998                                                                                                                | 01/11/2018 05h28                                                                                                          | SP                                                                                                                        | ...                                                                                                                       | CIDADE JARDIM                                                                                                             | AV FONSECA                                                                                                                | 0                                                                                                                         | 14240000                                                                                                                  | NAO                                                                                                                       | NAO                                                                                                                       | SIM                                                                                                                       | -21.26250                                                                                                                 | -47.29611                                                                                                                 | <a href=\"http://sistemas.anatel.gov.br/geonetwork/srv/por/metadata.show?id=16&currTab=simple\" target=\"_blank\">Acessar</a> |\n",
       "| TUP.fid-435f4487_177a530f832_-4fce                                                                                        | POINT (-49.471666 -18.997777)                                                                                             | 1501987104                                                                                                                |  8250                                                                                                                     | CTBC                                                                                                                      | DISPONIVEL                                                                                                                | (34) 32681846                                                                                                             | 29/10/1998                                                                                                                | 01/11/2018 06h30                                                                                                          | MG                                                                                                                        | ...                                                                                                                       | JERONIMO MENDONCA                                                                                                         | AV MINAS GERAIS                                                                                                           | 0                                                                                                                         | 38305221                                                                                                                  | NAO                                                                                                                       | NAO                                                                                                                       | SIM                                                                                                                       | -18.99778                                                                                                                 | -49.47167                                                                                                                 | <a href=\"http://sistemas.anatel.gov.br/geonetwork/srv/por/metadata.show?id=16&currTab=simple\" target=\"_blank\">Acessar</a> |\n",
       "| TUP.fid-435f4487_177a530f832_-4fcd                                                                                        | POINT (-50.492777 -19.042221)                                                                                             | 1501987105                                                                                                                |   227                                                                                                                     | CTBC                                                                                                                      | DISPONIVEL                                                                                                                | (34) 32518236                                                                                                             | 07/03/2005                                                                                                                | 01/11/2018 06h41                                                                                                          | MG                                                                                                                        | ...                                                                                                                       | CENTRO                                                                                                                    | AV 3                                                                                                                      | 0                                                                                                                         | 38325000                                                                                                                  | NAO                                                                                                                       | NAO                                                                                                                       | SIM                                                                                                                       | -19.04222                                                                                                                 | -50.49278                                                                                                                 | <a href=\"http://sistemas.anatel.gov.br/geonetwork/srv/por/metadata.show?id=16&currTab=simple\" target=\"_blank\">Acessar</a> |\n",
       "| ... | ... | ... | ... | ... | ... | ... | ... | ... | ... |     | ... | ... | ... | ... | ... | ... | ... | ... | ... | ... |\n",
       "| TUP.fid-435f4487_177a58b92fc_-75a6                                                                                        | POINT (-42.68361 -13.019166)                                                                                              | 1502174021                                                                                                                | 187688                                                                                                                    | OI                                                                                                                        | DISPONIVEL                                                                                                                | (77) 34731505                                                                                                             | 16/06/2001                                                                                                                | 10/02/2021 11h02                                                                                                          | BA                                                                                                                        | ...                                                                                                                       | ALTO CRUZEIRO                                                                                                             | RUA DIVALDO FRANCO                                                                                                        | 0                                                                                                                         | 46500000                                                                                                                  | NAO                                                                                                                       | NAO                                                                                                                       | SIM                                                                                                                       | -13.01917                                                                                                                 | -42.68361                                                                                                                 | <a href=\"http://sistemas.anatel.gov.br/geonetwork/srv/por/metadata.show?id=16&currTab=simple\" target=\"_blank\">Acessar</a> |\n",
       "| TUP.fid-435f4487_177a58b92fc_-75a5                                                                                        | POINT (-42.687777 -13.015555)                                                                                             | 1502174022                                                                                                                | 187689                                                                                                                    | OI                                                                                                                        | DISPONIVEL                                                                                                                | (77) 34731508                                                                                                             | 16/06/2001                                                                                                                | 10/02/2021 11h02                                                                                                          | BA                                                                                                                        | ...                                                                                                                       | ALTO ALEXANDRINO                                                                                                          | RUA PROF MANOEL AMANCIO                                                                                                   | 0                                                                                                                         | 46500000                                                                                                                  | NAO                                                                                                                       | NAO                                                                                                                       | SIM                                                                                                                       | -13.01556                                                                                                                 | -42.68778                                                                                                                 | <a href=\"http://sistemas.anatel.gov.br/geonetwork/srv/por/metadata.show?id=16&currTab=simple\" target=\"_blank\">Acessar</a> |\n",
       "| TUP.fid-435f4487_177a58b92fc_-75a4                                                                                        | POINT (-42.687221 -13.013888)                                                                                             | 1502174023                                                                                                                | 187690                                                                                                                    | OI                                                                                                                        | EM MANUTENCAO                                                                                                             | (77) 34731300                                                                                                             | 23/05/1994                                                                                                                | 05/02/2021 03h02                                                                                                          | BA                                                                                                                        | ...                                                                                                                       | CENTRO                                                                                                                    | RUA VERDINHA                                                                                                              | 0                                                                                                                         | 46500000                                                                                                                  | NAO                                                                                                                       | NAO                                                                                                                       | SIM                                                                                                                       | -13.01389                                                                                                                 | -42.68722                                                                                                                 | <a href=\"http://sistemas.anatel.gov.br/geonetwork/srv/por/metadata.show?id=16&currTab=simple\" target=\"_blank\">Acessar</a> |\n",
       "| TUP.fid-435f4487_177a58b92fc_-75a3                                                                                        | POINT (-42.691666 -13.019999)                                                                                             | 1502174024                                                                                                                | 187691                                                                                                                    | OI                                                                                                                        | DISPONIVEL                                                                                                                | (77) 34731503                                                                                                             | 16/06/2001                                                                                                                | 11/02/2021 02h02                                                                                                          | BA                                                                                                                        | ...                                                                                                                       | CENTRO                                                                                                                    | RUA DOIS DE JULHO                                                                                                         | 0                                                                                                                         | 46500000                                                                                                                  | NAO                                                                                                                       | NAO                                                                                                                       | SIM                                                                                                                       | -13.02000                                                                                                                 | -42.69167                                                                                                                 | <a href=\"http://sistemas.anatel.gov.br/geonetwork/srv/por/metadata.show?id=16&currTab=simple\" target=\"_blank\">Acessar</a> |\n",
       "| TUP.fid-435f4487_177a58b92fc_-75a2                                                                                        | POINT (-44.072777 -12.962222)                                                                                             | 1502174025                                                                                                                | 187721                                                                                                                    | OI                                                                                                                        | DISPONIVEL                                                                                                                | (77) 34842200                                                                                                             | 02/03/2005                                                                                                                | 10/02/2021 04h02                                                                                                          | BA                                                                                                                        | ...                                                                                                                       | CENTRO                                                                                                                    | RUA PRINCIPAL                                                                                                             | 0                                                                                                                         | 47700000                                                                                                                  | NAO                                                                                                                       | NAO                                                                                                                       | SIM                                                                                                                       | -12.96222                                                                                                                 | -44.07278                                                                                                                 | <a href=\"http://sistemas.anatel.gov.br/geonetwork/srv/por/metadata.show?id=16&currTab=simple\" target=\"_blank\">Acessar</a> |\n",
       "| TUP.fid-435f4487_177a58b92fc_-75a1                                                                                        | POINT (-43.563333 -10.294166)                                                                                             | 1502174026                                                                                                                | 187769                                                                                                                    | OI                                                                                                                        | EM MANUTENCAO                                                                                                             | (77) 34423023                                                                                                             | 20/05/2013                                                                                                                | 27/01/2021 04h01                                                                                                          | BA                                                                                                                        | ...                                                                                                                       | CENTRO                                                                                                                    | RUA PRINCIPAL                                                                                                             | 0                                                                                                                         | 47120000                                                                                                                  | NAO                                                                                                                       | NAO                                                                                                                       | SIM                                                                                                                       | -10.29417                                                                                                                 | -43.56333                                                                                                                 | <a href=\"http://sistemas.anatel.gov.br/geonetwork/srv/por/metadata.show?id=16&currTab=simple\" target=\"_blank\">Acessar</a> |\n",
       "| TUP.fid-435f4487_177a58b92fc_-75a0                                                                                        | POINT (-45.022499 -11.631943)                                                                                             | 1502174027                                                                                                                | 187776                                                                                                                    | OI                                                                                                                        | EM MANUTENCAO                                                                                                             | (77) 36247001                                                                                                             | 17/11/2005                                                                                                                | 06/02/2021 08h02                                                                                                          | BA                                                                                                                        | ...                                                                                                                       | CENTRO                                                                                                                    | RUA PRINCIPAL                                                                                                             | 0                                                                                                                         | 47970000                                                                                                                  | NAO                                                                                                                       | NAO                                                                                                                       | SIM                                                                                                                       | -11.63194                                                                                                                 | -45.02250                                                                                                                 | <a href=\"http://sistemas.anatel.gov.br/geonetwork/srv/por/metadata.show?id=16&currTab=simple\" target=\"_blank\">Acessar</a> |\n",
       "| TUP.fid-435f4487_177a58b92fc_-759f                                                                                        | POINT (-42.039999 -12.627221)                                                                                             | 1502174028                                                                                                                | 187801                                                                                                                    | OI                                                                                                                        | DISPONIVEL                                                                                                                | (77) 36472350                                                                                                             | 05/05/2006                                                                                                                | 11/02/2021 09h02                                                                                                          | BA                                                                                                                        | ...                                                                                                                       | CENTRO                                                                                                                    | RUA PRINCIPAL                                                                                                             | 0                                                                                                                         | 46700000                                                                                                                  | NAO                                                                                                                       | NAO                                                                                                                       | SIM                                                                                                                       | -12.62722                                                                                                                 | -42.04000                                                                                                                 | <a href=\"http://sistemas.anatel.gov.br/geonetwork/srv/por/metadata.show?id=16&currTab=simple\" target=\"_blank\">Acessar</a> |\n",
       "| TUP.fid-435f4487_177a58b92fc_-759e                                                                                        | POINT (-40.727221 -14.860277)                                                                                             | 1502174029                                                                                                                | 187812                                                                                                                    | OI                                                                                                                        | DISPONIVEL                                                                                                                | (77) 34031010                                                                                                             | 29/05/2005                                                                                                                | 11/02/2021 02h02                                                                                                          | BA                                                                                                                        | ...                                                                                                                       | CENTRO                                                                                                                    | RUA PRINCIPAL                                                                                                             | 0                                                                                                                         | 45005410                                                                                                                  | NAO                                                                                                                       | NAO                                                                                                                       | SIM                                                                                                                       | -14.86028                                                                                                                 | -40.72722                                                                                                                 | <a href=\"http://sistemas.anatel.gov.br/geonetwork/srv/por/metadata.show?id=16&currTab=simple\" target=\"_blank\">Acessar</a> |\n",
       "| TUP.fid-435f4487_177a58b92fc_-759d                                                                                        | POINT (-42.62611 -13.334999)                                                                                              | 1502174030                                                                                                                | 187846                                                                                                                    | OI                                                                                                                        | DISPONIVEL                                                                                                                | (77) 36782266                                                                                                             | 18/04/2013                                                                                                                | 11/02/2021 11h02                                                                                                          | BA                                                                                                                        | ...                                                                                                                       | CENTRO                                                                                                                    | RUA PRINCIPAL                                                                                                             | 0                                                                                                                         | 46570000                                                                                                                  | NAO                                                                                                                       | NAO                                                                                                                       | SIM                                                                                                                       | -13.33500                                                                                                                 | -42.62611                                                                                                                 | <a href=\"http://sistemas.anatel.gov.br/geonetwork/srv/por/metadata.show?id=16&currTab=simple\" target=\"_blank\">Acessar</a> |\n",
       "| TUP.fid-435f4487_177a58b92fc_-759c                                                                                        | POINT (-41.216388 -18.834721)                                                                                             | 1502174031                                                                                                                | 185958                                                                                                                    | OI                                                                                                                        | DISPONIVEL                                                                                                                | (27) 37586028                                                                                                             | 11/01/2002                                                                                                                | 11/02/2021 01h02                                                                                                          | ES                                                                                                                        | ...                                                                                                                       | CENTRO                                                                                                                    | RUA JOSE RODRIENES TIAGO                                                                                                  | 0                                                                                                                         | 29776000                                                                                                                  | NAO                                                                                                                       | NAO                                                                                                                       | SIM                                                                                                                       | -18.83472                                                                                                                 | -41.21639                                                                                                                 | <a href=\"http://sistemas.anatel.gov.br/geonetwork/srv/por/metadata.show?id=16&currTab=simple\" target=\"_blank\">Acessar</a> |\n",
       "| TUP.fid-435f4487_177a58b92fc_-759b                                                                                        | POINT (-41.046944 -20.339166)                                                                                             | 1502174032                                                                                                                | 185975                                                                                                                    | OI                                                                                                                        | DISPONIVEL                                                                                                                | (27) 32483344                                                                                                             | 08/12/2010                                                                                                                | 08/02/2021 02h02                                                                                                          | ES                                                                                                                        | ...                                                                                                                       | CENTRO                                                                                                                    | ROD ES 165                                                                                                                | 0                                                                                                                         | 29260000                                                                                                                  | NAO                                                                                                                       | NAO                                                                                                                       | NAO                                                                                                                       | -20.33917                                                                                                                 | -41.04694                                                                                                                 | <a href=\"http://sistemas.anatel.gov.br/geonetwork/srv/por/metadata.show?id=16&currTab=simple\" target=\"_blank\">Acessar</a> |\n",
       "| TUP.fid-435f4487_177a58b92fc_-759a                                                                                        | POINT (-40.828888 -21.009166)                                                                                             | 1502174033                                                                                                                | 186057                                                                                                                    | OI                                                                                                                        | DISPONIVEL                                                                                                                | (28) 35296583                                                                                                             | 01/10/2002                                                                                                                | 11/02/2021 04h02                                                                                                          | ES                                                                                                                        | ...                                                                                                                       | CENTRO                                                                                                                    | PCA DOMINGOS JOSE MARTINS                                                                                                 | 0                                                                                                                         | 29330000                                                                                                                  | NAO                                                                                                                       | NAO                                                                                                                       | SIM                                                                                                                       | -21.00917                                                                                                                 | -40.82889                                                                                                                 | <a href=\"http://sistemas.anatel.gov.br/geonetwork/srv/por/metadata.show?id=16&currTab=simple\" target=\"_blank\">Acessar</a> |\n",
       "| TUP.fid-435f4487_177a58b92fc_-7599                                                                                        | POINT (-40.7625 -19.84611)                                                                                                | 1502174034                                                                                                                | 185696                                                                                                                    | OI                                                                                                                        | DISPONIVEL                                                                                                                | (27) 32595008                                                                                                             | 25/06/2001                                                                                                                | 10/02/2021 08h02                                                                                                          | ES                                                                                                                        | ...                                                                                                                       | CENTRO                                                                                                                    | RUA PRINCIPAL                                                                                                             | 0                                                                                                                         | 29662000                                                                                                                  | NAO                                                                                                                       | NAO                                                                                                                       | SIM                                                                                                                       | -19.84611                                                                                                                 | -40.76250                                                                                                                 | <a href=\"http://sistemas.anatel.gov.br/geonetwork/srv/por/metadata.show?id=16&currTab=simple\" target=\"_blank\">Acessar</a> |\n",
       "| TUP.fid-435f4487_177a58b92fc_-7598                                                                                        | POINT (-40.756111 -18.821666)                                                                                             | 1502174035                                                                                                                | 185963                                                                                                                    | OI                                                                                                                        | DISPONIVEL                                                                                                                | (27) 37721056                                                                                                             | 31/12/2001                                                                                                                | 09/02/2021 11h02                                                                                                          | ES                                                                                                                        | ...                                                                                                                       | CENTRO                                                                                                                    | RUA PRINCIPAL                                                                                                             | 0                                                                                                                         | 29830000                                                                                                                  | NAO                                                                                                                       | NAO                                                                                                                       | SIM                                                                                                                       | -18.82167                                                                                                                 | -40.75611                                                                                                                 | <a href=\"http://sistemas.anatel.gov.br/geonetwork/srv/por/metadata.show?id=16&currTab=simple\" target=\"_blank\">Acessar</a> |\n",
       "| TUP.fid-435f4487_177a58b92fc_-7597                                                                                        | POINT (-38.766943 -12.733054)                                                                                             | 1502174036                                                                                                                | 186099                                                                                                                    | OI                                                                                                                        | EM MANUTENCAO                                                                                                             | (71) 36961103                                                                                                             | 31/07/2000                                                                                                                | 26/01/2021 02h01                                                                                                          | BA                                                                                                                        | ...                                                                                                                       | CENTRO                                                                                                                    | RUA DA VALA                                                                                                               | 0                                                                                                                         | 44220000                                                                                                                  | NAO                                                                                                                       | NAO                                                                                                                       | NAO                                                                                                                       | -12.73305                                                                                                                 | -38.76694                                                                                                                 | <a href=\"http://sistemas.anatel.gov.br/geonetwork/srv/por/metadata.show?id=16&currTab=simple\" target=\"_blank\">Acessar</a> |\n",
       "| TUP.fid-435f4487_177a58b92fc_-7596                                                                                        | POINT (-38.770554 -12.779721)                                                                                             | 1502174037                                                                                                                | 186100                                                                                                                    | OI                                                                                                                        | EM MANUTENCAO                                                                                                             | (71) 36961778                                                                                                             | 24/11/2014                                                                                                                | 26/01/2021 02h01                                                                                                          | BA                                                                                                                        | ...                                                                                                                       | CENTRO                                                                                                                    | RUA PORTO                                                                                                                 | 0                                                                                                                         | 44220972                                                                                                                  | NAO                                                                                                                       | NAO                                                                                                                       | NAO                                                                                                                       | -12.77972                                                                                                                 | -38.77055                                                                                                                 | <a href=\"http://sistemas.anatel.gov.br/geonetwork/srv/por/metadata.show?id=16&currTab=simple\" target=\"_blank\">Acessar</a> |\n",
       "| TUP.fid-435f4487_177a58b92fc_-7595                                                                                        | POINT (-44.466943 -12.065555)                                                                                             | 1502174038                                                                                                                | 171817                                                                                                                    | OI                                                                                                                        | DISPONIVEL                                                                                                                | (77) 36225167                                                                                                             | 27/11/2001                                                                                                                | 11/02/2021 04h02                                                                                                          | BA                                                                                                                        | ...                                                                                                                       | CENTRO                                                                                                                    | RUA PAULISTA                                                                                                              | 0                                                                                                                         | 47960000                                                                                                                  | NAO                                                                                                                       | NAO                                                                                                                       | SIM                                                                                                                       | -12.06555                                                                                                                 | -44.46694                                                                                                                 | <a href=\"http://sistemas.anatel.gov.br/geonetwork/srv/por/metadata.show?id=16&currTab=simple\" target=\"_blank\">Acessar</a> |\n",
       "| TUP.fid-435f4487_177a58b92fc_-7594                                                                                        | POINT (-43.479166 -19.939721)                                                                                             | 1502174039                                                                                                                | 171832                                                                                                                    | OI                                                                                                                        | DISPONIVEL                                                                                                                | (31) 38372724                                                                                                             | 28/01/1994                                                                                                                | 09/02/2021 01h02                                                                                                          | MG                                                                                                                        | ...                                                                                                                       | CENTRO                                                                                                                    | RUA MIN CLOVIS SALGADO                                                                                                    | EN                                                                                                                        | 35970000                                                                                                                  | NAO                                                                                                                       | NAO                                                                                                                       | NAO                                                                                                                       | -19.93972                                                                                                                 | -43.47917                                                                                                                 | <a href=\"http://sistemas.anatel.gov.br/geonetwork/srv/por/metadata.show?id=16&currTab=simple\" target=\"_blank\">Acessar</a> |\n",
       "| TUP.fid-435f4487_177a58b92fc_-7593                                                                                        | POINT (-41.623054 -20.358333)                                                                                             | 1502174040                                                                                                                | 171853                                                                                                                    | OI                                                                                                                        | DISPONIVEL                                                                                                                | (28) 35481229                                                                                                             | 23/11/2020                                                                                                                | 09/02/2021 09h02                                                                                                          | ES                                                                                                                        | ...                                                                                                                       | CENTRO                                                                                                                    | RUA PRINCIPAL                                                                                                             | 0                                                                                                                         | 29398000                                                                                                                  | NAO                                                                                                                       | NAO                                                                                                                       | SIM                                                                                                                       | -20.35833                                                                                                                 | -41.62305                                                                                                                 | <a href=\"http://sistemas.anatel.gov.br/geonetwork/srv/por/metadata.show?id=16&currTab=simple\" target=\"_blank\">Acessar</a> |\n",
       "| TUP.fid-435f4487_177a58b92fc_-7592                                                                                        | POINT (-43.267777 -16.240277)                                                                                             | 1502174041                                                                                                                | 185562                                                                                                                    | OI                                                                                                                        | DISPONIVEL                                                                                                                | (38) 32334083                                                                                                             | 27/12/2001                                                                                                                | 10/02/2021 09h02                                                                                                          | MG                                                                                                                        | ...                                                                                                                       | JOAQUIM RODRIGUES                                                                                                         | RUA E                                                                                                                     | FR0                                                                                                                       | 39585000                                                                                                                  | NAO                                                                                                                       | NAO                                                                                                                       | SIM                                                                                                                       | -16.24028                                                                                                                 | -43.26778                                                                                                                 | <a href=\"http://sistemas.anatel.gov.br/geonetwork/srv/por/metadata.show?id=16&currTab=simple\" target=\"_blank\">Acessar</a> |\n",
       "| TUP.fid-435f4487_177a58b92fc_-7591                                                                                        | POINT (-43.096944 -22.143055)                                                                                             | 1502174042                                                                                                                | 183834                                                                                                                    | OI                                                                                                                        | DISPONIVEL                                                                                                                | (24) 22208628                                                                                                             | 20/07/2014                                                                                                                | 11/02/2021 02h02                                                                                                          | RJ                                                                                                                        | ...                                                                                                                       | BEMPOSTA                                                                                                                  | RUA WERNECK                                                                                                               | 0                                                                                                                         | 25840000                                                                                                                  | NAO                                                                                                                       | NAO                                                                                                                       | NAO                                                                                                                       | -22.14306                                                                                                                 | -43.09694                                                                                                                 | <a href=\"http://sistemas.anatel.gov.br/geonetwork/srv/por/metadata.show?id=16&currTab=simple\" target=\"_blank\">Acessar</a> |\n",
       "| TUP.fid-435f4487_177a58b92fc_-7590                                                                                        | POINT (-43.580277 -22.16861)                                                                                              | 1502174043                                                                                                                | 183837                                                                                                                    | OI                                                                                                                        | DISPONIVEL                                                                                                                | (24) 24580616                                                                                                             | 08/12/2006                                                                                                                | 11/02/2021 08h02                                                                                                          | RJ                                                                                                                        | ...                                                                                                                       | CENTRO                                                                                                                    | RUA JOAO CARVALHO DA ROCHA                                                                                                | 0                                                                                                                         | 27660000                                                                                                                  | NAO                                                                                                                       | NAO                                                                                                                       | NAO                                                                                                                       | -22.16861                                                                                                                 | -43.58028                                                                                                                 | <a href=\"http://sistemas.anatel.gov.br/geonetwork/srv/por/metadata.show?id=16&currTab=simple\" target=\"_blank\">Acessar</a> |\n",
       "| TUP.fid-435f4487_177a58b92fc_-758f                                                                                        | POINT (-43.584444 -22.168332)                                                                                             | 1502174044                                                                                                                | 183838                                                                                                                    | OI                                                                                                                        | DISPONIVEL                                                                                                                | (24) 24581295                                                                                                             | 18/09/2000                                                                                                                | 11/02/2021 08h02                                                                                                          | RJ                                                                                                                        | ...                                                                                                                       | CENTRO                                                                                                                    | RUA LEONI RAMOS                                                                                                           | 0                                                                                                                         | 27660000                                                                                                                  | NAO                                                                                                                       | NAO                                                                                                                       | NAO                                                                                                                       | -22.16833                                                                                                                 | -43.58444                                                                                                                 | <a href=\"http://sistemas.anatel.gov.br/geonetwork/srv/por/metadata.show?id=16&currTab=simple\" target=\"_blank\">Acessar</a> |\n",
       "| TUP.fid-435f4487_177a58b92fc_-758e                                                                                        | POINT (-43.588333 -22.154444)                                                                                             | 1502174045                                                                                                                | 183839                                                                                                                    | OI                                                                                                                        | DISPONIVEL                                                                                                                | (24) 24580778                                                                                                             | 25/07/2011                                                                                                                | 11/02/2021 06h02                                                                                                          | RJ                                                                                                                        | ...                                                                                                                       | CENTRO                                                                                                                    | RUA ADILIO RIBEIRO AMORIM                                                                                                 | 0                                                                                                                         | 27660000                                                                                                                  | NAO                                                                                                                       | NAO                                                                                                                       | SIM                                                                                                                       | -22.15444                                                                                                                 | -43.58833                                                                                                                 | <a href=\"http://sistemas.anatel.gov.br/geonetwork/srv/por/metadata.show?id=16&currTab=simple\" target=\"_blank\">Acessar</a> |\n",
       "| TUP.fid-435f4487_177a58b92fc_-758d                                                                                        | POINT (-39.631388 -11.611388)                                                                                             | 1502174046                                                                                                                | 187305                                                                                                                    | OI                                                                                                                        | DISPONIVEL                                                                                                                | (75) 32341040                                                                                                             | 17/08/1995                                                                                                                | 11/02/2021 05h02                                                                                                          | BA                                                                                                                        | ...                                                                                                                       | CENTRO                                                                                                                    | RUA PEDRO MAIA MATOS                                                                                                      | 0                                                                                                                         | 44642000                                                                                                                  | NAO                                                                                                                       | NAO                                                                                                                       | NAO                                                                                                                       | -11.61139                                                                                                                 | -39.63139                                                                                                                 | <a href=\"http://sistemas.anatel.gov.br/geonetwork/srv/por/metadata.show?id=16&currTab=simple\" target=\"_blank\">Acessar</a> |\n",
       "| TUP.fid-435f4487_177a58b92fc_-758c                                                                                        | POINT (-44.4625 -12.063611)                                                                                               | 1502174047                                                                                                                | 187726                                                                                                                    | OI                                                                                                                        | EM MANUTENCAO                                                                                                             | (77) 36225019                                                                                                             | 28/11/2001                                                                                                                | 02/02/2021 04h02                                                                                                          | BA                                                                                                                        | ...                                                                                                                       | CENTRO                                                                                                                    | RUA TELEMAR                                                                                                               | 0                                                                                                                         | 47960000                                                                                                                  | NAO                                                                                                                       | NAO                                                                                                                       | NAO                                                                                                                       | -12.06361                                                                                                                 | -44.46250                                                                                                                 | <a href=\"http://sistemas.anatel.gov.br/geonetwork/srv/por/metadata.show?id=16&currTab=simple\" target=\"_blank\">Acessar</a> |\n",
       "| TUP.fid-435f4487_177a58b92fc_-758b                                                                                        | POINT (-44.701944 -23.3)                                                                                                  | 1502174048                                                                                                                | 184066                                                                                                                    | OI                                                                                                                        | DISPONIVEL                                                                                                                | (24) 33717677                                                                                                             | 10/05/2003                                                                                                                | 11/02/2021 03h02                                                                                                          | RJ                                                                                                                        | ...                                                                                                                       | PATRIMONIO                                                                                                                | ROD BR CENTO E UM                                                                                                         | 0                                                                                                                         | 23970000                                                                                                                  | NAO                                                                                                                       | NAO                                                                                                                       | SIM                                                                                                                       | -23.30000                                                                                                                 | -44.70194                                                                                                                 | <a href=\"http://sistemas.anatel.gov.br/geonetwork/srv/por/metadata.show?id=16&currTab=simple\" target=\"_blank\">Acessar</a> |\n",
       "| TUP.fid-435f4487_177a58b92fc_-758a                                                                                        | POINT (-40.715833 -15.625277)                                                                                             | 1502174049                                                                                                                | 187827                                                                                                                    | OI                                                                                                                        | EM MANUTENCAO                                                                                                             | (77) 34392424                                                                                                             | 26/07/2008                                                                                                                | 25/01/2021 11h01                                                                                                          | BA                                                                                                                        | ...                                                                                                                       | CENTRO                                                                                                                    | RUA PRINCIPAL                                                                                                             | 0                                                                                                                         | 45150000                                                                                                                  | NAO                                                                                                                       | NAO                                                                                                                       | SIM                                                                                                                       | -15.62528                                                                                                                 | -40.71583                                                                                                                 | <a href=\"http://sistemas.anatel.gov.br/geonetwork/srv/por/metadata.show?id=16&currTab=simple\" target=\"_blank\">Acessar</a> |\n",
       "| TUP.fid-435f4487_177a58b92fc_-7589                                                                                        | POINT (-43.301944 -20.681943)                                                                                             | 1502174050                                                                                                                | 184339                                                                                                                    | OI                                                                                                                        | DISPONIVEL                                                                                                                | (31) 37461486                                                                                                             | 29/12/1999                                                                                                                | 10/02/2021 10h02                                                                                                          | MG                                                                                                                        | ...                                                                                                                       | CENTRO                                                                                                                    | RUA STA EFIGENIA                                                                                                          | FRFR                                                                                                                      | 36480000                                                                                                                  | NAO                                                                                                                       | NAO                                                                                                                       | SIM                                                                                                                       | -20.68194                                                                                                                 | -43.30194                                                                                                                 | <a href=\"http://sistemas.anatel.gov.br/geonetwork/srv/por/metadata.show?id=16&currTab=simple\" target=\"_blank\">Acessar</a> |\n",
       "\n"
      ],
      "text/plain": [
       "       FID                                est_geom                     \n",
       "1      TUP.fid-435f4487_177a530f832_-4fea POINT (-49.948055 -18.691388)\n",
       "2      TUP.fid-435f4487_177a530f832_-4fe9 POINT (-49.479166 -18.968332)\n",
       "3      TUP.fid-435f4487_177a530f832_-4fe8 POINT (-47.314166 -21.274443)\n",
       "4      TUP.fid-435f4487_177a530f832_-4fe7 POINT (-49.464166 -18.959166)\n",
       "5      TUP.fid-435f4487_177a530f832_-4fe6 POINT (-49.481388 -19.006111)\n",
       "6      TUP.fid-435f4487_177a530f832_-4fe5 POINT (-49.488888 -18.997221)\n",
       "7      TUP.fid-435f4487_177a530f832_-4fe4 POINT (-49.464166 -18.958055)\n",
       "8      TUP.fid-435f4487_177a530f832_-4fe3 POINT (-49.477777 -18.976388)\n",
       "9      TUP.fid-435f4487_177a530f832_-4fe2 POINT (-49.48111 -19.001944) \n",
       "10     TUP.fid-435f4487_177a530f832_-4fe1 POINT (-49.463333 -18.981943)\n",
       "11     TUP.fid-435f4487_177a530f832_-4fe0 POINT (-49.47861 -18.984999) \n",
       "12     TUP.fid-435f4487_177a530f832_-4fdf POINT (-49.943055 -18.69111) \n",
       "13     TUP.fid-435f4487_177a530f832_-4fde POINT (-49.464444 -18.980277)\n",
       "14     TUP.fid-435f4487_177a530f832_-4fdd POINT (-49.464444 -18.972777)\n",
       "15     TUP.fid-435f4487_177a530f832_-4fdc POINT (-49.451944 -18.967221)\n",
       "16     TUP.fid-435f4487_177a530f832_-4fdb POINT (-49.434721 -18.985555)\n",
       "17     TUP.fid-435f4487_177a530f832_-4fda POINT (-49.94111 -18.693055) \n",
       "18     TUP.fid-435f4487_177a530f832_-4fd9 POINT (-49.488333 -18.983333)\n",
       "19     TUP.fid-435f4487_177a530f832_-4fd8 POINT (-49.447499 -18.974999)\n",
       "20     TUP.fid-435f4487_177a530f832_-4fd7 POINT (-49.467777 -18.9625)  \n",
       "21     TUP.fid-435f4487_177a530f832_-4fd6 POINT (-49.44861 -18.981388) \n",
       "22     TUP.fid-435f4487_177a530f832_-4fd5 POINT (-49.477221 -18.988888)\n",
       "23     TUP.fid-435f4487_177a530f832_-4fd4 POINT (-49.44361 -19.994721) \n",
       "24     TUP.fid-435f4487_177a530f832_-4fd3 POINT (-49.449166 -18.983333)\n",
       "25     TUP.fid-435f4487_177a530f832_-4fd2 POINT (-47.300555 -21.27611) \n",
       "26     TUP.fid-435f4487_177a530f832_-4fd1 POINT (-47.29861 -21.264722) \n",
       "27     TUP.fid-435f4487_177a530f832_-4fd0 POINT (-47.302222 -21.274166)\n",
       "28     TUP.fid-435f4487_177a530f832_-4fcf POINT (-47.29611 -21.2625)   \n",
       "29     TUP.fid-435f4487_177a530f832_-4fce POINT (-49.471666 -18.997777)\n",
       "30     TUP.fid-435f4487_177a530f832_-4fcd POINT (-50.492777 -19.042221)\n",
       "...    ...                                ...                          \n",
       "186946 TUP.fid-435f4487_177a58b92fc_-75a6 POINT (-42.68361 -13.019166) \n",
       "186947 TUP.fid-435f4487_177a58b92fc_-75a5 POINT (-42.687777 -13.015555)\n",
       "186948 TUP.fid-435f4487_177a58b92fc_-75a4 POINT (-42.687221 -13.013888)\n",
       "186949 TUP.fid-435f4487_177a58b92fc_-75a3 POINT (-42.691666 -13.019999)\n",
       "186950 TUP.fid-435f4487_177a58b92fc_-75a2 POINT (-44.072777 -12.962222)\n",
       "186951 TUP.fid-435f4487_177a58b92fc_-75a1 POINT (-43.563333 -10.294166)\n",
       "186952 TUP.fid-435f4487_177a58b92fc_-75a0 POINT (-45.022499 -11.631943)\n",
       "186953 TUP.fid-435f4487_177a58b92fc_-759f POINT (-42.039999 -12.627221)\n",
       "186954 TUP.fid-435f4487_177a58b92fc_-759e POINT (-40.727221 -14.860277)\n",
       "186955 TUP.fid-435f4487_177a58b92fc_-759d POINT (-42.62611 -13.334999) \n",
       "186956 TUP.fid-435f4487_177a58b92fc_-759c POINT (-41.216388 -18.834721)\n",
       "186957 TUP.fid-435f4487_177a58b92fc_-759b POINT (-41.046944 -20.339166)\n",
       "186958 TUP.fid-435f4487_177a58b92fc_-759a POINT (-40.828888 -21.009166)\n",
       "186959 TUP.fid-435f4487_177a58b92fc_-7599 POINT (-40.7625 -19.84611)   \n",
       "186960 TUP.fid-435f4487_177a58b92fc_-7598 POINT (-40.756111 -18.821666)\n",
       "186961 TUP.fid-435f4487_177a58b92fc_-7597 POINT (-38.766943 -12.733054)\n",
       "186962 TUP.fid-435f4487_177a58b92fc_-7596 POINT (-38.770554 -12.779721)\n",
       "186963 TUP.fid-435f4487_177a58b92fc_-7595 POINT (-44.466943 -12.065555)\n",
       "186964 TUP.fid-435f4487_177a58b92fc_-7594 POINT (-43.479166 -19.939721)\n",
       "186965 TUP.fid-435f4487_177a58b92fc_-7593 POINT (-41.623054 -20.358333)\n",
       "186966 TUP.fid-435f4487_177a58b92fc_-7592 POINT (-43.267777 -16.240277)\n",
       "186967 TUP.fid-435f4487_177a58b92fc_-7591 POINT (-43.096944 -22.143055)\n",
       "186968 TUP.fid-435f4487_177a58b92fc_-7590 POINT (-43.580277 -22.16861) \n",
       "186969 TUP.fid-435f4487_177a58b92fc_-758f POINT (-43.584444 -22.168332)\n",
       "186970 TUP.fid-435f4487_177a58b92fc_-758e POINT (-43.588333 -22.154444)\n",
       "186971 TUP.fid-435f4487_177a58b92fc_-758d POINT (-39.631388 -11.611388)\n",
       "186972 TUP.fid-435f4487_177a58b92fc_-758c POINT (-44.4625 -12.063611)  \n",
       "186973 TUP.fid-435f4487_177a58b92fc_-758b POINT (-44.701944 -23.3)     \n",
       "186974 TUP.fid-435f4487_177a58b92fc_-758a POINT (-40.715833 -15.625277)\n",
       "186975 TUP.fid-435f4487_177a58b92fc_-7589 POINT (-43.301944 -20.681943)\n",
       "       id_tup     idttup concessionaria status        numero        dtativacao\n",
       "1      1501987076 10300  CTBC           EM MANUTENCAO (34) 32521386 28/06/2001\n",
       "2      1501987077 10313  CTBC           DISPONIVEL    (34) 32687546 10/10/2001\n",
       "3      1501987078 10360  CTBC           EM MANUTENCAO (16) 36676627 24/04/2001\n",
       "4      1501987079    35  CTBC           DISPONIVEL    (34) 32688884 02/05/2008\n",
       "5      1501987080    56  CTBC           DISPONIVEL    (34) 32693675 24/04/2001\n",
       "6      1501987081    68  CTBC           DISPONIVEL    (34) 32622172 12/01/2001\n",
       "7      1501987082   101  CTBC           DISPONIVEL    (34) 32699367 25/05/2001\n",
       "8      1501987083   114  CTBC           DISPONIVEL    (34) 32682475 28/10/1998\n",
       "9      1501987084   116  CTBC           DISPONIVEL    (34) 32693673 02/04/2001\n",
       "10     1501987085   121  CTBC           DISPONIVEL    (34) 32625586 13/06/2001\n",
       "11     1501987086   196  CTBC           DISPONIVEL    (34) 32681412 09/06/1998\n",
       "12     1501987087   215  CTBC           DISPONIVEL    (34) 32521393 28/06/2001\n",
       "13     1501987088   216  CTBC           DISPONIVEL    (34) 32682807 30/06/2001\n",
       "14     1501987089   240  CTBC           EM MANUTENCAO (34) 32681549 16/10/1998\n",
       "15     1501987090   285  CTBC           DISPONIVEL    (34) 32687542 13/02/2012\n",
       "16     1501987091   326  CTBC           DISPONIVEL    (34) 32610223 03/01/2012\n",
       "17     1501987092   343  CTBC           DISPONIVEL    (34) 32521401 28/06/2001\n",
       "18     1501987093   347  CTBC           DISPONIVEL    (34) 32695532 11/02/2006\n",
       "19     1501987094   357  CTBC           EM MANUTENCAO (34) 32689857 16/02/2001\n",
       "20     1501987095   393  CTBC           DISPONIVEL    (34) 32681941 23/02/1999\n",
       "21     1501987096   403  CTBC           DISPONIVEL    (34) 32697234 20/05/1999\n",
       "22     1501987097   430  CTBC           DISPONIVEL    (34) 32687684 17/05/2001\n",
       "23     1501987098   434  CTBC           DISPONIVEL    (34) 32693277 23/06/1998\n",
       "24     1501987099   457  CTBC           DISPONIVEL    (34) 32694944 23/01/2001\n",
       "25     1501987100 10364  CTBC           DISPONIVEL    (16) 36672854 16/07/2012\n",
       "26     1501987101 10406  CTBC           DISPONIVEL    (16) 36673740 08/10/1998\n",
       "27     1501987102 10411  CTBC           DISPONIVEL    (16) 36674740 04/04/2001\n",
       "28     1501987103 10497  CTBC           DISPONIVEL    (16) 36673541 14/10/1998\n",
       "29     1501987104  8250  CTBC           DISPONIVEL    (34) 32681846 29/10/1998\n",
       "30     1501987105   227  CTBC           DISPONIVEL    (34) 32518236 07/03/2005\n",
       "...    ...        ...    ...            ...           ...           ...       \n",
       "186946 1502174021 187688 OI             DISPONIVEL    (77) 34731505 16/06/2001\n",
       "186947 1502174022 187689 OI             DISPONIVEL    (77) 34731508 16/06/2001\n",
       "186948 1502174023 187690 OI             EM MANUTENCAO (77) 34731300 23/05/1994\n",
       "186949 1502174024 187691 OI             DISPONIVEL    (77) 34731503 16/06/2001\n",
       "186950 1502174025 187721 OI             DISPONIVEL    (77) 34842200 02/03/2005\n",
       "186951 1502174026 187769 OI             EM MANUTENCAO (77) 34423023 20/05/2013\n",
       "186952 1502174027 187776 OI             EM MANUTENCAO (77) 36247001 17/11/2005\n",
       "186953 1502174028 187801 OI             DISPONIVEL    (77) 36472350 05/05/2006\n",
       "186954 1502174029 187812 OI             DISPONIVEL    (77) 34031010 29/05/2005\n",
       "186955 1502174030 187846 OI             DISPONIVEL    (77) 36782266 18/04/2013\n",
       "186956 1502174031 185958 OI             DISPONIVEL    (27) 37586028 11/01/2002\n",
       "186957 1502174032 185975 OI             DISPONIVEL    (27) 32483344 08/12/2010\n",
       "186958 1502174033 186057 OI             DISPONIVEL    (28) 35296583 01/10/2002\n",
       "186959 1502174034 185696 OI             DISPONIVEL    (27) 32595008 25/06/2001\n",
       "186960 1502174035 185963 OI             DISPONIVEL    (27) 37721056 31/12/2001\n",
       "186961 1502174036 186099 OI             EM MANUTENCAO (71) 36961103 31/07/2000\n",
       "186962 1502174037 186100 OI             EM MANUTENCAO (71) 36961778 24/11/2014\n",
       "186963 1502174038 171817 OI             DISPONIVEL    (77) 36225167 27/11/2001\n",
       "186964 1502174039 171832 OI             DISPONIVEL    (31) 38372724 28/01/1994\n",
       "186965 1502174040 171853 OI             DISPONIVEL    (28) 35481229 23/11/2020\n",
       "186966 1502174041 185562 OI             DISPONIVEL    (38) 32334083 27/12/2001\n",
       "186967 1502174042 183834 OI             DISPONIVEL    (24) 22208628 20/07/2014\n",
       "186968 1502174043 183837 OI             DISPONIVEL    (24) 24580616 08/12/2006\n",
       "186969 1502174044 183838 OI             DISPONIVEL    (24) 24581295 18/09/2000\n",
       "186970 1502174045 183839 OI             DISPONIVEL    (24) 24580778 25/07/2011\n",
       "186971 1502174046 187305 OI             DISPONIVEL    (75) 32341040 17/08/1995\n",
       "186972 1502174047 187726 OI             EM MANUTENCAO (77) 36225019 28/11/2001\n",
       "186973 1502174048 184066 OI             DISPONIVEL    (24) 33717677 10/05/2003\n",
       "186974 1502174049 187827 OI             EM MANUTENCAO (77) 34392424 26/07/2008\n",
       "186975 1502174050 184339 OI             DISPONIVEL    (31) 37461486 29/12/1999\n",
       "       dataultimacomunicacao siglauf ... bairro              \n",
       "1      01/11/2018 05h09      MG      ... CENTRO              \n",
       "2      01/11/2018 02h27      MG      ... ALVORADA            \n",
       "3      01/11/2018 06h10      SP      ... CENTRO              \n",
       "4      01/11/2018 08h02      MG      ... SAO JOSE            \n",
       "5      01/11/2018 06h01      MG      ... NOVO TEMPO II       \n",
       "6      01/11/2018 02h06      MG      ... LAGOA AZUL II       \n",
       "7      01/11/2018 05h40      MG      ... SANTO ANTONIO       \n",
       "8      01/11/2018 06h47      MG      ... PLATINA             \n",
       "9      01/11/2018 06h02      MG      ... NOVO TEMPO II       \n",
       "10     01/11/2018 03h48      MG      ... CENTRO              \n",
       "11     01/11/2018 05h59      MG      ... PIRAPITINGA         \n",
       "12     01/11/2018 04h51      MG      ... CENTRO              \n",
       "13     01/11/2018 01h38      MG      ... CENTRO              \n",
       "14     26/10/2018 10h49      MG      ... CENTRO              \n",
       "15     28/10/2018 09h27      MG      ... CENTRO              \n",
       "16     31/10/2018 10h54      MG      ... RESIDENCIAL CANAA II\n",
       "17     01/11/2018 01h42      MG      ... CENTRO              \n",
       "18     01/11/2018 04h53      MG      ... PIRAPITINGA         \n",
       "19     31/10/2018 08h29      MG      ... UNIVERSITARIO       \n",
       "20     01/11/2018 06h35      MG      ... SETOR NORTE         \n",
       "21     31/10/2018 09h48      MG      ... SAO JOSE            \n",
       "22     01/11/2018 05h34      MG      ... PIRAPITINGA         \n",
       "23     16/10/2018 09h01      MG      ... BRASIL              \n",
       "24     31/10/2018 09h37      MG      ... ALCIDES JUNQUEIRA   \n",
       "25     31/10/2018 11h12      SP      ... CENTRO              \n",
       "26     30/10/2018 06h11      SP      ... CIDADE JARDIM       \n",
       "27     01/11/2018 06h05      SP      ... CENTRO              \n",
       "28     01/11/2018 05h28      SP      ... CIDADE JARDIM       \n",
       "29     01/11/2018 06h30      MG      ... JERONIMO MENDONCA   \n",
       "30     01/11/2018 06h41      MG      ... CENTRO              \n",
       "...    ...                   ...         ...                 \n",
       "186946 10/02/2021 11h02      BA      ... ALTO CRUZEIRO       \n",
       "186947 10/02/2021 11h02      BA      ... ALTO ALEXANDRINO    \n",
       "186948 05/02/2021 03h02      BA      ... CENTRO              \n",
       "186949 11/02/2021 02h02      BA      ... CENTRO              \n",
       "186950 10/02/2021 04h02      BA      ... CENTRO              \n",
       "186951 27/01/2021 04h01      BA      ... CENTRO              \n",
       "186952 06/02/2021 08h02      BA      ... CENTRO              \n",
       "186953 11/02/2021 09h02      BA      ... CENTRO              \n",
       "186954 11/02/2021 02h02      BA      ... CENTRO              \n",
       "186955 11/02/2021 11h02      BA      ... CENTRO              \n",
       "186956 11/02/2021 01h02      ES      ... CENTRO              \n",
       "186957 08/02/2021 02h02      ES      ... CENTRO              \n",
       "186958 11/02/2021 04h02      ES      ... CENTRO              \n",
       "186959 10/02/2021 08h02      ES      ... CENTRO              \n",
       "186960 09/02/2021 11h02      ES      ... CENTRO              \n",
       "186961 26/01/2021 02h01      BA      ... CENTRO              \n",
       "186962 26/01/2021 02h01      BA      ... CENTRO              \n",
       "186963 11/02/2021 04h02      BA      ... CENTRO              \n",
       "186964 09/02/2021 01h02      MG      ... CENTRO              \n",
       "186965 09/02/2021 09h02      ES      ... CENTRO              \n",
       "186966 10/02/2021 09h02      MG      ... JOAQUIM RODRIGUES   \n",
       "186967 11/02/2021 02h02      RJ      ... BEMPOSTA            \n",
       "186968 11/02/2021 08h02      RJ      ... CENTRO              \n",
       "186969 11/02/2021 08h02      RJ      ... CENTRO              \n",
       "186970 11/02/2021 06h02      RJ      ... CENTRO              \n",
       "186971 11/02/2021 05h02      BA      ... CENTRO              \n",
       "186972 02/02/2021 04h02      BA      ... CENTRO              \n",
       "186973 11/02/2021 03h02      RJ      ... PATRIMONIO          \n",
       "186974 25/01/2021 11h01      BA      ... CENTRO              \n",
       "186975 10/02/2021 10h02      MG      ... CENTRO              \n",
       "       logradouro                   complemento cep      deficientecadeirante\n",
       "1      R MINAS GERAIS               0           38350000 NAO                 \n",
       "2      R CANELA                     0           38307090 NAO                 \n",
       "3      R MATA                       0           14240000 NAO                 \n",
       "4      R JOAO AVI                   0           38301046 NAO                 \n",
       "5      R FLAVIO OLIVEIRA VILELA     0           38305196 NAO                 \n",
       "6      R SALERME JABUR              0           38307516 NAO                 \n",
       "7      AV DEODORO                   0           38301006 NAO                 \n",
       "8      R ANTONIO PEDRO GUIMARAES    0           38307078 NAO                 \n",
       "9      R AMORIVAL GONCALVES ALMEIDA 0           38305190 NAO                 \n",
       "10     AV 31                        0           38300104 NAO                 \n",
       "11     AV NITEROI                   0           38307142 NAO                 \n",
       "12     R BENEDITO WALDEMAR DA SILVA 0           38350000 SIM                 \n",
       "13     AV VINTE E CINCO             0           38300095 NAO                 \n",
       "14     AV ONZE                      0           38300142 NAO                 \n",
       "15     AV 21                        0           38300120 NAO                 \n",
       "16     AV C-13                      0           30000000 NAO                 \n",
       "17     R OMAR OLIVEIRA DINIZ        0           38350000 NAO                 \n",
       "18     R ANTONIO CAETANO NOVAES     0           30000000 NAO                 \n",
       "19     R HORACIO PAULO SIQUEIRA     0           38302222 NAO                 \n",
       "20     R JORGE JACOB YUNES          0           38300172 NAO                 \n",
       "21     R PARTICULAR                 0           38302242 NAO                 \n",
       "22     R UBERABA                    0           38307414 NAO                 \n",
       "23     R IUGOSLAVIA                 0           38304185 NAO                 \n",
       "24     R FORTUNATO PEDROSA          0           38304108 NAO                 \n",
       "25     AV ADOLFO PAOLIELLO          0           14240000 NAO                 \n",
       "26     R JUNDIAI                    0           14240000 NAO                 \n",
       "27     R SETE DE SETEMBRO           0           14240000 NAO                 \n",
       "28     AV FONSECA                   0           14240000 NAO                 \n",
       "29     AV MINAS GERAIS              0           38305221 NAO                 \n",
       "30     AV 3                         0           38325000 NAO                 \n",
       "...    ...                          ...         ...      ...                 \n",
       "186946 RUA DIVALDO FRANCO           0           46500000 NAO                 \n",
       "186947 RUA PROF MANOEL AMANCIO      0           46500000 NAO                 \n",
       "186948 RUA VERDINHA                 0           46500000 NAO                 \n",
       "186949 RUA DOIS DE JULHO            0           46500000 NAO                 \n",
       "186950 RUA PRINCIPAL                0           47700000 NAO                 \n",
       "186951 RUA PRINCIPAL                0           47120000 NAO                 \n",
       "186952 RUA PRINCIPAL                0           47970000 NAO                 \n",
       "186953 RUA PRINCIPAL                0           46700000 NAO                 \n",
       "186954 RUA PRINCIPAL                0           45005410 NAO                 \n",
       "186955 RUA PRINCIPAL                0           46570000 NAO                 \n",
       "186956 RUA JOSE RODRIENES TIAGO     0           29776000 NAO                 \n",
       "186957 ROD ES 165                   0           29260000 NAO                 \n",
       "186958 PCA DOMINGOS JOSE MARTINS    0           29330000 NAO                 \n",
       "186959 RUA PRINCIPAL                0           29662000 NAO                 \n",
       "186960 RUA PRINCIPAL                0           29830000 NAO                 \n",
       "186961 RUA DA VALA                  0           44220000 NAO                 \n",
       "186962 RUA PORTO                    0           44220972 NAO                 \n",
       "186963 RUA PAULISTA                 0           47960000 NAO                 \n",
       "186964 RUA MIN CLOVIS SALGADO       EN          35970000 NAO                 \n",
       "186965 RUA PRINCIPAL                0           29398000 NAO                 \n",
       "186966 RUA E                        FR0         39585000 NAO                 \n",
       "186967 RUA WERNECK                  0           25840000 NAO                 \n",
       "186968 RUA JOAO CARVALHO DA ROCHA   0           27660000 NAO                 \n",
       "186969 RUA LEONI RAMOS              0           27660000 NAO                 \n",
       "186970 RUA ADILIO RIBEIRO AMORIM    0           27660000 NAO                 \n",
       "186971 RUA PEDRO MAIA MATOS         0           44642000 NAO                 \n",
       "186972 RUA TELEMAR                  0           47960000 NAO                 \n",
       "186973 ROD BR CENTO E UM            0           23970000 NAO                 \n",
       "186974 RUA PRINCIPAL                0           45150000 NAO                 \n",
       "186975 RUA STA EFIGENIA             FRFR        36480000 NAO                 \n",
       "       deficienteaudio vintequatrohoras latitude  longitude\n",
       "1      NAO             SIM              -18.69139 -49.94805\n",
       "2      NAO             NAO              -18.96833 -49.47917\n",
       "3      NAO             SIM              -21.27444 -47.31417\n",
       "4      NAO             SIM              -18.95917 -49.46417\n",
       "5      NAO             SIM              -19.00611 -49.48139\n",
       "6      NAO             SIM              -18.99722 -49.48889\n",
       "7      NAO             SIM              -18.95806 -49.46417\n",
       "8      NAO             SIM              -18.97639 -49.47778\n",
       "9      NAO             SIM              -19.00194 -49.48111\n",
       "10     NAO             SIM              -18.98194 -49.46333\n",
       "11     NAO             SIM              -18.98500 -49.47861\n",
       "12     NAO             SIM              -18.69111 -49.94306\n",
       "13     NAO             SIM              -18.98028 -49.46444\n",
       "14     NAO             SIM              -18.97278 -49.46444\n",
       "15     NAO             SIM              -18.96722 -49.45194\n",
       "16     NAO             SIM              -18.98556 -49.43472\n",
       "17     NAO             SIM              -18.69306 -49.94111\n",
       "18     NAO             SIM              -18.98333 -49.48833\n",
       "19     NAO             SIM              -18.97500 -49.44750\n",
       "20     NAO             SIM              -18.96250 -49.46778\n",
       "21     NAO             SIM              -18.98139 -49.44861\n",
       "22     NAO             SIM              -18.98889 -49.47722\n",
       "23     NAO             SIM              -19.99472 -49.44361\n",
       "24     NAO             SIM              -18.98333 -49.44917\n",
       "25     NAO             NAO              -21.27611 -47.30056\n",
       "26     NAO             SIM              -21.26472 -47.29861\n",
       "27     NAO             SIM              -21.27417 -47.30222\n",
       "28     NAO             SIM              -21.26250 -47.29611\n",
       "29     NAO             SIM              -18.99778 -49.47167\n",
       "30     NAO             SIM              -19.04222 -50.49278\n",
       "...    ...             ...              ...       ...      \n",
       "186946 NAO             SIM              -13.01917 -42.68361\n",
       "186947 NAO             SIM              -13.01556 -42.68778\n",
       "186948 NAO             SIM              -13.01389 -42.68722\n",
       "186949 NAO             SIM              -13.02000 -42.69167\n",
       "186950 NAO             SIM              -12.96222 -44.07278\n",
       "186951 NAO             SIM              -10.29417 -43.56333\n",
       "186952 NAO             SIM              -11.63194 -45.02250\n",
       "186953 NAO             SIM              -12.62722 -42.04000\n",
       "186954 NAO             SIM              -14.86028 -40.72722\n",
       "186955 NAO             SIM              -13.33500 -42.62611\n",
       "186956 NAO             SIM              -18.83472 -41.21639\n",
       "186957 NAO             NAO              -20.33917 -41.04694\n",
       "186958 NAO             SIM              -21.00917 -40.82889\n",
       "186959 NAO             SIM              -19.84611 -40.76250\n",
       "186960 NAO             SIM              -18.82167 -40.75611\n",
       "186961 NAO             NAO              -12.73305 -38.76694\n",
       "186962 NAO             NAO              -12.77972 -38.77055\n",
       "186963 NAO             SIM              -12.06555 -44.46694\n",
       "186964 NAO             NAO              -19.93972 -43.47917\n",
       "186965 NAO             SIM              -20.35833 -41.62305\n",
       "186966 NAO             SIM              -16.24028 -43.26778\n",
       "186967 NAO             NAO              -22.14306 -43.09694\n",
       "186968 NAO             NAO              -22.16861 -43.58028\n",
       "186969 NAO             NAO              -22.16833 -43.58444\n",
       "186970 NAO             SIM              -22.15444 -43.58833\n",
       "186971 NAO             NAO              -11.61139 -39.63139\n",
       "186972 NAO             NAO              -12.06361 -44.46250\n",
       "186973 NAO             SIM              -23.30000 -44.70194\n",
       "186974 NAO             SIM              -15.62528 -40.71583\n",
       "186975 NAO             SIM              -20.68194 -43.30194\n",
       "       metadado                                                                                                                 \n",
       "1      <a href=\"http://sistemas.anatel.gov.br/geonetwork/srv/por/metadata.show?id=16&currTab=simple\" target=\"_blank\">Acessar</a>\n",
       "2      <a href=\"http://sistemas.anatel.gov.br/geonetwork/srv/por/metadata.show?id=16&currTab=simple\" target=\"_blank\">Acessar</a>\n",
       "3      <a href=\"http://sistemas.anatel.gov.br/geonetwork/srv/por/metadata.show?id=16&currTab=simple\" target=\"_blank\">Acessar</a>\n",
       "4      <a href=\"http://sistemas.anatel.gov.br/geonetwork/srv/por/metadata.show?id=16&currTab=simple\" target=\"_blank\">Acessar</a>\n",
       "5      <a href=\"http://sistemas.anatel.gov.br/geonetwork/srv/por/metadata.show?id=16&currTab=simple\" target=\"_blank\">Acessar</a>\n",
       "6      <a href=\"http://sistemas.anatel.gov.br/geonetwork/srv/por/metadata.show?id=16&currTab=simple\" target=\"_blank\">Acessar</a>\n",
       "7      <a href=\"http://sistemas.anatel.gov.br/geonetwork/srv/por/metadata.show?id=16&currTab=simple\" target=\"_blank\">Acessar</a>\n",
       "8      <a href=\"http://sistemas.anatel.gov.br/geonetwork/srv/por/metadata.show?id=16&currTab=simple\" target=\"_blank\">Acessar</a>\n",
       "9      <a href=\"http://sistemas.anatel.gov.br/geonetwork/srv/por/metadata.show?id=16&currTab=simple\" target=\"_blank\">Acessar</a>\n",
       "10     <a href=\"http://sistemas.anatel.gov.br/geonetwork/srv/por/metadata.show?id=16&currTab=simple\" target=\"_blank\">Acessar</a>\n",
       "11     <a href=\"http://sistemas.anatel.gov.br/geonetwork/srv/por/metadata.show?id=16&currTab=simple\" target=\"_blank\">Acessar</a>\n",
       "12     <a href=\"http://sistemas.anatel.gov.br/geonetwork/srv/por/metadata.show?id=16&currTab=simple\" target=\"_blank\">Acessar</a>\n",
       "13     <a href=\"http://sistemas.anatel.gov.br/geonetwork/srv/por/metadata.show?id=16&currTab=simple\" target=\"_blank\">Acessar</a>\n",
       "14     <a href=\"http://sistemas.anatel.gov.br/geonetwork/srv/por/metadata.show?id=16&currTab=simple\" target=\"_blank\">Acessar</a>\n",
       "15     <a href=\"http://sistemas.anatel.gov.br/geonetwork/srv/por/metadata.show?id=16&currTab=simple\" target=\"_blank\">Acessar</a>\n",
       "16     <a href=\"http://sistemas.anatel.gov.br/geonetwork/srv/por/metadata.show?id=16&currTab=simple\" target=\"_blank\">Acessar</a>\n",
       "17     <a href=\"http://sistemas.anatel.gov.br/geonetwork/srv/por/metadata.show?id=16&currTab=simple\" target=\"_blank\">Acessar</a>\n",
       "18     <a href=\"http://sistemas.anatel.gov.br/geonetwork/srv/por/metadata.show?id=16&currTab=simple\" target=\"_blank\">Acessar</a>\n",
       "19     <a href=\"http://sistemas.anatel.gov.br/geonetwork/srv/por/metadata.show?id=16&currTab=simple\" target=\"_blank\">Acessar</a>\n",
       "20     <a href=\"http://sistemas.anatel.gov.br/geonetwork/srv/por/metadata.show?id=16&currTab=simple\" target=\"_blank\">Acessar</a>\n",
       "21     <a href=\"http://sistemas.anatel.gov.br/geonetwork/srv/por/metadata.show?id=16&currTab=simple\" target=\"_blank\">Acessar</a>\n",
       "22     <a href=\"http://sistemas.anatel.gov.br/geonetwork/srv/por/metadata.show?id=16&currTab=simple\" target=\"_blank\">Acessar</a>\n",
       "23     <a href=\"http://sistemas.anatel.gov.br/geonetwork/srv/por/metadata.show?id=16&currTab=simple\" target=\"_blank\">Acessar</a>\n",
       "24     <a href=\"http://sistemas.anatel.gov.br/geonetwork/srv/por/metadata.show?id=16&currTab=simple\" target=\"_blank\">Acessar</a>\n",
       "25     <a href=\"http://sistemas.anatel.gov.br/geonetwork/srv/por/metadata.show?id=16&currTab=simple\" target=\"_blank\">Acessar</a>\n",
       "26     <a href=\"http://sistemas.anatel.gov.br/geonetwork/srv/por/metadata.show?id=16&currTab=simple\" target=\"_blank\">Acessar</a>\n",
       "27     <a href=\"http://sistemas.anatel.gov.br/geonetwork/srv/por/metadata.show?id=16&currTab=simple\" target=\"_blank\">Acessar</a>\n",
       "28     <a href=\"http://sistemas.anatel.gov.br/geonetwork/srv/por/metadata.show?id=16&currTab=simple\" target=\"_blank\">Acessar</a>\n",
       "29     <a href=\"http://sistemas.anatel.gov.br/geonetwork/srv/por/metadata.show?id=16&currTab=simple\" target=\"_blank\">Acessar</a>\n",
       "30     <a href=\"http://sistemas.anatel.gov.br/geonetwork/srv/por/metadata.show?id=16&currTab=simple\" target=\"_blank\">Acessar</a>\n",
       "...    ...                                                                                                                      \n",
       "186946 <a href=\"http://sistemas.anatel.gov.br/geonetwork/srv/por/metadata.show?id=16&currTab=simple\" target=\"_blank\">Acessar</a>\n",
       "186947 <a href=\"http://sistemas.anatel.gov.br/geonetwork/srv/por/metadata.show?id=16&currTab=simple\" target=\"_blank\">Acessar</a>\n",
       "186948 <a href=\"http://sistemas.anatel.gov.br/geonetwork/srv/por/metadata.show?id=16&currTab=simple\" target=\"_blank\">Acessar</a>\n",
       "186949 <a href=\"http://sistemas.anatel.gov.br/geonetwork/srv/por/metadata.show?id=16&currTab=simple\" target=\"_blank\">Acessar</a>\n",
       "186950 <a href=\"http://sistemas.anatel.gov.br/geonetwork/srv/por/metadata.show?id=16&currTab=simple\" target=\"_blank\">Acessar</a>\n",
       "186951 <a href=\"http://sistemas.anatel.gov.br/geonetwork/srv/por/metadata.show?id=16&currTab=simple\" target=\"_blank\">Acessar</a>\n",
       "186952 <a href=\"http://sistemas.anatel.gov.br/geonetwork/srv/por/metadata.show?id=16&currTab=simple\" target=\"_blank\">Acessar</a>\n",
       "186953 <a href=\"http://sistemas.anatel.gov.br/geonetwork/srv/por/metadata.show?id=16&currTab=simple\" target=\"_blank\">Acessar</a>\n",
       "186954 <a href=\"http://sistemas.anatel.gov.br/geonetwork/srv/por/metadata.show?id=16&currTab=simple\" target=\"_blank\">Acessar</a>\n",
       "186955 <a href=\"http://sistemas.anatel.gov.br/geonetwork/srv/por/metadata.show?id=16&currTab=simple\" target=\"_blank\">Acessar</a>\n",
       "186956 <a href=\"http://sistemas.anatel.gov.br/geonetwork/srv/por/metadata.show?id=16&currTab=simple\" target=\"_blank\">Acessar</a>\n",
       "186957 <a href=\"http://sistemas.anatel.gov.br/geonetwork/srv/por/metadata.show?id=16&currTab=simple\" target=\"_blank\">Acessar</a>\n",
       "186958 <a href=\"http://sistemas.anatel.gov.br/geonetwork/srv/por/metadata.show?id=16&currTab=simple\" target=\"_blank\">Acessar</a>\n",
       "186959 <a href=\"http://sistemas.anatel.gov.br/geonetwork/srv/por/metadata.show?id=16&currTab=simple\" target=\"_blank\">Acessar</a>\n",
       "186960 <a href=\"http://sistemas.anatel.gov.br/geonetwork/srv/por/metadata.show?id=16&currTab=simple\" target=\"_blank\">Acessar</a>\n",
       "186961 <a href=\"http://sistemas.anatel.gov.br/geonetwork/srv/por/metadata.show?id=16&currTab=simple\" target=\"_blank\">Acessar</a>\n",
       "186962 <a href=\"http://sistemas.anatel.gov.br/geonetwork/srv/por/metadata.show?id=16&currTab=simple\" target=\"_blank\">Acessar</a>\n",
       "186963 <a href=\"http://sistemas.anatel.gov.br/geonetwork/srv/por/metadata.show?id=16&currTab=simple\" target=\"_blank\">Acessar</a>\n",
       "186964 <a href=\"http://sistemas.anatel.gov.br/geonetwork/srv/por/metadata.show?id=16&currTab=simple\" target=\"_blank\">Acessar</a>\n",
       "186965 <a href=\"http://sistemas.anatel.gov.br/geonetwork/srv/por/metadata.show?id=16&currTab=simple\" target=\"_blank\">Acessar</a>\n",
       "186966 <a href=\"http://sistemas.anatel.gov.br/geonetwork/srv/por/metadata.show?id=16&currTab=simple\" target=\"_blank\">Acessar</a>\n",
       "186967 <a href=\"http://sistemas.anatel.gov.br/geonetwork/srv/por/metadata.show?id=16&currTab=simple\" target=\"_blank\">Acessar</a>\n",
       "186968 <a href=\"http://sistemas.anatel.gov.br/geonetwork/srv/por/metadata.show?id=16&currTab=simple\" target=\"_blank\">Acessar</a>\n",
       "186969 <a href=\"http://sistemas.anatel.gov.br/geonetwork/srv/por/metadata.show?id=16&currTab=simple\" target=\"_blank\">Acessar</a>\n",
       "186970 <a href=\"http://sistemas.anatel.gov.br/geonetwork/srv/por/metadata.show?id=16&currTab=simple\" target=\"_blank\">Acessar</a>\n",
       "186971 <a href=\"http://sistemas.anatel.gov.br/geonetwork/srv/por/metadata.show?id=16&currTab=simple\" target=\"_blank\">Acessar</a>\n",
       "186972 <a href=\"http://sistemas.anatel.gov.br/geonetwork/srv/por/metadata.show?id=16&currTab=simple\" target=\"_blank\">Acessar</a>\n",
       "186973 <a href=\"http://sistemas.anatel.gov.br/geonetwork/srv/por/metadata.show?id=16&currTab=simple\" target=\"_blank\">Acessar</a>\n",
       "186974 <a href=\"http://sistemas.anatel.gov.br/geonetwork/srv/por/metadata.show?id=16&currTab=simple\" target=\"_blank\">Acessar</a>\n",
       "186975 <a href=\"http://sistemas.anatel.gov.br/geonetwork/srv/por/metadata.show?id=16&currTab=simple\" target=\"_blank\">Acessar</a>"
      ]
     },
     "metadata": {},
     "output_type": "display_data"
    }
   ],
   "source": [
    "orelhao"
   ]
  },
  {
   "cell_type": "markdown",
   "metadata": {},
   "source": [
    "##### What function would you use to read a file where fields were separated with “|”?"
   ]
  },
  {
   "cell_type": "code",
   "execution_count": 25,
   "metadata": {
    "scrolled": true
   },
   "outputs": [
    {
     "name": "stderr",
     "output_type": "stream",
     "text": [
      "Parsed with column specification:\n",
      "cols(\n",
      "  a = col_double(),\n",
      "  b = col_double(),\n",
      "  c = col_double()\n",
      ")\n"
     ]
    },
    {
     "data": {
      "text/html": [
       "<table>\n",
       "<thead><tr><th scope=col>a</th><th scope=col>b</th><th scope=col>c</th></tr></thead>\n",
       "<tbody>\n",
       "\t<tr><td>1</td><td>2</td><td>3</td></tr>\n",
       "</tbody>\n",
       "</table>\n"
      ],
      "text/latex": [
       "\\begin{tabular}{r|lll}\n",
       " a & b & c\\\\\n",
       "\\hline\n",
       "\t 1 & 2 & 3\\\\\n",
       "\\end{tabular}\n"
      ],
      "text/markdown": [
       "\n",
       "| a | b | c |\n",
       "|---|---|---|\n",
       "| 1 | 2 | 3 |\n",
       "\n"
      ],
      "text/plain": [
       "  a b c\n",
       "1 1 2 3"
      ]
     },
     "metadata": {},
     "output_type": "display_data"
    }
   ],
   "source": [
    "read_delim(\"um.csv\", \"|\")"
   ]
  },
  {
   "cell_type": "markdown",
   "metadata": {},
   "source": [
    "##### Apart from file, skip, and comment, what other arguments do read_csv() and read_tsv() have in common?"
   ]
  },
  {
   "cell_type": "markdown",
   "metadata": {},
   "source": [
    "read_csv2(file, col_names = TRUE, col_types = NULL,\n",
    "  locale = default_locale(), na = c(\"\", \"NA\"), quoted_na = TRUE,\n",
    "  quote = \"\\\"\", comment = \"\", trim_ws = TRUE, skip = 0,\n",
    "  n_max = Inf, guess_max = min(1000, n_max),\n",
    "  progress = show_progress(), skip_empty_rows = TRUE)\n",
    "\n",
    "read_tsv(file, col_names = TRUE, col_types = NULL,\n",
    "  locale = default_locale(), na = c(\"\", \"NA\"), quoted_na = TRUE,\n",
    "  quote = \"\\\"\", comment = \"\", trim_ws = TRUE, skip = 0,\n",
    "  n_max = Inf, guess_max = min(1000, n_max),\n",
    "  progress = show_progress(), skip_empty_rows = TRUE)"
   ]
  },
  {
   "cell_type": "markdown",
   "metadata": {},
   "source": [
    "##### What are the most important arguments to read_fwf()?"
   ]
  },
  {
   "cell_type": "markdown",
   "metadata": {},
   "source": [
    "col_positions"
   ]
  },
  {
   "cell_type": "markdown",
   "metadata": {},
   "source": [
    "##### Sometimes strings in a CSV file contain commas. To prevent them from causing problems they need to be surrounded by a quoting character, like \" or '. By default, read_csv() assumes that the quoting character will be \". What argument to read_csv() do you need to specify to read the following text into a data frame?"
   ]
  },
  {
   "cell_type": "code",
   "execution_count": 27,
   "metadata": {},
   "outputs": [
    {
     "name": "stderr",
     "output_type": "stream",
     "text": [
      "Warning message:\n",
      "\"1 parsing failure.\n",
      "row col  expected    actual         file\n",
      "  1  -- 2 columns 3 columns literal data\n",
      "\""
     ]
    },
    {
     "data": {
      "text/html": [
       "<table>\n",
       "<thead><tr><th scope=col>x</th><th scope=col>y</th></tr></thead>\n",
       "<tbody>\n",
       "\t<tr><td>1 </td><td>'a</td></tr>\n",
       "</tbody>\n",
       "</table>\n"
      ],
      "text/latex": [
       "\\begin{tabular}{r|ll}\n",
       " x & y\\\\\n",
       "\\hline\n",
       "\t 1  & 'a\\\\\n",
       "\\end{tabular}\n"
      ],
      "text/markdown": [
       "\n",
       "| x | y |\n",
       "|---|---|\n",
       "| 1  | 'a |\n",
       "\n"
      ],
      "text/plain": [
       "  x y \n",
       "1 1 'a"
      ]
     },
     "metadata": {},
     "output_type": "display_data"
    }
   ],
   "source": [
    "read_csv(\"x,y\\n1,'a,b'\")"
   ]
  },
  {
   "cell_type": "code",
   "execution_count": 29,
   "metadata": {},
   "outputs": [
    {
     "data": {
      "text/html": [
       "<table>\n",
       "<thead><tr><th scope=col>x</th><th scope=col>y</th></tr></thead>\n",
       "<tbody>\n",
       "\t<tr><td>1  </td><td>a,b</td></tr>\n",
       "</tbody>\n",
       "</table>\n"
      ],
      "text/latex": [
       "\\begin{tabular}{r|ll}\n",
       " x & y\\\\\n",
       "\\hline\n",
       "\t 1   & a,b\\\\\n",
       "\\end{tabular}\n"
      ],
      "text/markdown": [
       "\n",
       "| x | y |\n",
       "|---|---|\n",
       "| 1   | a,b |\n",
       "\n"
      ],
      "text/plain": [
       "  x y  \n",
       "1 1 a,b"
      ]
     },
     "metadata": {},
     "output_type": "display_data"
    }
   ],
   "source": [
    "read_csv(\"x,y\\n1,'a,b'\", quote=\"''\")"
   ]
  },
  {
   "cell_type": "markdown",
   "metadata": {},
   "source": [
    "Identify what is wrong with each of the following inline CSV files. What happens when you run the code?"
   ]
  },
  {
   "cell_type": "code",
   "execution_count": 30,
   "metadata": {},
   "outputs": [
    {
     "name": "stderr",
     "output_type": "stream",
     "text": [
      "Warning message:\n",
      "\"2 parsing failures.\n",
      "row col  expected    actual         file\n",
      "  1  -- 2 columns 3 columns literal data\n",
      "  2  -- 2 columns 3 columns literal data\n",
      "\""
     ]
    },
    {
     "data": {
      "text/html": [
       "<table>\n",
       "<thead><tr><th scope=col>a</th><th scope=col>b</th></tr></thead>\n",
       "<tbody>\n",
       "\t<tr><td>1</td><td>2</td></tr>\n",
       "\t<tr><td>4</td><td>5</td></tr>\n",
       "</tbody>\n",
       "</table>\n"
      ],
      "text/latex": [
       "\\begin{tabular}{r|ll}\n",
       " a & b\\\\\n",
       "\\hline\n",
       "\t 1 & 2\\\\\n",
       "\t 4 & 5\\\\\n",
       "\\end{tabular}\n"
      ],
      "text/markdown": [
       "\n",
       "| a | b |\n",
       "|---|---|\n",
       "| 1 | 2 |\n",
       "| 4 | 5 |\n",
       "\n"
      ],
      "text/plain": [
       "  a b\n",
       "1 1 2\n",
       "2 4 5"
      ]
     },
     "metadata": {},
     "output_type": "display_data"
    }
   ],
   "source": [
    "read_csv(\"a,b\\n1,2,3\\n4,5,6\")"
   ]
  },
  {
   "cell_type": "code",
   "execution_count": 31,
   "metadata": {},
   "outputs": [
    {
     "data": {
      "text/html": [
       "<table>\n",
       "<thead><tr><th scope=col>a</th><th scope=col>b</th><th scope=col>c</th></tr></thead>\n",
       "<tbody>\n",
       "\t<tr><td>1</td><td>2</td><td>3</td></tr>\n",
       "\t<tr><td>4</td><td>5</td><td>6</td></tr>\n",
       "</tbody>\n",
       "</table>\n"
      ],
      "text/latex": [
       "\\begin{tabular}{r|lll}\n",
       " a & b & c\\\\\n",
       "\\hline\n",
       "\t 1 & 2 & 3\\\\\n",
       "\t 4 & 5 & 6\\\\\n",
       "\\end{tabular}\n"
      ],
      "text/markdown": [
       "\n",
       "| a | b | c |\n",
       "|---|---|---|\n",
       "| 1 | 2 | 3 |\n",
       "| 4 | 5 | 6 |\n",
       "\n"
      ],
      "text/plain": [
       "  a b c\n",
       "1 1 2 3\n",
       "2 4 5 6"
      ]
     },
     "metadata": {},
     "output_type": "display_data"
    }
   ],
   "source": [
    "read_csv(\"a,b,c\\n1,2,3\\n4,5,6\")"
   ]
  },
  {
   "cell_type": "code",
   "execution_count": 32,
   "metadata": {},
   "outputs": [
    {
     "name": "stderr",
     "output_type": "stream",
     "text": [
      "Warning message:\n",
      "\"2 parsing failures.\n",
      "row col  expected    actual         file\n",
      "  1  -- 3 columns 2 columns literal data\n",
      "  2  -- 3 columns 4 columns literal data\n",
      "\""
     ]
    },
    {
     "data": {
      "text/html": [
       "<table>\n",
       "<thead><tr><th scope=col>a</th><th scope=col>b</th><th scope=col>c</th></tr></thead>\n",
       "<tbody>\n",
       "\t<tr><td>1 </td><td>2 </td><td>NA</td></tr>\n",
       "\t<tr><td>1 </td><td>2 </td><td> 3</td></tr>\n",
       "</tbody>\n",
       "</table>\n"
      ],
      "text/latex": [
       "\\begin{tabular}{r|lll}\n",
       " a & b & c\\\\\n",
       "\\hline\n",
       "\t 1  & 2  & NA\\\\\n",
       "\t 1  & 2  &  3\\\\\n",
       "\\end{tabular}\n"
      ],
      "text/markdown": [
       "\n",
       "| a | b | c |\n",
       "|---|---|---|\n",
       "| 1  | 2  | NA |\n",
       "| 1  | 2  |  3 |\n",
       "\n"
      ],
      "text/plain": [
       "  a b c \n",
       "1 1 2 NA\n",
       "2 1 2  3"
      ]
     },
     "metadata": {},
     "output_type": "display_data"
    }
   ],
   "source": [
    "read_csv(\"a,b,c\\n1,2\\n1,2,3,4\")"
   ]
  },
  {
   "cell_type": "code",
   "execution_count": 33,
   "metadata": {},
   "outputs": [
    {
     "name": "stderr",
     "output_type": "stream",
     "text": [
      "Warning message:\n",
      "\"1 parsing failure.\n",
      "row col  expected    actual         file\n",
      "  1  -- 3 columns 2 columns literal data\n",
      "\""
     ]
    },
    {
     "data": {
      "text/html": [
       "<table>\n",
       "<thead><tr><th scope=col>a</th><th scope=col>b</th><th scope=col>c</th></tr></thead>\n",
       "<tbody>\n",
       "\t<tr><td>1 </td><td>2 </td><td>NA</td></tr>\n",
       "\t<tr><td>1 </td><td>2 </td><td>34</td></tr>\n",
       "</tbody>\n",
       "</table>\n"
      ],
      "text/latex": [
       "\\begin{tabular}{r|lll}\n",
       " a & b & c\\\\\n",
       "\\hline\n",
       "\t 1  & 2  & NA\\\\\n",
       "\t 1  & 2  & 34\\\\\n",
       "\\end{tabular}\n"
      ],
      "text/markdown": [
       "\n",
       "| a | b | c |\n",
       "|---|---|---|\n",
       "| 1  | 2  | NA |\n",
       "| 1  | 2  | 34 |\n",
       "\n"
      ],
      "text/plain": [
       "  a b c \n",
       "1 1 2 NA\n",
       "2 1 2 34"
      ]
     },
     "metadata": {},
     "output_type": "display_data"
    }
   ],
   "source": [
    "read_csv(\"a,b,c\\n1,2\\n1,2,'3,4'\", quote=\"''\")"
   ]
  },
  {
   "cell_type": "code",
   "execution_count": 34,
   "metadata": {},
   "outputs": [
    {
     "name": "stderr",
     "output_type": "stream",
     "text": [
      "Warning message:\n",
      "\"2 parsing failures.\n",
      "row col                     expected    actual         file\n",
      "  1  a  closing quote at end of file           literal data\n",
      "  1  -- 2 columns                    1 columns literal data\n",
      "\""
     ]
    },
    {
     "data": {
      "text/html": [
       "<table>\n",
       "<thead><tr><th scope=col>a</th><th scope=col>b</th></tr></thead>\n",
       "<tbody>\n",
       "\t<tr><td>1 </td><td>NA</td></tr>\n",
       "</tbody>\n",
       "</table>\n"
      ],
      "text/latex": [
       "\\begin{tabular}{r|ll}\n",
       " a & b\\\\\n",
       "\\hline\n",
       "\t 1  & NA\\\\\n",
       "\\end{tabular}\n"
      ],
      "text/markdown": [
       "\n",
       "| a | b |\n",
       "|---|---|\n",
       "| 1  | NA |\n",
       "\n"
      ],
      "text/plain": [
       "  a b \n",
       "1 1 NA"
      ]
     },
     "metadata": {},
     "output_type": "display_data"
    }
   ],
   "source": [
    "read_csv(\"a,b\\n\\\"1\")"
   ]
  },
  {
   "cell_type": "code",
   "execution_count": 39,
   "metadata": {},
   "outputs": [
    {
     "data": {
      "text/html": [
       "<table>\n",
       "<thead><tr><th scope=col>a</th><th scope=col>b</th></tr></thead>\n",
       "<tbody>\n",
       "\t<tr><td>\u0001</td><td>2   </td></tr>\n",
       "</tbody>\n",
       "</table>\n"
      ],
      "text/latex": [
       "\\begin{tabular}{r|ll}\n",
       " a & b\\\\\n",
       "\\hline\n",
       "\t \u0001 & 2   \\\\\n",
       "\\end{tabular}\n"
      ],
      "text/markdown": [
       "\n",
       "| a | b |\n",
       "|---|---|\n",
       "| \u0001 | 2    |\n",
       "\n"
      ],
      "text/plain": [
       "  a    b\n",
       "1 \\001 2"
      ]
     },
     "metadata": {},
     "output_type": "display_data"
    }
   ],
   "source": [
    "read_csv(\"a,b\\n\\1,2\")"
   ]
  },
  {
   "cell_type": "code",
   "execution_count": 41,
   "metadata": {},
   "outputs": [
    {
     "data": {
      "text/html": [
       "<table>\n",
       "<thead><tr><th scope=col>a</th><th scope=col>b</th></tr></thead>\n",
       "<tbody>\n",
       "\t<tr><td>1</td><td>2</td></tr>\n",
       "\t<tr><td>a</td><td>b</td></tr>\n",
       "</tbody>\n",
       "</table>\n"
      ],
      "text/latex": [
       "\\begin{tabular}{r|ll}\n",
       " a & b\\\\\n",
       "\\hline\n",
       "\t 1 & 2\\\\\n",
       "\t a & b\\\\\n",
       "\\end{tabular}\n"
      ],
      "text/markdown": [
       "\n",
       "| a | b |\n",
       "|---|---|\n",
       "| 1 | 2 |\n",
       "| a | b |\n",
       "\n"
      ],
      "text/plain": [
       "  a b\n",
       "1 1 2\n",
       "2 a b"
      ]
     },
     "metadata": {},
     "output_type": "display_data"
    }
   ],
   "source": [
    "read_csv(\"a,b\\n1,2\\na,b\")"
   ]
  },
  {
   "cell_type": "code",
   "execution_count": 43,
   "metadata": {},
   "outputs": [
    {
     "name": "stderr",
     "output_type": "stream",
     "text": [
      "Using ',' as decimal and '.' as grouping mark. Use read_delim() for more control.\n"
     ]
    },
    {
     "data": {
      "text/html": [
       "<table>\n",
       "<thead><tr><th scope=col>a</th><th scope=col>b</th></tr></thead>\n",
       "<tbody>\n",
       "\t<tr><td>1</td><td>3</td></tr>\n",
       "</tbody>\n",
       "</table>\n"
      ],
      "text/latex": [
       "\\begin{tabular}{r|ll}\n",
       " a & b\\\\\n",
       "\\hline\n",
       "\t 1 & 3\\\\\n",
       "\\end{tabular}\n"
      ],
      "text/markdown": [
       "\n",
       "| a | b |\n",
       "|---|---|\n",
       "| 1 | 3 |\n",
       "\n"
      ],
      "text/plain": [
       "  a b\n",
       "1 1 3"
      ]
     },
     "metadata": {},
     "output_type": "display_data"
    }
   ],
   "source": [
    "read_csv2(\"a;b\\n1;3\")"
   ]
  },
  {
   "cell_type": "markdown",
   "metadata": {},
   "source": [
    "#### parse"
   ]
  },
  {
   "cell_type": "code",
   "execution_count": 45,
   "metadata": {},
   "outputs": [
    {
     "name": "stdout",
     "output_type": "stream",
     "text": [
      " logi [1:3] TRUE FALSE NA\n",
      " int [1:3] 1 2 3\n",
      " Date[1:2], format: \"2010-01-01\" \"1979-10-14\"\n"
     ]
    }
   ],
   "source": [
    "str(parse_logical(c(\"TRUE\", \"FALSE\", \"NA\")))\n",
    "#>  logi [1:3] TRUE FALSE NA\n",
    "str(parse_integer(c(\"1\", \"2\", \"3\")))\n",
    "#>  int [1:3] 1 2 3\n",
    "str(parse_date(c(\"2010-01-01\", \"1979-10-14\")))\n",
    "#>  Date[1:2], format: \"2010-01-01\" \"1979-10-14\""
   ]
  },
  {
   "cell_type": "code",
   "execution_count": 46,
   "metadata": {},
   "outputs": [
    {
     "name": "stderr",
     "output_type": "stream",
     "text": [
      "Warning message:\n",
      "\"2 parsing failures.\n",
      "row col               expected actual\n",
      "  3  -- an integer                abc\n",
      "  4  -- no trailing characters    .45\n",
      "\""
     ]
    }
   ],
   "source": [
    "x <- parse_integer(c(\"123\", \"345\", \"abc\", \"123.45\"))"
   ]
  },
  {
   "cell_type": "code",
   "execution_count": 47,
   "metadata": {},
   "outputs": [
    {
     "data": {
      "text/html": [
       "<ol class=list-inline>\n",
       "\t<li>123</li>\n",
       "\t<li>345</li>\n",
       "\t<li>&lt;NA&gt;</li>\n",
       "\t<li>&lt;NA&gt;</li>\n",
       "</ol>\n"
      ],
      "text/latex": [
       "\\begin{enumerate*}\n",
       "\\item 123\n",
       "\\item 345\n",
       "\\item <NA>\n",
       "\\item <NA>\n",
       "\\end{enumerate*}\n"
      ],
      "text/markdown": [
       "1. 123\n",
       "2. 345\n",
       "3. &lt;NA&gt;\n",
       "4. &lt;NA&gt;\n",
       "\n",
       "\n"
      ],
      "text/plain": [
       "[1] 123 345  NA  NA\n",
       "attr(,\"problems\")\n",
       "# A tibble: 2 x 4\n",
       "    row   col expected               actual\n",
       "  <int> <int> <chr>                  <chr> \n",
       "1     3    NA an integer             abc   \n",
       "2     4    NA no trailing characters .45   "
      ]
     },
     "metadata": {},
     "output_type": "display_data"
    }
   ],
   "source": [
    "x"
   ]
  },
  {
   "cell_type": "code",
   "execution_count": 49,
   "metadata": {},
   "outputs": [
    {
     "data": {
      "text/html": [
       "<table>\n",
       "<thead><tr><th scope=col>row</th><th scope=col>col</th><th scope=col>expected</th><th scope=col>actual</th></tr></thead>\n",
       "<tbody>\n",
       "\t<tr><td>3                     </td><td>NA                    </td><td>an integer            </td><td>abc                   </td></tr>\n",
       "\t<tr><td>4                     </td><td>NA                    </td><td>no trailing characters</td><td>.45                   </td></tr>\n",
       "</tbody>\n",
       "</table>\n"
      ],
      "text/latex": [
       "\\begin{tabular}{r|llll}\n",
       " row & col & expected & actual\\\\\n",
       "\\hline\n",
       "\t 3                      & NA                     & an integer             & abc                   \\\\\n",
       "\t 4                      & NA                     & no trailing characters & .45                   \\\\\n",
       "\\end{tabular}\n"
      ],
      "text/markdown": [
       "\n",
       "| row | col | expected | actual |\n",
       "|---|---|---|---|\n",
       "| 3                      | NA                     | an integer             | abc                    |\n",
       "| 4                      | NA                     | no trailing characters | .45                    |\n",
       "\n"
      ],
      "text/plain": [
       "  row col expected               actual\n",
       "1 3   NA  an integer             abc   \n",
       "2 4   NA  no trailing characters .45   "
      ]
     },
     "metadata": {},
     "output_type": "display_data"
    }
   ],
   "source": [
    "problems(x)"
   ]
  },
  {
   "cell_type": "code",
   "execution_count": 50,
   "metadata": {},
   "outputs": [
    {
     "data": {
      "text/html": [
       "1.23"
      ],
      "text/latex": [
       "1.23"
      ],
      "text/markdown": [
       "1.23"
      ],
      "text/plain": [
       "[1] 1.23"
      ]
     },
     "metadata": {},
     "output_type": "display_data"
    },
    {
     "data": {
      "text/html": [
       "1.23"
      ],
      "text/latex": [
       "1.23"
      ],
      "text/markdown": [
       "1.23"
      ],
      "text/plain": [
       "[1] 1.23"
      ]
     },
     "metadata": {},
     "output_type": "display_data"
    }
   ],
   "source": [
    "parse_double(\"1.23\")\n",
    "#> [1] 1.23\n",
    "parse_double(\"1,23\", locale = locale(decimal_mark = \",\"))\n",
    "#> [1] 1.23"
   ]
  },
  {
   "cell_type": "code",
   "execution_count": 51,
   "metadata": {},
   "outputs": [],
   "source": [
    "x <- \"4,56\""
   ]
  },
  {
   "cell_type": "code",
   "execution_count": 55,
   "metadata": {},
   "outputs": [],
   "source": [
    "y <- parse_double(x, locale = locale(decimal_mark = \",\"))"
   ]
  },
  {
   "cell_type": "code",
   "execution_count": 56,
   "metadata": {},
   "outputs": [
    {
     "data": {
      "text/html": [
       "'4,56'"
      ],
      "text/latex": [
       "'4,56'"
      ],
      "text/markdown": [
       "'4,56'"
      ],
      "text/plain": [
       "[1] \"4,56\""
      ]
     },
     "metadata": {},
     "output_type": "display_data"
    }
   ],
   "source": [
    "x"
   ]
  },
  {
   "cell_type": "code",
   "execution_count": 57,
   "metadata": {},
   "outputs": [
    {
     "data": {
      "text/html": [
       "4.56"
      ],
      "text/latex": [
       "4.56"
      ],
      "text/markdown": [
       "4.56"
      ],
      "text/plain": [
       "[1] 4.56"
      ]
     },
     "metadata": {},
     "output_type": "display_data"
    }
   ],
   "source": [
    "y"
   ]
  },
  {
   "cell_type": "code",
   "execution_count": 58,
   "metadata": {},
   "outputs": [
    {
     "data": {
      "text/html": [
       "FALSE"
      ],
      "text/latex": [
       "FALSE"
      ],
      "text/markdown": [
       "FALSE"
      ],
      "text/plain": [
       "[1] FALSE"
      ]
     },
     "metadata": {},
     "output_type": "display_data"
    }
   ],
   "source": [
    "x == y"
   ]
  },
  {
   "cell_type": "code",
   "execution_count": 64,
   "metadata": {},
   "outputs": [],
   "source": [
    "salario <- \"R$3289.56\""
   ]
  },
  {
   "cell_type": "code",
   "execution_count": 65,
   "metadata": {},
   "outputs": [
    {
     "data": {
      "text/html": [
       "3289.56"
      ],
      "text/latex": [
       "3289.56"
      ],
      "text/markdown": [
       "3289.56"
      ],
      "text/plain": [
       "[1] 3289.56"
      ]
     },
     "metadata": {},
     "output_type": "display_data"
    }
   ],
   "source": [
    "parse_number(salario)"
   ]
  },
  {
   "cell_type": "code",
   "execution_count": 66,
   "metadata": {},
   "outputs": [],
   "source": [
    "desconto <- \"20%\""
   ]
  },
  {
   "cell_type": "code",
   "execution_count": 67,
   "metadata": {},
   "outputs": [
    {
     "data": {
      "text/html": [
       "20"
      ],
      "text/latex": [
       "20"
      ],
      "text/markdown": [
       "20"
      ],
      "text/plain": [
       "[1] 20"
      ]
     },
     "metadata": {},
     "output_type": "display_data"
    }
   ],
   "source": [
    "parse_number(desconto)"
   ]
  },
  {
   "cell_type": "code",
   "execution_count": 77,
   "metadata": {},
   "outputs": [],
   "source": [
    "cpf <- \"455.678.779.32\""
   ]
  },
  {
   "cell_type": "code",
   "execution_count": 79,
   "metadata": {},
   "outputs": [
    {
     "data": {
      "text/html": [
       "45567877932"
      ],
      "text/latex": [
       "45567877932"
      ],
      "text/markdown": [
       "45567877932"
      ],
      "text/plain": [
       "[1] 45567877932"
      ]
     },
     "metadata": {},
     "output_type": "display_data"
    }
   ],
   "source": [
    "parse_number(cpf, locale = locale(grouping_mark = (\".\")))"
   ]
  },
  {
   "cell_type": "code",
   "execution_count": 80,
   "metadata": {},
   "outputs": [
    {
     "data": {
      "text/plain": [
       "[1] 56 69 6e ed 63 69 75 73"
      ]
     },
     "metadata": {},
     "output_type": "display_data"
    }
   ],
   "source": [
    "charToRaw(\"Vinícius\")"
   ]
  },
  {
   "cell_type": "code",
   "execution_count": 81,
   "metadata": {},
   "outputs": [
    {
     "data": {
      "text/html": [
       "'El Niño was particularly bad this year'"
      ],
      "text/latex": [
       "'El Niño was particularly bad this year'"
      ],
      "text/markdown": [
       "'El Niño was particularly bad this year'"
      ],
      "text/plain": [
       "[1] \"El Niño was particularly bad this year\""
      ]
     },
     "metadata": {},
     "output_type": "display_data"
    },
    {
     "data": {
      "text/html": [
       "'‚±‚ñ‚É‚¿‚Í'"
      ],
      "text/latex": [
       "'‚±‚ñ‚É‚¿‚Í'"
      ],
      "text/markdown": [
       "'‚±‚ñ‚É‚¿‚Í'"
      ],
      "text/plain": [
       "[1] \"‚±‚ñ‚É‚¿‚Í\""
      ]
     },
     "metadata": {},
     "output_type": "display_data"
    }
   ],
   "source": [
    "x1 <- \"El Ni\\xf1o was particularly bad this year\"\n",
    "x2 <- \"\\x82\\xb1\\x82\\xf1\\x82\\xc9\\x82\\xbf\\x82\\xcd\"\n",
    "\n",
    "x1\n",
    "#> [1] \"El Ni\\xf1o was particularly bad this year\"\n",
    "x2\n",
    "#> [1] \"\\x82\\xb1\\x82\\xf1\\x82\\u0242\\xbf\\x82\\xcd\""
   ]
  },
  {
   "cell_type": "code",
   "execution_count": 82,
   "metadata": {},
   "outputs": [
    {
     "name": "stderr",
     "output_type": "stream",
     "text": [
      "Your code contains a unicode char which cannot be displayed in your\n",
      "current locale and R will silently convert it to an escaped form when the\n",
      "R kernel executes this code. This can lead to subtle errors if you use\n",
      "such chars to do comparisons. For more information, please see\n",
      "https://github.com/IRkernel/repr/wiki/Problems-with-unicode-on-windows"
     ]
    },
    {
     "data": {
      "text/html": [
       "'El Niño was particularly bad this year'"
      ],
      "text/latex": [
       "'El Niño was particularly bad this year'"
      ],
      "text/markdown": [
       "'El Niño was particularly bad this year'"
      ],
      "text/plain": [
       "[1] \"El Niño was particularly bad this year\""
      ]
     },
     "metadata": {},
     "output_type": "display_data"
    },
    {
     "data": {
      "text/html": [
       "'こんにちは'"
      ],
      "text/latex": [
       "'こんにちは'"
      ],
      "text/markdown": [
       "'こんにちは'"
      ],
      "text/plain": [
       "[1] \"<U+3053><U+3093><U+306B><U+3061><U+306F>\""
      ]
     },
     "metadata": {},
     "output_type": "display_data"
    }
   ],
   "source": [
    "parse_character(x1, locale = locale(encoding = \"Latin1\"))\n",
    "#> [1] \"El Niño was particularly bad this year\"\n",
    "parse_character(x2, locale = locale(encoding = \"Shift-JIS\"))\n",
    "#> [1] \"こんにちは\""
   ]
  },
  {
   "cell_type": "code",
   "execution_count": 83,
   "metadata": {},
   "outputs": [
    {
     "data": {
      "text/html": [
       "<table>\n",
       "<thead><tr><th scope=col>encoding</th><th scope=col>confidence</th></tr></thead>\n",
       "<tbody>\n",
       "\t<tr><td>ISO-8859-1</td><td>0.46      </td></tr>\n",
       "\t<tr><td>ISO-8859-9</td><td>0.23      </td></tr>\n",
       "</tbody>\n",
       "</table>\n"
      ],
      "text/latex": [
       "\\begin{tabular}{r|ll}\n",
       " encoding & confidence\\\\\n",
       "\\hline\n",
       "\t ISO-8859-1 & 0.46      \\\\\n",
       "\t ISO-8859-9 & 0.23      \\\\\n",
       "\\end{tabular}\n"
      ],
      "text/markdown": [
       "\n",
       "| encoding | confidence |\n",
       "|---|---|\n",
       "| ISO-8859-1 | 0.46       |\n",
       "| ISO-8859-9 | 0.23       |\n",
       "\n"
      ],
      "text/plain": [
       "  encoding   confidence\n",
       "1 ISO-8859-1 0.46      \n",
       "2 ISO-8859-9 0.23      "
      ]
     },
     "metadata": {},
     "output_type": "display_data"
    }
   ],
   "source": [
    "guess_encoding(charToRaw(x1))"
   ]
  },
  {
   "cell_type": "code",
   "execution_count": 84,
   "metadata": {},
   "outputs": [
    {
     "data": {
      "text/plain": [
       "[1] \"2020-02-15 UTC\""
      ]
     },
     "metadata": {},
     "output_type": "display_data"
    }
   ],
   "source": [
    "parse_datetime(\"20200215\")"
   ]
  },
  {
   "cell_type": "code",
   "execution_count": 88,
   "metadata": {},
   "outputs": [
    {
     "data": {
      "text/plain": [
       "[1] \"2020-10-09 20:10:00 UTC\""
      ]
     },
     "metadata": {},
     "output_type": "display_data"
    }
   ],
   "source": [
    "parse_datetime(\"20201009T2010\")"
   ]
  },
  {
   "cell_type": "code",
   "execution_count": 98,
   "metadata": {},
   "outputs": [],
   "source": [
    "hoje <- \"2020/02/15\""
   ]
  },
  {
   "cell_type": "code",
   "execution_count": 99,
   "metadata": {},
   "outputs": [
    {
     "data": {
      "text/html": [
       "<time datetime=\"2015-01-02\">2015-01-02</time>"
      ],
      "text/latex": [
       "2015-01-02"
      ],
      "text/markdown": [
       "2015-01-02"
      ],
      "text/plain": [
       "[1] \"2015-01-02\""
      ]
     },
     "metadata": {},
     "output_type": "display_data"
    },
    {
     "data": {
      "text/html": [
       "<time datetime=\"2015-02-01\">2015-02-01</time>"
      ],
      "text/latex": [
       "2015-02-01"
      ],
      "text/markdown": [
       "2015-02-01"
      ],
      "text/plain": [
       "[1] \"2015-02-01\""
      ]
     },
     "metadata": {},
     "output_type": "display_data"
    },
    {
     "data": {
      "text/html": [
       "<time datetime=\"2001-02-15\">2001-02-15</time>"
      ],
      "text/latex": [
       "2001-02-15"
      ],
      "text/markdown": [
       "2001-02-15"
      ],
      "text/plain": [
       "[1] \"2001-02-15\""
      ]
     },
     "metadata": {},
     "output_type": "display_data"
    }
   ],
   "source": [
    "parse_date(\"01/02/15\", \"%m/%d/%y\")\n",
    "#> [1] \"2015-01-02\"\n",
    "parse_date(\"01/02/15\", \"%d/%m/%y\")\n",
    "#> [1] \"2015-02-01\"\n",
    "parse_date(\"01/02/15\", \"%y/%m/%d\")\n",
    "#> [1] \"2001-02-15\""
   ]
  },
  {
   "cell_type": "code",
   "execution_count": 100,
   "metadata": {},
   "outputs": [
    {
     "data": {
      "text/html": [
       "<time datetime=\"2015-01-01\">2015-01-01</time>"
      ],
      "text/latex": [
       "2015-01-01"
      ],
      "text/markdown": [
       "2015-01-01"
      ],
      "text/plain": [
       "[1] \"2015-01-01\""
      ]
     },
     "metadata": {},
     "output_type": "display_data"
    }
   ],
   "source": [
    "parse_date(\"1 janvier 2015\", \"%d %B %Y\", locale = locale(\"fr\"))\n",
    "#> [1] \"2015-01-01\""
   ]
  },
  {
   "cell_type": "markdown",
   "metadata": {},
   "source": [
    "What are the most important arguments to locale()?"
   ]
  },
  {
   "cell_type": "markdown",
   "metadata": {},
   "source": [
    "locale(date_names = \"en\", date_format = \"%AD\", time_format = \"%AT\",\n",
    "  decimal_mark = \".\", grouping_mark = \",\", tz = \"UTC\",\n",
    "  encoding = \"UTF-8\", asciify = FALSE)"
   ]
  },
  {
   "cell_type": "markdown",
   "metadata": {},
   "source": [
    "What happens if you try and set decimal_mark and grouping_mark to the same character? What happens to the default value of grouping_mark when you set decimal_mark to “,”? What happens to the default value of decimal_mark when you set the grouping_mark to “.”?"
   ]
  },
  {
   "cell_type": "code",
   "execution_count": 102,
   "metadata": {},
   "outputs": [
    {
     "ename": "ERROR",
     "evalue": "Error: `decimal_mark` and `grouping_mark` must be different\n",
     "output_type": "error",
     "traceback": [
      "Error: `decimal_mark` and `grouping_mark` must be different\nTraceback:\n",
      "1. parse_datetime(\"2020,12,13\", locale = locale(decimal_mark = \",\", \n .     grouping_mark = \",\"))",
      "2. parse_vector(x, col_datetime(format), na = na, locale = locale, \n .     trim_ws = trim_ws)",
      "3. warn_problems(parse_vector_(x, collector, na = na, locale_ = locale, \n .     trim_ws = trim_ws))",
      "4. n_problems(x)",
      "5. probs(x)",
      "6. suppressWarnings(x)",
      "7. withCallingHandlers(expr, warning = function(w) invokeRestart(\"muffleWarning\"))",
      "8. parse_vector_(x, collector, na = na, locale_ = locale, trim_ws = trim_ws)",
      "9. locale(decimal_mark = \",\", grouping_mark = \",\")",
      "10. stop(\"`decimal_mark` and `grouping_mark` must be different\", \n  .     call. = FALSE)"
     ]
    }
   ],
   "source": [
    "parse_datetime(\"2020,12,13\", locale = locale(decimal_mark = \",\", grouping_mark = \",\"))"
   ]
  },
  {
   "cell_type": "code",
   "execution_count": 109,
   "metadata": {},
   "outputs": [
    {
     "data": {
      "text/html": [
       "20201.213"
      ],
      "text/latex": [
       "20201.213"
      ],
      "text/markdown": [
       "20201.213"
      ],
      "text/plain": [
       "[1] 20201.21"
      ]
     },
     "metadata": {},
     "output_type": "display_data"
    }
   ],
   "source": [
    "parse_number(\"20.201,213\", locale = locale(decimal_mark = \",\"))"
   ]
  },
  {
   "cell_type": "code",
   "execution_count": 112,
   "metadata": {},
   "outputs": [
    {
     "data": {
      "text/html": [
       "2020.1213"
      ],
      "text/latex": [
       "2020.1213"
      ],
      "text/markdown": [
       "2020.1213"
      ],
      "text/plain": [
       "[1] 2020.121"
      ]
     },
     "metadata": {},
     "output_type": "display_data"
    }
   ],
   "source": [
    "parse_number(\"2.020,1213\", locale = locale(grouping_mark = \".\"))"
   ]
  },
  {
   "cell_type": "markdown",
   "metadata": {},
   "source": [
    "I didn’t discuss the date_format and time_format options to locale(). What do they do? Construct an example that shows when they might be useful."
   ]
  },
  {
   "cell_type": "code",
   "execution_count": 119,
   "metadata": {},
   "outputs": [],
   "source": [
    "#sei lá"
   ]
  },
  {
   "cell_type": "markdown",
   "metadata": {},
   "source": [
    "If you live outside the US, create a new locale object that encapsulates the settings for the types of file you read most commonly."
   ]
  },
  {
   "cell_type": "code",
   "execution_count": 10,
   "metadata": {},
   "outputs": [
    {
     "data": {
      "text/html": [
       "336280938"
      ],
      "text/latex": [
       "336280938"
      ],
      "text/markdown": [
       "336280938"
      ],
      "text/plain": [
       "[1] 336280938"
      ]
     },
     "metadata": {},
     "output_type": "display_data"
    }
   ],
   "source": [
    "parse_number(\"336.280.938-30\",\n",
    "            locale = locale(grouping_mark=\".\"))"
   ]
  },
  {
   "cell_type": "markdown",
   "metadata": {},
   "source": [
    "What’s the difference between read_csv() and read_csv2()?"
   ]
  },
  {
   "cell_type": "code",
   "execution_count": 11,
   "metadata": {},
   "outputs": [],
   "source": [
    "#o readcsv usa \",\" como separador e o readcsv2 usa \";\" como separador"
   ]
  },
  {
   "cell_type": "markdown",
   "metadata": {},
   "source": [
    "What are the most common encodings used in Europe? What are the most common encodings used in Asia? Do some googling to find out."
   ]
  },
  {
   "cell_type": "code",
   "execution_count": 12,
   "metadata": {},
   "outputs": [],
   "source": [
    "#UTF-8"
   ]
  },
  {
   "cell_type": "markdown",
   "metadata": {},
   "source": [
    "Generate the correct format string to parse each of the following dates and times"
   ]
  },
  {
   "cell_type": "code",
   "execution_count": 14,
   "metadata": {},
   "outputs": [],
   "source": [
    "d1 <- \"January 1, 2010\"\n",
    "d2 <- \"2015-Mar-07\"\n",
    "d3 <- \"06-Jun-2017\"\n",
    "d4 <- c(\"August 19 (2015)\", \"July 1 (2015)\")\n",
    "d5 <- \"12/30/14\" # Dec 30, 2014\n",
    "t1 <- \"1705\"\n",
    "t2 <- \"11:15:10.12 PM\""
   ]
  },
  {
   "cell_type": "code",
   "execution_count": 20,
   "metadata": {},
   "outputs": [
    {
     "data": {
      "text/html": [
       "<time datetime=\"2010-01-01\">2010-01-01</time>"
      ],
      "text/latex": [
       "2010-01-01"
      ],
      "text/markdown": [
       "2010-01-01"
      ],
      "text/plain": [
       "[1] \"2010-01-01\""
      ]
     },
     "metadata": {},
     "output_type": "display_data"
    }
   ],
   "source": [
    "parse_date(d1, \"%B %d, %Y\")"
   ]
  },
  {
   "cell_type": "code",
   "execution_count": 22,
   "metadata": {},
   "outputs": [
    {
     "data": {
      "text/html": [
       "<time datetime=\"2015-03-07\">2015-03-07</time>"
      ],
      "text/latex": [
       "2015-03-07"
      ],
      "text/markdown": [
       "2015-03-07"
      ],
      "text/plain": [
       "[1] \"2015-03-07\""
      ]
     },
     "metadata": {},
     "output_type": "display_data"
    }
   ],
   "source": [
    "parse_date(d2, \"%Y-%b-%d\")"
   ]
  },
  {
   "cell_type": "code",
   "execution_count": 24,
   "metadata": {},
   "outputs": [
    {
     "data": {
      "text/html": [
       "<time datetime=\"2017-06-06\">2017-06-06</time>"
      ],
      "text/latex": [
       "2017-06-06"
      ],
      "text/markdown": [
       "2017-06-06"
      ],
      "text/plain": [
       "[1] \"2017-06-06\""
      ]
     },
     "metadata": {},
     "output_type": "display_data"
    }
   ],
   "source": [
    "parse_date(d3, \"%d-%b-%Y\")"
   ]
  },
  {
   "cell_type": "code",
   "execution_count": null,
   "metadata": {},
   "outputs": [],
   "source": []
  },
  {
   "cell_type": "code",
   "execution_count": null,
   "metadata": {},
   "outputs": [],
   "source": []
  }
 ],
 "metadata": {
  "kernelspec": {
   "display_name": "R",
   "language": "R",
   "name": "ir"
  },
  "language_info": {
   "codemirror_mode": "r",
   "file_extension": ".r",
   "mimetype": "text/x-r-source",
   "name": "R",
   "pygments_lexer": "r",
   "version": "3.6.1"
  }
 },
 "nbformat": 4,
 "nbformat_minor": 4
}
